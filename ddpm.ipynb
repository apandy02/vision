{
 "cells": [
  {
   "cell_type": "markdown",
   "metadata": {},
   "source": [
    "# Denoising Diffusion Probabilistic Models\n",
    "\n",
    "In this notebook, we'll implement the Denoising Diffusion Probabilistic Model (DDPM) proposed in the paper [Denoising Diffusion Probabilistic Models](https://arxiv.org/abs/2006.11239) from scratch using PyTorch. We'll implement the U-Net model, the forward and reverse diffusion processes, the training loop and the sampling process."
   ]
  },
  {
   "cell_type": "code",
   "execution_count": 54,
   "metadata": {},
   "outputs": [],
   "source": [
    "import torch \n",
    "import torch.nn as nn\n",
    "import matplotlib.pyplot as plt\n",
    "import math\n",
    "import pickle\n",
    "import numpy as np\n",
    "\n",
    "from src.utils import show_torch_image"
   ]
  },
  {
   "cell_type": "markdown",
   "metadata": {},
   "source": [
    "## UNet\n",
    "At the heart of DDPMs is the U-Net model. The U-Net is a symmetrical architecture with an encoder (left) and decoder (right) path. It takes in a noisy image and predicts the amount of noise that was added to it. \n",
    "\n",
    "In the denoising process, the U-Net takes in the noisy image and the timestep and predicts the amount of noise that was added to it. We can then use this prediction to denoise the image by subtracting the predicted noise from the noisy image. In this manner, we gradually transform the noisy image to a clear image. \n",
    "\n",
    "We split the U-net into 3 blocks, Left, Middle and Right.\n",
    "\n",
    "At the root of it all is the conv block. Each layer in the left and the right blocks consists of a series of ConvBlocks followed by a maxpool or an upsample. \n",
    "\n",
    "The convblocks are resnets with group normalization and are imported from src.resnet.py. We changed the original resnets to accept \"timestep embeddings\" that we'll explore later. \n"
   ]
  },
  {
   "cell_type": "markdown",
   "metadata": {},
   "source": [
    "### Changes that need to be made to a regular [U-Net](https://arxiv.org/abs/1505.04597) for DDPM:\n",
    "\n",
    "\n",
    "1. Swap batch norm with group norm \n",
    "2. Introduce an attention mechanism at each conv block in the down and up blocks\n",
    "3. Create an embedding for the timestep\n",
    "4. Develop a 2D attention mechanism based on the one used in the text transformer model in [aryamanpandya99/transformers](https://github.com/aryamanpandya99/transformers)\n"
   ]
  },
  {
   "cell_type": "markdown",
   "metadata": {},
   "source": [
    "## ConvBlock Illustrated\n",
    "\n",
    "The ConvBlock is a resnet with group normalization followed by a 2D multihead attention. We can set the number of resblocks in the ConvBlock as a parameter. \n",
    "\n",
    "# <img src=\"images/convblock.png\" alt=\"ConvBlock Illustrated\" width=\"50%\"/>\n"
   ]
  },
  {
   "cell_type": "code",
   "execution_count": 55,
   "metadata": {},
   "outputs": [],
   "source": [
    "from src.resnet import ResBlock\n",
    "\n",
    "\n",
    "class ConvBlock(nn.Module):\n",
    "    def __init__(\n",
    "            self, \n",
    "            in_channels: int, \n",
    "            out_channels: int, \n",
    "            num_layers: int, \n",
    "            num_groups: int = 1, \n",
    "            dropout: float = 0.2, \n",
    "            activation: nn.Module = nn.ReLU,\n",
    "            timestep_emb_dim: int = None\n",
    "            ):\n",
    "        super(ConvBlock, self).__init__()\n",
    "        convs = []\n",
    "        convs.append(\n",
    "            ResBlock(\n",
    "                in_channels, \n",
    "                out_channels, \n",
    "                num_groups=num_groups, \n",
    "                dropout=dropout, \n",
    "                activation=activation,\n",
    "                timestep_emb_dim=timestep_emb_dim\n",
    "            )\n",
    "        )\n",
    "        \n",
    "        for _ in range(num_layers-1):\n",
    "            convs.append(\n",
    "                ResBlock(\n",
    "                    out_channels,\n",
    "                    out_channels, \n",
    "                    num_groups=num_groups, \n",
    "                    dropout=dropout, \n",
    "                    activation=activation,\n",
    "                    timestep_emb_dim=timestep_emb_dim\n",
    "                )\n",
    "            )\n",
    "\n",
    "        self.convs = nn.ModuleList(convs)\n",
    "\n",
    "    def forward(self, x, timestep_emb=None):\n",
    "        for res_block in self.convs:\n",
    "            x = res_block(x, timestep_emb)\n",
    "        \n",
    "        return x"
   ]
  },
  {
   "cell_type": "markdown",
   "metadata": {},
   "source": [
    "## Changes to the attention mechanism from Attention is all you need\n",
    "\n",
    "- we no longer need a d_model, the internal hidden size is determined by the number of channels which is determined by the convolutional layers leading up to the attention layer.\n",
    "\n",
    "- swap batch norm with group norm\n",
    "\n",
    "- we resize the image to one of shape: (batch_size, num_channels, height * width) so that we can perform multihead attention across the image. This closely mirrors (batch_size, embed_dim, seq_len)\n"
   ]
  },
  {
   "cell_type": "code",
   "execution_count": 56,
   "metadata": {},
   "outputs": [],
   "source": [
    "def scaled_dot_product_attention(q, k, d_k, mask):\n",
    "    scores = torch.matmul(q, k.transpose(-2, -1)) / math.sqrt(d_k)\n",
    "    if mask is True:\n",
    "        mask = torch.tril(torch.ones(scores.shape)).to(q.device)\n",
    "        scores = scores.masked_fill(mask == 0, float('-inf'))\n",
    "    return nn.Softmax(-1)(scores)\n",
    "\n",
    "class Attention(nn.Module):\n",
    "    \"\"\"\n",
    "    Multihead attention.\n",
    "    \"\"\"\n",
    "    def __init__(self,\n",
    "                 d_k: int, \n",
    "                 dropout: float, \n",
    "                 num_heads: int, \n",
    "                 num_channels: int,\n",
    "                 num_groups: int = 8,\n",
    "                 mask: bool = False\n",
    "                 ):\n",
    "        super(Attention, self).__init__()\n",
    "        self.d_k, self.num_heads = d_k, num_heads\n",
    "        self.query_projection, self.key_projection, self.value_projection = (\n",
    "            nn.Linear(num_channels, num_heads* d_k),\n",
    "            nn.Linear(num_channels, num_heads* d_k), \n",
    "            nn.Linear(num_channels, num_heads*d_k)\n",
    "        )\n",
    "        self.layer_norm = nn.LayerNorm(num_channels)\n",
    "        self.output_layer = nn.Linear(num_heads*d_k, num_channels)\n",
    "        self.dropout = nn.Dropout(dropout)\n",
    "        self.mask = mask\n",
    "        self.num_channels = num_channels\n",
    "\n",
    "    def forward(self, x, y = None):\n",
    "        \n",
    "        batch_size, n_channels, height, width = x.shape\n",
    "        x = x.view(batch_size, n_channels, height * width).permute(0, 2, 1)\n",
    "        residual = x\n",
    "        x = self.layer_norm(x)\n",
    "        \n",
    "        if y is not None:\n",
    "            k, q, v = y, x, y\n",
    "        else:\n",
    "            k, q, v = x, x, x\n",
    "        \n",
    "        k_len, q_len, v_len, batch_size = k.size(1), q.size(1), v.size(1),  q.size(0)\n",
    "        \n",
    "        k = self.key_projection(k).view(batch_size, k_len,  self.num_heads, self.d_k)\n",
    "        q = self.query_projection(q).view(batch_size, q_len,  self.num_heads, self.d_k)\n",
    "        v = self.value_projection(v).view(batch_size, v_len,  self.num_heads, self.d_k)\n",
    "        \n",
    "        attention = scaled_dot_product_attention(\n",
    "            q.transpose(1, 2), \n",
    "            k.transpose(1, 2), \n",
    "            self.d_k, \n",
    "            self.mask\n",
    "        )\n",
    "        output = torch.matmul(attention, v.transpose(1, 2))\n",
    "        output = self.output_layer(output.transpose(1, 2).contiguous().view(batch_size, q_len, -1))\n",
    "\n",
    "        h = self.dropout(output) + residual\n",
    "\n",
    "        h = h.permute(0, 2, 1).view(batch_size, n_channels, height, width)\n",
    "        \n",
    "        return h\n"
   ]
  },
  {
   "cell_type": "code",
   "execution_count": 57,
   "metadata": {},
   "outputs": [],
   "source": [
    "example_image = torch.randn(2, 3, 128, 128)\n",
    "conv_block = ConvBlock(3, 32, 2)\n",
    "h_example_image = conv_block(example_image)"
   ]
  },
  {
   "cell_type": "code",
   "execution_count": 58,
   "metadata": {},
   "outputs": [
    {
     "data": {
      "text/plain": [
       "torch.Size([2, 32, 128, 128])"
      ]
     },
     "execution_count": 58,
     "metadata": {},
     "output_type": "execute_result"
    }
   ],
   "source": [
    "attention_block = Attention(d_k=64, dropout=0.1, num_heads=3, num_channels=32, num_groups=8)\n",
    "attn_output = attention_block(h_example_image)\n",
    "attn_output.shape"
   ]
  },
  {
   "cell_type": "markdown",
   "metadata": {},
   "source": [
    "# Timestep Encoding and Embedding\n",
    "\n",
    "TODO: Explain"
   ]
  },
  {
   "cell_type": "code",
   "execution_count": 59,
   "metadata": {},
   "outputs": [],
   "source": [
    "def timestep_encoding(curr_t: torch.Tensor, T: torch.Tensor, embedding_dim: int, n=10000, device: torch.device = \"cpu\"):\n",
    "    \"\"\"\n",
    "    Naive sin/cosin positional embedding adapted for timestep embedding in DDPM\n",
    "    \"\"\"\n",
    "    curr_t = curr_t / T # normalize the timestep to be between 0 and 1\n",
    "    p = torch.zeros((curr_t.shape[-1], embedding_dim)).to(device) # initialize the positional embedding tensor\n",
    "\n",
    "    m = torch.arange(int(embedding_dim/2)).to(device) # this is divided by two because we alternate between sin and cos\n",
    "    denominators = torch.pow(n, (2*m/embedding_dim))  # compute the denominators for the sin and cos functions\n",
    "    \n",
    "    p[:, 0::2] = torch.sin(curr_t.unsqueeze(1) / denominators.unsqueeze(0))\n",
    "    p[:, 1::2] = torch.cos(curr_t.unsqueeze(1) / denominators.unsqueeze(0))\n",
    "    return p\n",
    "\n",
    "\n",
    "\n",
    "class TimestepEmbedding(nn.Module):\n",
    "    \"\"\"\n",
    "    Embeds the timestep into a higher dimensional space using a 2 layer MLP.\n",
    "    \"\"\"\n",
    "    def __init__(self,\n",
    "                in_channels: int, \n",
    "                embedding_dim: int, \n",
    "                activation: nn.Module = nn.ReLU\n",
    "                ):\n",
    "        \"\"\"\n",
    "        Args:\n",
    "            in_channels: number of input channels\n",
    "            embedding_dim: dimension of the embedding space\n",
    "            activation: activation function\n",
    "        \"\"\"\n",
    "        super(TimestepEmbedding, self).__init__()\n",
    "        self.linear1 = nn.Linear(in_channels, embedding_dim)\n",
    "        self.linear2 = nn.Linear(embedding_dim, embedding_dim)\n",
    "        self.activation = activation()\n",
    "\n",
    "    def forward(self, curr_t: torch.Tensor, T: torch.Tensor):\n",
    "        x = self.linear1(curr_t)\n",
    "        x = self.activation(x)\n",
    "        x = self.linear2(x)\n",
    "        x = self.activation(x)\n",
    "        \n",
    "        return x"
   ]
  },
  {
   "cell_type": "markdown",
   "metadata": {},
   "source": [
    "## UNet Illustrated\n",
    "\n",
    "I found that there weren't too many good illustrations of the specific UNet architecture used in DDPMs, so I decided to make my own. Hopefully this helps someone understand how UNets are implemented for diffusion, or at least understand my specific implementation better. \n",
    "\n",
    "This UNet is built off of the ConvBlocks and the TimestepEmbedding that we defined earlier. \n",
    "\n",
    "# <img src=\"images/ddpm_unet_illustrated.png\" alt=\"UNet Illustrated\" width=\"50%\"/>\n",
    "\n"
   ]
  },
  {
   "cell_type": "code",
   "execution_count": 60,
   "metadata": {},
   "outputs": [],
   "source": [
    "class LeftBlock(nn.Module):\n",
    "    \"\"\"\n",
    "    Downampling (left) side of the UNet.\n",
    "    Excludes the bottom-most conv block.\n",
    "    \"\"\"\n",
    "    def __init__(\n",
    "            self, \n",
    "            in_channels: int, \n",
    "            filters: list[int], \n",
    "            num_layers: int, \n",
    "            has_attention: list[bool] = [False, True, False], \n",
    "            num_heads: int = 8, \n",
    "            dropout: float = 0.2, \n",
    "            timestep_emb_dim: int = None\n",
    "            ):\n",
    "        super(LeftBlock, self).__init__()\n",
    "        \n",
    "        self.has_attention = has_attention\n",
    "        conv_blocks = [ConvBlock(in_channels, filters[0], num_layers, timestep_emb_dim=timestep_emb_dim)]\n",
    "        attention_blocks = [\n",
    "            Attention(\n",
    "                d_k=64, \n",
    "                dropout=0.1, \n",
    "                num_heads=num_heads, \n",
    "                num_channels=filters[0], \n",
    "            )\n",
    "        ] if has_attention else []\n",
    "        \n",
    "        for i in range(1, len(filters)):\n",
    "            conv_blocks.append(ConvBlock(filters[i-1], filters[i], num_layers, timestep_emb_dim=timestep_emb_dim))\n",
    "            if has_attention[i]:\n",
    "                attention_blocks.append(\n",
    "                    Attention(\n",
    "                        d_k=64, \n",
    "                        dropout=dropout, \n",
    "                        num_heads=num_heads, \n",
    "                        num_channels=filters[i], \n",
    "                    )\n",
    "                )\n",
    "            else:\n",
    "                attention_blocks.append(None)\n",
    "        \n",
    "        self.conv_blocks = nn.ModuleList(conv_blocks)\n",
    "        self.attention_blocks = nn.ModuleList(attention_blocks)\n",
    "        \n",
    "        self.maxpool = nn.MaxPool2d(kernel_size=2, stride=2)\n",
    "\n",
    "    def forward(self, x, timestep_emb=None):\n",
    "        residual_outputs = []\n",
    "        for i, conv_block in enumerate(self.conv_blocks):\n",
    "            x = conv_block(x, timestep_emb)\n",
    "            if self.has_attention[i]:\n",
    "                x = self.attention_blocks[i](x)\n",
    "            \n",
    "            residual_outputs.append(x)\n",
    "            x = self.maxpool(x)\n",
    "\n",
    "        return residual_outputs, x\n",
    "\n",
    "\n",
    "class RightBlock(nn.Module):\n",
    "    \"\"\"\n",
    "    Upsampling (right) side of the UNet.\n",
    "    \"\"\"\n",
    "    def __init__(\n",
    "            self, \n",
    "            filters: list[int], \n",
    "            num_layers: int, \n",
    "            has_attention: list[bool] = [False, True, False], \n",
    "            num_heads: int = 8, \n",
    "            dropout: float = 0.2,\n",
    "            timestep_emb_dim: int = None,\n",
    "            ):\n",
    "        super(RightBlock, self).__init__()\n",
    "        self.has_attention = has_attention\n",
    "\n",
    "        conv_layers = []\n",
    "        upsample_layers = []\n",
    "        attention_layers = []\n",
    "        \n",
    "        for i in range(len(filters) - 2):\n",
    "            conv_layers.append(\n",
    "                ConvBlock(filters[i], filters[i+1], num_layers, timestep_emb_dim=timestep_emb_dim)\n",
    "            )\n",
    "            upsample_layers.append(\n",
    "                nn.ConvTranspose2d(filters[i+1], filters[i+1]//2, 2, stride=2)\n",
    "            )\n",
    "\n",
    "            if has_attention[i]:\n",
    "                attention_layers.append(\n",
    "                    Attention(d_k=64, dropout=0.1, num_heads=num_heads, num_channels=filters[i+1]//2)\n",
    "                )\n",
    "            else:\n",
    "                attention_layers.append(None)\n",
    "        \n",
    "        conv_layers.append(\n",
    "            ConvBlock(filters[-2], filters[-1], num_layers, timestep_emb_dim=timestep_emb_dim)\n",
    "        )\n",
    "\n",
    "        self.conv_layers = nn.ModuleList(conv_layers)\n",
    "        self.attention_layers = nn.ModuleList(attention_layers)\n",
    "        self.upsample_layers = nn.ModuleList(upsample_layers)\n",
    "    \n",
    "    def forward(self, x, residual_outputs, timestep_emb=None):\n",
    "        for i in range(len(self.conv_layers)):\n",
    "            residual = residual_outputs[-(i+1)]\n",
    "            _, _, h, w = x.shape\n",
    "            residual = residual[:, :, :h, :w]\n",
    "\n",
    "            x = torch.cat([x, residual], dim=1)\n",
    "            x = self.conv_layers[i](x, timestep_emb)\n",
    "\n",
    "            if i < len(self.upsample_layers):\n",
    "                x = self.upsample_layers[i](x)\n",
    "\n",
    "                if self.has_attention[i]:\n",
    "                    x = self.attention_layers[i](x)\n",
    "        \n",
    "        return x\n"
   ]
  },
  {
   "cell_type": "code",
   "execution_count": 61,
   "metadata": {},
   "outputs": [],
   "source": [
    "db = LeftBlock(in_channels=3, filters=[32, 64, 128], num_layers=2, has_attention=[True, True, False], num_heads=3, timestep_emb_dim=128)"
   ]
  },
  {
   "cell_type": "code",
   "execution_count": 62,
   "metadata": {},
   "outputs": [],
   "source": [
    "timesteps = torch.randint(0, 1000, (2,))\n",
    "t_encoded = timestep_encoding(timesteps, 1000, 32)\n",
    "t_encoded.shape # N x 32\n",
    "\n",
    "time_embedding_layer = TimestepEmbedding(in_channels=32, embedding_dim=128, activation=nn.ReLU) # N x 32 -> N x 128 (embedding_dim)\n",
    "t_embedded = time_embedding_layer(curr_t=t_encoded, T=1000)"
   ]
  },
  {
   "cell_type": "code",
   "execution_count": 63,
   "metadata": {},
   "outputs": [
    {
     "data": {
      "text/plain": [
       "torch.Size([2, 128, 16, 16])"
      ]
     },
     "execution_count": 63,
     "metadata": {},
     "output_type": "execute_result"
    }
   ],
   "source": [
    "a = db(torch.randn(2, 3, 128, 128), timestep_emb=t_embedded)\n",
    "a[1].shape"
   ]
  },
  {
   "cell_type": "code",
   "execution_count": 64,
   "metadata": {},
   "outputs": [
    {
     "name": "stdout",
     "output_type": "stream",
     "text": [
      "torch.Size([2, 32, 128, 128])\n",
      "----------\n",
      "torch.Size([2, 64, 64, 64])\n",
      "----------\n",
      "torch.Size([2, 128, 32, 32])\n",
      "----------\n",
      "torch.Size([2, 128, 16, 16])\n"
     ]
    }
   ],
   "source": [
    "for residual_output in a[0]:\n",
    "    print(residual_output.shape)\n",
    "    print(\"-\"*10)\n",
    "\n",
    "print(a[1].shape)"
   ]
  },
  {
   "cell_type": "code",
   "execution_count": 65,
   "metadata": {},
   "outputs": [
    {
     "data": {
      "text/plain": [
       "torch.Size([2, 128, 32, 32])"
      ]
     },
     "execution_count": 65,
     "metadata": {},
     "output_type": "execute_result"
    }
   ],
   "source": [
    "bottom_conv = nn.Sequential(ResBlock(128, 256), nn.ConvTranspose2d(256, 128, 2, stride=2))\n",
    "bottom_conv(a[1]).shape"
   ]
  },
  {
   "cell_type": "code",
   "execution_count": 66,
   "metadata": {},
   "outputs": [],
   "source": [
    "up = RightBlock(filters=[256, 128, 64, 32], num_layers=2, has_attention=[True, True, False, False], num_heads=3, timestep_emb_dim=128)"
   ]
  },
  {
   "cell_type": "code",
   "execution_count": 67,
   "metadata": {},
   "outputs": [
    {
     "data": {
      "text/plain": [
       "torch.Size([2, 128, 32, 32])"
      ]
     },
     "execution_count": 67,
     "metadata": {},
     "output_type": "execute_result"
    }
   ],
   "source": [
    "bottom_out = bottom_conv(a[1])\n",
    "bottom_out.shape\n"
   ]
  },
  {
   "cell_type": "code",
   "execution_count": 68,
   "metadata": {},
   "outputs": [
    {
     "data": {
      "text/plain": [
       "torch.Size([2, 32, 128, 128])"
      ]
     },
     "execution_count": 68,
     "metadata": {},
     "output_type": "execute_result"
    }
   ],
   "source": [
    "up_out = up(bottom_out, a[0], t_embedded)\n",
    "up_out.shape"
   ]
  },
  {
   "cell_type": "code",
   "execution_count": 69,
   "metadata": {},
   "outputs": [],
   "source": [
    "class UNet(nn.Module):\n",
    "    \"\"\"\n",
    "    UNet model for DDPM.\n",
    "    \"\"\"\n",
    "    def __init__(self,\n",
    "                 down_filters: list[int], \n",
    "                 in_channels: int, \n",
    "                 num_layers: int, \n",
    "                 has_attention: list[bool] = [False, True, False], \n",
    "                 num_heads: int = 8,\n",
    "                 diffusion_steps: int = None,\n",
    "                 num_groups: int = 8,\n",
    "                 activation: nn.Module = nn.ReLU,\n",
    "                ):\n",
    "        super(UNet, self).__init__()\n",
    "        self.T = diffusion_steps\n",
    "        self.down_filters = down_filters\n",
    "        self.num_groups = num_groups\n",
    "        self.activation = activation()\n",
    "\n",
    "        self.time_embed_dim = down_filters[0] * 4 \n",
    "        \n",
    "        if self.T is not None:\n",
    "            self.timestep_embedding = TimestepEmbedding(\n",
    "                in_channels=self.down_filters[0], \n",
    "                embedding_dim=self.time_embed_dim, \n",
    "                activation=activation, \n",
    "            )\n",
    "        \n",
    "        \n",
    "        self.left_block = LeftBlock(\n",
    "            filters=down_filters, \n",
    "            num_layers=num_layers, \n",
    "            in_channels=in_channels, \n",
    "            has_attention=has_attention, \n",
    "            num_heads=num_heads,\n",
    "            timestep_emb_dim=self.time_embed_dim  # Add this line\n",
    "        )\n",
    "        \n",
    "        # the bottom-most (middle) conv block \n",
    "\n",
    "        self.middle_conv = ConvBlock(\n",
    "            down_filters[-1], \n",
    "            down_filters[-1]*2, \n",
    "            num_layers, \n",
    "            timestep_emb_dim=self.time_embed_dim  # Change this line\n",
    "        )\n",
    "        self.middle_attention = Attention(d_k=64, dropout=0.1, num_heads=num_heads, num_channels=down_filters[-1]*2)\n",
    "        self.middle_upsample = nn.ConvTranspose2d(down_filters[-1]*2, down_filters[-1], 2, stride=2)\n",
    "        \n",
    "        \n",
    "        self.up_filters = [down_filters[-1]*2]\n",
    "        self.up_filters.extend(reversed(down_filters))\n",
    "        self.right_block = RightBlock(\n",
    "            filters=self.up_filters, \n",
    "            num_layers=num_layers, \n",
    "            has_attention=has_attention, \n",
    "            num_heads=num_heads,\n",
    "            timestep_emb_dim=self.time_embed_dim  # Change this line\n",
    "        )\n",
    "        \n",
    "        first_group = num_groups if in_channels > num_groups else in_channels\n",
    "        self.group_norm = nn.GroupNorm(num_groups=first_group, num_channels=in_channels)  # Change this line\n",
    "\n",
    "        self.group_norm2 = nn.GroupNorm(num_groups=num_groups, num_channels=down_filters[0])\n",
    "        \n",
    "        self.conv_out = nn.Conv2d(in_channels=down_filters[0], out_channels=in_channels, kernel_size=3, padding=1)\n",
    "    \n",
    "    def forward(self, x, t):\n",
    "        if self.T is not None:\n",
    "            t_encoded = timestep_encoding(t, self.T, self.down_filters[0], n = 4000, device=x.device)\n",
    "            t_emb = self.timestep_embedding(curr_t=t_encoded, T=self.T)\n",
    "            \n",
    "            t_emb = t_emb.view(-1, self.time_embed_dim)\n",
    "        else: \n",
    "            t_emb = None\n",
    "\n",
    "        h = self.group_norm(x)\n",
    "        \n",
    "        res, h = self.left_block(h, t_emb)\n",
    "        \n",
    "        h = self.middle_conv(h, t_emb)\n",
    "        h = self.middle_attention(h)\n",
    "        h = self.middle_upsample(h)\n",
    "\n",
    "        h = self.right_block(h, res, t_emb)\n",
    "        \n",
    "        h = self.activation(self.group_norm2(h))\n",
    "\n",
    "        output = self.conv_out(h)\n",
    "        return output\n"
   ]
  },
  {
   "cell_type": "code",
   "execution_count": 70,
   "metadata": {},
   "outputs": [],
   "source": [
    "u_net = UNet(down_filters=[32, 64, 128], in_channels=3, num_layers=2, has_attention=[True, True, False], num_heads=3, diffusion_steps=1000)\n"
   ]
  },
  {
   "cell_type": "code",
   "execution_count": 71,
   "metadata": {},
   "outputs": [
    {
     "name": "stdout",
     "output_type": "stream",
     "text": [
      "The UNet model has 4,524,751 trainable parameters.\n"
     ]
    }
   ],
   "source": [
    "def count_parameters(model):\n",
    "    return sum(p.numel() for p in model.parameters() if p.requires_grad)\n",
    "\n",
    "num_params = count_parameters(u_net)\n",
    "print(f\"The UNet model has {num_params:,} trainable parameters.\")\n"
   ]
  },
  {
   "cell_type": "code",
   "execution_count": 72,
   "metadata": {},
   "outputs": [
    {
     "data": {
      "text/plain": [
       "torch.Size([16, 3, 32, 32])"
      ]
     },
     "execution_count": 72,
     "metadata": {},
     "output_type": "execute_result"
    }
   ],
   "source": [
    "device = torch.device(\"mps\" if torch.backends.mps.is_available() else \"cpu\")\n",
    "\n",
    "sample_inputs = torch.randn(16, 3, 32, 32).to(device)\n",
    "u_net.to(device)\n",
    "sample_outputs = u_net(sample_inputs, torch.randint(0, 1000, (16,)).to(device))\n",
    "sample_outputs.shape"
   ]
  },
  {
   "cell_type": "markdown",
   "metadata": {},
   "source": [
    "## Training and Validation"
   ]
  },
  {
   "cell_type": "code",
   "execution_count": 73,
   "metadata": {},
   "outputs": [],
   "source": [
    "def get_alpha_bar(beta_schedule: torch.Tensor):\n",
    "    \"\"\"\n",
    "    what we need to do here is prepare a tensor of alpha_bars where each t'th entry\n",
    "    in alphabars is the product of the alphas leading up to it. Alpha is  as 1 - beta\n",
    "    \"\"\"\n",
    "    alpha = 1. - beta_schedule\n",
    "    return alpha.cumprod(dim=0)\n",
    "\n",
    "def prepare_batch(x: torch.Tensor, T: int, alpha_bar: torch.Tensor):\n",
    "    \"\"\"\n",
    "    Prepare a batch for training by generating random timesteps and adding noise to the image.\n",
    "    We use the random timesteps to generate the amount of noise that should be added to the image at that timestep.\n",
    "    Then, we add the noise to the image.\n",
    "    \n",
    "    Args:\n",
    "        x: the input image\n",
    "        T: the number of diffusion steps\n",
    "        beta_schedule: the beta values for each timestep\n",
    "    \n",
    "    Returns:\n",
    "        the noisy image and the timestep \n",
    "        the noise that was added to the image\n",
    "    \"\"\"\n",
    "    t = torch.randint(0, T, (x.shape[0],), requires_grad=False).to(x.device)\n",
    "    e = torch.randn_like(x, requires_grad=False).to(x.device)\n",
    "    \n",
    "    alpha_bar_t = alpha_bar[t].view(-1, 1, 1, 1)\n",
    "    noisy_images = (alpha_bar_t.sqrt() * x) + ((1 - alpha_bar_t).sqrt() * e)\n",
    "    \n",
    "    return (noisy_images, t), e"
   ]
  },
  {
   "cell_type": "code",
   "execution_count": 74,
   "metadata": {},
   "outputs": [
    {
     "name": "stdout",
     "output_type": "stream",
     "text": [
      "Train dataset size: 60000\n",
      "Validation dataset size: 10000\n",
      "Number of batches in train_dl: 469\n",
      "Number of batches in valid_dl: 79\n"
     ]
    }
   ],
   "source": [
    "from torchvision import datasets, transforms\n",
    "from torch.utils.data import DataLoader\n",
    "\n",
    "# Define the transform\n",
    "transform = transforms.Compose([\n",
    "    transforms.ToTensor(),\n",
    "    transforms.Resize((32, 32)),\n",
    "    transforms.Normalize((0.1307,), (0.3081,)),  # MNIST normalization\n",
    "])\n",
    "\n",
    "# Load MNIST dataset\n",
    "train_dataset = datasets.MNIST(root='./data', train=True, download=True, transform=transform)\n",
    "valid_dataset = datasets.MNIST(root='./data', train=False, download=True, transform=transform)\n",
    "\n",
    "# Create DataLoaders\n",
    "train_dl = DataLoader(train_dataset, batch_size=128, shuffle=True)\n",
    "valid_dl = DataLoader(valid_dataset, batch_size=128, shuffle=False)\n",
    "\n",
    "# Move data to device\n",
    "train_dl = [(x.to(device), y.to(device)) for x, y in train_dl]\n",
    "valid_dl = [(x.to(device), y.to(device)) for x, y in valid_dl]\n",
    "\n",
    "print(f\"Train dataset size: {len(train_dataset)}\")\n",
    "print(f\"Validation dataset size: {len(valid_dataset)}\")\n",
    "print(f\"Number of batches in train_dl: {len(train_dl)}\")\n",
    "print(f\"Number of batches in valid_dl: {len(valid_dl)}\")"
   ]
  },
  {
   "cell_type": "code",
   "execution_count": 75,
   "metadata": {},
   "outputs": [
    {
     "name": "stdout",
     "output_type": "stream",
     "text": [
      "torch.Size([128, 1, 32, 32])\n",
      "torch.Size([128, 1, 32, 32])\n",
      "torch.Size([128])\n",
      "torch.Size([128, 1, 32, 32])\n"
     ]
    },
    {
     "data": {
      "image/png": "[encoded data removed]",
      "text/plain": [
       "<Figure size 1000x500 with 2 Axes>"
      ]
     },
     "metadata": {},
     "output_type": "display_data"
    },
    {
     "data": {
      "image/png": "[encoded data removed]",
      "text/plain": [
       "<Figure size 1000x500 with 2 Axes>"
      ]
     },
     "metadata": {},
     "output_type": "display_data"
    },
    {
     "data": {
      "image/png": "[encoded data removed]",
      "text/plain": [
       "<Figure size 1000x500 with 2 Axes>"
      ]
     },
     "metadata": {},
     "output_type": "display_data"
    },
    {
     "data": {
      "image/png": "[encoded data removed]",
      "text/plain": [
       "<Figure size 1000x500 with 2 Axes>"
      ]
     },
     "metadata": {},
     "output_type": "display_data"
    }
   ],
   "source": [
    "samples = train_dl[0]\n",
    "print(samples[0].shape)\n",
    "beta_schedule = torch.linspace(0.0001, 0.02, 1000).to(device)\n",
    "alpha_bar = get_alpha_bar(beta_schedule)\n",
    "(noisy_images, t), noise = prepare_batch(samples[0], 1000, alpha_bar)\n",
    "\n",
    "# noise and the noisy images should have the same shape\n",
    "# t should be a tensor of shape (batch_size, )\n",
    "print(noisy_images.shape)\n",
    "print(t.shape)\n",
    "print(noise.shape)\n",
    "\n",
    "def image_noise_plot(noisy_images, t, noise, num_samples=4, predicted_noise = None):\n",
    "    for i in range(num_samples):\n",
    "        t_value = t[i].item()  # Get the scalar value from the tensor\n",
    "        if predicted_noise is not None:\n",
    "            fig, (ax1, ax2, ax3) = plt.subplots(1, 3, figsize=(10, 5))\n",
    "        else:\n",
    "            fig, (ax1, ax2) = plt.subplots(1, 2, figsize=(10, 5))\n",
    "        ax1.imshow(noisy_images[i].cpu().squeeze().numpy(), cmap='gray')\n",
    "        ax1.set_title(f'Noisy Image, t = {t_value}')\n",
    "        ax1.axis('off')\n",
    "        ax2.imshow(noise[i].cpu().squeeze().numpy(), cmap='gray')\n",
    "        ax2.set_title('Noise')\n",
    "        ax2.axis('off')\n",
    "        if predicted_noise is not None:\n",
    "            ax3.imshow(predicted_noise[i].cpu().squeeze().detach().numpy(), cmap='gray')\n",
    "            ax3.set_title('Predicted Noise')\n",
    "            ax3.axis('off')\n",
    "        plt.show()\n",
    "\n",
    "image_noise_plot(noisy_images, t, noise)"
   ]
  },
  {
   "cell_type": "code",
   "execution_count": 76,
   "metadata": {},
   "outputs": [
    {
     "name": "stdout",
     "output_type": "stream",
     "text": [
      "tensor([634, 659, 528, 989, 204, 615, 782, 123,  75, 850, 388, 762,  35, 963,\n",
      "        247, 734, 784, 434, 335, 624, 920, 220, 375, 598, 548, 283, 102, 848,\n",
      "        910, 448, 237, 608, 354, 959,  67, 862, 758, 655, 357, 588, 308, 289,\n",
      "        120, 253, 173, 739, 787, 251, 998, 265, 423, 271, 967, 879, 157, 890,\n",
      "        646, 672, 908, 935, 449,  33, 729, 822, 572, 823, 373, 436, 664, 134,\n",
      "        229, 207, 243, 419, 658, 186, 800, 754, 673, 274,  97, 493, 415, 539,\n",
      "        688, 674, 450, 835,  19, 902, 521, 848, 817, 928, 347, 396, 700, 402,\n",
      "         78, 886, 505, 666, 689, 450, 410, 163,  24, 230, 653, 370, 464, 273,\n",
      "        192, 475, 140, 961, 759, 985, 123, 976, 536, 565, 423, 737, 943, 190,\n",
      "        664, 814], device='mps:0')\n"
     ]
    }
   ],
   "source": [
    "print(t)"
   ]
  },
  {
   "cell_type": "code",
   "execution_count": 77,
   "metadata": {},
   "outputs": [],
   "source": [
    "def validate_model(\n",
    "        model: nn.Module, \n",
    "        valid_loader: torch.utils.data.DataLoader, \n",
    "        loss_fn: nn.Module, \n",
    "        all_valid_loss: list, \n",
    "        T: int, \n",
    "        alpha_bar: torch.Tensor, \n",
    "        using_diffusers: bool = False\n",
    "        ):\n",
    "    model.eval()\n",
    "    valid_loss = []\n",
    "\n",
    "    with torch.no_grad():\n",
    "        for batch in valid_loader:\n",
    "            x, _ = batch\n",
    "            (noisy_images, t), e = prepare_batch(x, T, alpha_bar=alpha_bar)\n",
    "            \n",
    "            if using_diffusers:\n",
    "                y_pred = model(noisy_images, t).sample # sample for diffusers library components\n",
    "            else:\n",
    "                y_pred = model(noisy_images, t)\n",
    "            \n",
    "            loss = loss_fn(y_pred, e)\n",
    "            valid_loss.append(loss.item())\n",
    "    \n",
    "    avg_valid_loss = sum(valid_loss) / len(valid_loss)\n",
    "    all_valid_loss.append(avg_valid_loss)\n",
    "\n",
    "\n",
    "def plot_loss(all_train_loss, all_valid_loss):\n",
    "    plt.figure(figsize=(10, 5))\n",
    "    plt.plot(all_train_loss, label='Training Loss')\n",
    "    plt.plot(all_valid_loss, label='Validation Loss')\n",
    "    plt.xlabel('Epoch')\n",
    "    plt.ylabel('Loss')\n",
    "    plt.legend()\n",
    "    plt.show()\n",
    "\n",
    "\n",
    "def train_model(model: nn.Module,\n",
    "                optim: torch.optim.Optimizer,\n",
    "                loss_fn: nn.Module,\n",
    "                train_loader: torch.utils.data.DataLoader,\n",
    "                valid_loader: torch.utils.data.DataLoader,\n",
    "                beta_schedule: torch.Tensor,\n",
    "                epochs: int = 10,\n",
    "                valid_every: int = 1,\n",
    "                T: int = 1000,\n",
    "                scheduler: torch.optim.lr_scheduler._LRScheduler = None,\n",
    "                using_diffusers: bool = False\n",
    "                ):\n",
    "\n",
    "    all_train_loss = []\n",
    "    all_valid_loss = []\n",
    "\n",
    "    alpha_bar = get_alpha_bar(beta_schedule)\n",
    "    \n",
    "    for epoch in range(epochs):\n",
    "        print(f\"Epoch {epoch} of {epochs}\")\n",
    "        model.train()\n",
    "        train_loss = []\n",
    "\n",
    "        \n",
    "        for batch in train_loader:\n",
    "            x, _ = batch\n",
    "            (noisy_images, t), e = prepare_batch(x, T, alpha_bar)\n",
    "            \n",
    "            if using_diffusers:\n",
    "                y_pred = model(noisy_images, t).sample # sample for diffusers library components\n",
    "            else:\n",
    "                y_pred = model(noisy_images, t)\n",
    "\n",
    "            optim.zero_grad()\n",
    "            loss = loss_fn(y_pred, e)\n",
    "            loss.backward()\n",
    "            optim.step()\n",
    "\n",
    "            if scheduler is not None:\n",
    "                scheduler.step()\n",
    "\n",
    "            train_loss.append(loss.item())\n",
    "        \n",
    "        all_train_loss.append(sum(train_loss) / len(train_loss))\n",
    "        \n",
    "        \n",
    "        if epoch % valid_every == 0:\n",
    "            validate_model(model, valid_loader, loss_fn, all_valid_loss, T, alpha_bar, using_diffusers)\n",
    "            print(\n",
    "                f\"Epoch {epoch}, Train Loss: {sum(train_loss) / len(train_loss)}, \"\n",
    "                f\"Valid Loss: {all_valid_loss[-1]}\"\n",
    "            )\n",
    "\n",
    "    plot_loss(all_train_loss, all_valid_loss)\n"
   ]
  },
  {
   "cell_type": "code",
   "execution_count": 79,
   "metadata": {},
   "outputs": [
    {
     "name": "stdout",
     "output_type": "stream",
     "text": [
      "The UNet model has 4,374,533 trainable parameters.\n",
      "Epoch 0 of 30\n",
      "Epoch 0, Train Loss: 1.1781706919293922, Valid Loss: 0.9094465820095207\n",
      "Epoch 1 of 30\n",
      "Epoch 1, Train Loss: 0.9474121840523758, Valid Loss: 0.5937773366517658\n",
      "Epoch 2 of 30\n",
      "Epoch 2, Train Loss: 0.6748315792348085, Valid Loss: 0.32563373899158043\n",
      "Epoch 3 of 30\n",
      "Epoch 3, Train Loss: 0.44290553926150683, Valid Loss: 0.2008829797747769\n",
      "Epoch 4 of 30\n",
      "Epoch 4, Train Loss: 0.3224783441913662, Valid Loss: 0.14982643402829954\n",
      "Epoch 5 of 30\n",
      "Epoch 5, Train Loss: 0.254322877189498, Valid Loss: 0.11907171391988103\n",
      "Epoch 6 of 30\n",
      "Epoch 6, Train Loss: 0.20874902812529728, Valid Loss: 0.0999945499285867\n",
      "Epoch 7 of 30\n",
      "Epoch 7, Train Loss: 0.179994441171699, Valid Loss: 0.08870010568371302\n",
      "Epoch 8 of 30\n",
      "Epoch 8, Train Loss: 0.16070571827735983, Valid Loss: 0.08326533455637437\n",
      "Epoch 9 of 30\n",
      "Epoch 9, Train Loss: 0.14804285666200398, Valid Loss: 0.07776661811372902\n",
      "Epoch 10 of 30\n",
      "Epoch 10, Train Loss: 0.13848409414100749, Valid Loss: 0.07422110792013663\n",
      "Epoch 11 of 30\n",
      "Epoch 11, Train Loss: 0.13093264617009967, Valid Loss: 0.07244642677752278\n",
      "Epoch 12 of 30\n",
      "Epoch 12, Train Loss: 0.12469435151197764, Valid Loss: 0.0697446744653243\n",
      "Epoch 13 of 30\n",
      "Epoch 13, Train Loss: 0.11929360766019394, Valid Loss: 0.06776122296158271\n",
      "Epoch 14 of 30\n",
      "Epoch 14, Train Loss: 0.1143613102466567, Valid Loss: 0.06620057422337652\n",
      "Epoch 15 of 30\n",
      "Epoch 15, Train Loss: 0.11026599058019582, Valid Loss: 0.06374300422170494\n",
      "Epoch 16 of 30\n",
      "Epoch 16, Train Loss: 0.10686968089039646, Valid Loss: 0.06303459104103377\n",
      "Epoch 17 of 30\n",
      "Epoch 17, Train Loss: 0.1031663150611971, Valid Loss: 0.06282003021127061\n",
      "Epoch 18 of 30\n",
      "Epoch 18, Train Loss: 0.10164933901097474, Valid Loss: 0.06459376022596902\n",
      "Epoch 19 of 30\n",
      "Epoch 19, Train Loss: 0.09903283156692855, Valid Loss: 0.06360889664745029\n",
      "Epoch 20 of 30\n",
      "Epoch 20, Train Loss: 0.09719196301914736, Valid Loss: 0.06282571684333342\n",
      "Epoch 21 of 30\n",
      "Epoch 21, Train Loss: 0.09623264573784525, Valid Loss: 0.06453291345623476\n",
      "Epoch 22 of 30\n",
      "Epoch 22, Train Loss: 0.09467237835118511, Valid Loss: 0.06460572189733951\n",
      "Epoch 23 of 30\n",
      "Epoch 23, Train Loss: 0.09384661850962303, Valid Loss: 0.06521513402650628\n",
      "Epoch 24 of 30\n",
      "Epoch 24, Train Loss: 0.09358976234886437, Valid Loss: 0.0643187165260315\n",
      "Epoch 25 of 30\n",
      "Epoch 25, Train Loss: 0.09313813782831244, Valid Loss: 0.0634893216664278\n",
      "Epoch 26 of 30\n",
      "Epoch 26, Train Loss: 0.09274874988204634, Valid Loss: 0.0650058167078827\n",
      "Epoch 27 of 30\n",
      "Epoch 27, Train Loss: 0.09265854613168407, Valid Loss: 0.06471045753812488\n",
      "Epoch 28 of 30\n",
      "Epoch 28, Train Loss: 0.09283510630509492, Valid Loss: 0.06494598085933094\n",
      "Epoch 29 of 30\n",
      "Epoch 29, Train Loss: 0.09274049127089189, Valid Loss: 0.06485896482120586\n"
     ]
    },
    {
     "data": {
      "image/png": "[encoded data removed]",
      "text/plain": [
       "<Figure size 1000x500 with 1 Axes>"
      ]
     },
     "metadata": {},
     "output_type": "display_data"
    }
   ],
   "source": [
    "scratch_model = UNet(\n",
    "    down_filters=[32, 64, 128], \n",
    "    in_channels=1, \n",
    "    num_layers=2, \n",
    "    has_attention=[False, True, False], \n",
    "    num_heads=2, \n",
    "    diffusion_steps=1000,\n",
    ").to(device)\n",
    "\n",
    "num_params = count_parameters(scratch_model)\n",
    "print(f\"The UNet model has {num_params:,} trainable parameters.\")\n",
    "\n",
    "epochs = 30\n",
    "\n",
    "optim = torch.optim.Adam(scratch_model.parameters(), lr=1e-5)\n",
    "scheduler = torch.optim.lr_scheduler.OneCycleLR(optim, max_lr=2e-5, steps_per_epoch=len(train_dl), epochs=epochs)\n",
    "loss_fn = nn.MSELoss()\n",
    "\n",
    "beta_schedule = torch.linspace(0.0001, 0.02, 1000, requires_grad=False).to(device)\n",
    "\n",
    "train_model(\n",
    "    model=scratch_model, \n",
    "    optim=optim, \n",
    "    loss_fn=loss_fn, \n",
    "    train_loader=train_dl, \n",
    "    valid_loader=valid_dl, \n",
    "    beta_schedule=beta_schedule, \n",
    "    epochs=epochs, \n",
    "    valid_every=1,\n",
    "    T=1000,\n",
    "    scheduler=scheduler\n",
    ")"
   ]
  },
  {
   "cell_type": "code",
   "execution_count": 80,
   "metadata": {},
   "outputs": [],
   "source": [
    "def sample_images(model, beta_schedule, T, device, num_samples=16, using_diffusers: bool = False):\n",
    "    model.eval()\n",
    "    with torch.no_grad():\n",
    "        x = torch.randn(num_samples, 1, 32, 32).to(device)\n",
    "        alpha = 1. - beta_schedule\n",
    "        alpha_bar = get_alpha_bar(beta_schedule)\n",
    "\n",
    "        for t in reversed(range(T)):\n",
    "            time_input = torch.full((num_samples,), t, device=device)\n",
    "            beta_t = beta_schedule[t]\n",
    "            sigma_t = beta_t.sqrt()\n",
    "\n",
    "            alpha_t = alpha[t] if t > 0 else torch.tensor(1.0)\n",
    "            alpha_bar_t = alpha_bar[t]\n",
    "            \n",
    "            alpha_bar_t = alpha_bar[t]\n",
    "            z = torch.randn_like(x).to(device) if t > 0 else torch.zeros_like(x).to(device)\n",
    "            \n",
    "            if using_diffusers:\n",
    "                model_pred = model(x, time_input).sample\n",
    "            else:\n",
    "                model_pred = model(x, time_input)\n",
    "            \n",
    "            if t > 0:\n",
    "                x_t_minus_1 = (1 / alpha_t.sqrt()) * (x - (1 - alpha_t) / (1 - alpha_bar_t).sqrt() * model_pred).clamp(-1, 1) + sigma_t * z\n",
    "            else:\n",
    "                x_t_minus_1 = (1 / alpha_t.sqrt()) * (x - (1 - alpha_t) / (1 - alpha_bar_t).sqrt() * model_pred).clamp(-1, 1)\n",
    "            \n",
    "            x = x_t_minus_1\n",
    "\n",
    "    return x"
   ]
  },
  {
   "cell_type": "code",
   "execution_count": 81,
   "metadata": {},
   "outputs": [
    {
     "data": {
      "image/png": "[encoded data removed]",
      "text/plain": [
       "<Figure size 640x480 with 1 Axes>"
      ]
     },
     "metadata": {},
     "output_type": "display_data"
    },
    {
     "data": {
      "image/png": "[encoded data removed]",
      "text/plain": [
       "<Figure size 640x480 with 1 Axes>"
      ]
     },
     "metadata": {},
     "output_type": "display_data"
    },
    {
     "data": {
      "image/png": "[encoded data removed]",
      "text/plain": [
       "<Figure size 640x480 with 1 Axes>"
      ]
     },
     "metadata": {},
     "output_type": "display_data"
    },
    {
     "data": {
      "image/png": "[encoded data removed]",
      "text/plain": [
       "<Figure size 640x480 with 1 Axes>"
      ]
     },
     "metadata": {},
     "output_type": "display_data"
    },
    {
     "data": {
      "image/png": "[encoded data removed]",
      "text/plain": [
       "<Figure size 640x480 with 1 Axes>"
      ]
     },
     "metadata": {},
     "output_type": "display_data"
    },
    {
     "data": {
      "image/png": "[encoded data removed]",
      "text/plain": [
       "<Figure size 640x480 with 1 Axes>"
      ]
     },
     "metadata": {},
     "output_type": "display_data"
    },
    {
     "data": {
      "image/png": "[encoded data removed]",
      "text/plain": [
       "<Figure size 640x480 with 1 Axes>"
      ]
     },
     "metadata": {},
     "output_type": "display_data"
    },
    {
     "data": {
      "image/png": "[encoded data removed]",
      "text/plain": [
       "<Figure size 640x480 with 1 Axes>"
      ]
     },
     "metadata": {},
     "output_type": "display_data"
    },
    {
     "data": {
      "image/png": "[encoded data removed]",
      "text/plain": [
       "<Figure size 640x480 with 1 Axes>"
      ]
     },
     "metadata": {},
     "output_type": "display_data"
    },
    {
     "data": {
      "image/png": "[encoded data removed]",
      "text/plain": [
       "<Figure size 640x480 with 1 Axes>"
      ]
     },
     "metadata": {},
     "output_type": "display_data"
    },
    {
     "data": {
      "image/png": "[encoded data removed]",
      "text/plain": [
       "<Figure size 640x480 with 1 Axes>"
      ]
     },
     "metadata": {},
     "output_type": "display_data"
    },
    {
     "data": {
      "image/png": "[encoded data removed]",
      "text/plain": [
       "<Figure size 640x480 with 1 Axes>"
      ]
     },
     "metadata": {},
     "output_type": "display_data"
    },
    {
     "data": {
      "image/png": "[encoded data removed]",
      "text/plain": [
       "<Figure size 640x480 with 1 Axes>"
      ]
     },
     "metadata": {},
     "output_type": "display_data"
    },
    {
     "data": {
      "image/png": "[encoded data removed]",
      "text/plain": [
       "<Figure size 640x480 with 1 Axes>"
      ]
     },
     "metadata": {},
     "output_type": "display_data"
    },
    {
     "data": {
      "image/png": "[encoded data removed]",
      "text/plain": [
       "<Figure size 640x480 with 1 Axes>"
      ]
     },
     "metadata": {},
     "output_type": "display_data"
    },
    {
     "data": {
      "image/png": "[encoded data removed]",
      "text/plain": [
       "<Figure size 640x480 with 1 Axes>"
      ]
     },
     "metadata": {},
     "output_type": "display_data"
    }
   ],
   "source": [
    "sampled_images = sample_images(scratch_model, beta_schedule, 1000, device, num_samples=16)\n",
    "sampled_images_cpu = sampled_images.cpu()\n",
    "for i in range(16):\n",
    "    show_torch_image(sampled_images_cpu[i])"
   ]
  }
 ],
 "metadata": {
  "kernelspec": {
   "display_name": "fastai",
   "language": "python",
   "name": "python3"
  },
  "language_info": {
   "codemirror_mode": {
    "name": "ipython",
    "version": 3
   },
   "file_extension": ".py",
   "mimetype": "text/x-python",
   "name": "python",
   "nbconvert_exporter": "python",
   "pygments_lexer": "ipython3",
   "version": "3.10.15"
  }
 },
 "nbformat": 4,
 "nbformat_minor": 2
}

{
 "cells": [
  {
   "cell_type": "markdown",
   "metadata": {},
   "source": [
    "# Denoising Diffusion Probabilistic Models\n",
    "\n",
    "In this notebook, we'll implement the Denoising Diffusion Probabilistic Model (DDPM) proposed in the paper [Denoising Diffusion Probabilistic Models](https://arxiv.org/abs/2006.11239) from scratch using PyTorch. We'll implement the U-Net model, the forward and reverse diffusion processes, the training loop and the sampling process."
   ]
  },
  {
   "cell_type": "code",
   "execution_count": 107,
   "metadata": {},
   "outputs": [],
   "source": [
    "import torch \n",
    "import torch.nn as nn\n",
    "import matplotlib.pyplot as plt\n",
    "import math\n",
    "import pickle\n",
    "import numpy as np"
   ]
  },
  {
   "cell_type": "markdown",
   "metadata": {},
   "source": [
    "## UNet\n",
    "At the heart of DDPMs is the U-Net model. The U-Net is a symmetrical architecture with an encoder (left) and decoder (right) path. It takes in a noisy image and predicts the amount of noise that was added to it. \n",
    "\n",
    "In the denoising process, the U-Net takes in the noisy image and the timestep and predicts the amount of noise that was added to it. We can then use this prediction to denoise the image by subtracting the predicted noise from the noisy image. In this manner, we gradually transform the noisy image to a clear image. \n",
    "\n",
    "We split the U-net into 3 blocks, Left, Middle and Right.\n",
    "\n",
    "At the root of it all is the conv block. Each layer in the left and the right blocks consists of a series of ConvBlocks followed by a maxpool or an upsample. \n",
    "\n",
    "The convblocks are resnets with group normalization and are imported from src.resnet.py. We changed the original resnets to accept \"timestep embeddings\" that we'll explore later. \n"
   ]
  },
  {
   "cell_type": "markdown",
   "metadata": {},
   "source": [
    "### Changes that need to be made to a regular [U-Net](https://arxiv.org/abs/1505.04597) for DDPM:\n",
    "\n",
    "\n",
    "1. Swap batch norm with group norm \n",
    "2. Introduce an attention mechanism at each conv block in the down and up blocks\n",
    "3. Create an embedding for the timestep\n",
    "4. Develop a 2D attention mechanism based on the one used in the text transformer model in [aryamanpandya99/transformers](https://github.com/aryamanpandya99/transformers)\n"
   ]
  },
  {
   "cell_type": "markdown",
   "metadata": {},
   "source": [
    "## ConvBlock Illustrated\n",
    "\n",
    "The ConvBlock is a resnet with group normalization followed by a 2D multihead attention. We can set the number of resblocks in the ConvBlock as a parameter. \n",
    "\n",
    "# <img src=\"images/convblock.png\" alt=\"ConvBlock Illustrated\" width=\"50%\"/>\n"
   ]
  },
  {
   "cell_type": "code",
   "execution_count": 108,
   "metadata": {},
   "outputs": [],
   "source": [
    "from src.resnet import ResBlock\n",
    "\n",
    "\n",
    "class ConvBlock(nn.Module):\n",
    "    def __init__(\n",
    "            self, \n",
    "            in_channels: int, \n",
    "            out_channels: int, \n",
    "            num_layers: int, \n",
    "            num_groups: int = 1, \n",
    "            dropout: float = 0.2, \n",
    "            activation: nn.Module = nn.ReLU,\n",
    "            timestep_emb_dim: int = None\n",
    "            ):\n",
    "        super(ConvBlock, self).__init__()\n",
    "        convs = []\n",
    "        convs.append(\n",
    "            ResBlock(\n",
    "                in_channels, \n",
    "                out_channels, \n",
    "                num_groups=num_groups, \n",
    "                dropout=dropout, \n",
    "                activation=activation,\n",
    "                timestep_emb_dim=timestep_emb_dim\n",
    "            )\n",
    "        )\n",
    "        \n",
    "        for _ in range(num_layers-1):\n",
    "            convs.append(\n",
    "                ResBlock(\n",
    "                    out_channels,\n",
    "                    out_channels, \n",
    "                    num_groups=num_groups, \n",
    "                    dropout=dropout, \n",
    "                    activation=activation,\n",
    "                    timestep_emb_dim=timestep_emb_dim\n",
    "                )\n",
    "            )\n",
    "\n",
    "        self.convs = nn.ModuleList(convs)\n",
    "\n",
    "    def forward(self, x, timestep_emb=None):\n",
    "        for res_block in self.convs:\n",
    "            x = res_block(x, timestep_emb)\n",
    "        \n",
    "        return x"
   ]
  },
  {
   "cell_type": "markdown",
   "metadata": {},
   "source": [
    "## Changes to the attention mechanism from Attention is all you need\n",
    "\n",
    "- we no longer need a d_model, the internal hidden size is determined by the number of channels which is determined by the convolutional layers leading up to the attention layer.\n",
    "\n",
    "- swap batch norm with group norm\n",
    "\n",
    "- we resize the image to one of shape: (batch_size, num_channels, height * width) so that we can perform multihead attention across the image. This closely mirrors (batch_size, embed_dim, seq_len)\n"
   ]
  },
  {
   "cell_type": "code",
   "execution_count": 109,
   "metadata": {},
   "outputs": [],
   "source": [
    "def scaled_dot_product_attention(q, k, d_k, mask):\n",
    "    scores = torch.matmul(q, k.transpose(-2, -1)) / math.sqrt(d_k)\n",
    "    if mask is True:\n",
    "        mask = torch.tril(torch.ones(scores.shape)).to(q.device)\n",
    "        scores = scores.masked_fill(mask == 0, float('-inf'))\n",
    "    return nn.Softmax(-1)(scores)\n",
    "\n",
    "class Attention(nn.Module):\n",
    "    \"\"\"\n",
    "    Multihead attention.\n",
    "    \"\"\"\n",
    "    def __init__(self,\n",
    "                 d_k: int, \n",
    "                 dropout: float, \n",
    "                 num_heads: int, \n",
    "                 num_channels: int,\n",
    "                 num_groups: int = 8,\n",
    "                 mask: bool = False\n",
    "                 ):\n",
    "        super(Attention, self).__init__()\n",
    "        self.d_k, self.num_heads = d_k, num_heads\n",
    "        self.query_projection, self.key_projection, self.value_projection = (\n",
    "            nn.Linear(num_channels, num_heads* d_k),\n",
    "            nn.Linear(num_channels, num_heads* d_k), \n",
    "            nn.Linear(num_channels, num_heads*d_k)\n",
    "        )\n",
    "        self.layer_norm = nn.LayerNorm(num_channels)\n",
    "        self.output_layer = nn.Linear(num_heads*d_k, num_channels)\n",
    "        self.dropout = nn.Dropout(dropout)\n",
    "        self.mask = mask\n",
    "        self.num_channels = num_channels\n",
    "\n",
    "    def forward(self, x, y = None):\n",
    "        \n",
    "        batch_size, n_channels, height, width = x.shape\n",
    "        x = x.view(batch_size, n_channels, height * width).permute(0, 2, 1)\n",
    "        residual = x\n",
    "        x = self.layer_norm(x)\n",
    "        \n",
    "        if y is not None:\n",
    "            k, q, v = y, x, y\n",
    "        else:\n",
    "            k, q, v = x, x, x\n",
    "        \n",
    "        k_len, q_len, v_len, batch_size = k.size(1), q.size(1), v.size(1),  q.size(0)\n",
    "        \n",
    "        k = self.key_projection(k).view(batch_size, k_len,  self.num_heads, self.d_k)\n",
    "        q = self.query_projection(q).view(batch_size, q_len,  self.num_heads, self.d_k)\n",
    "        v = self.value_projection(v).view(batch_size, v_len,  self.num_heads, self.d_k)\n",
    "        \n",
    "        attention = scaled_dot_product_attention(\n",
    "            q.transpose(1, 2), \n",
    "            k.transpose(1, 2), \n",
    "            self.d_k, \n",
    "            self.mask\n",
    "        )\n",
    "        output = torch.matmul(attention, v.transpose(1, 2))\n",
    "        output = self.output_layer(output.transpose(1, 2).contiguous().view(batch_size, q_len, -1))\n",
    "\n",
    "        h = self.dropout(output) + residual\n",
    "\n",
    "        h = h.permute(0, 2, 1).view(batch_size, n_channels, height, width)\n",
    "        \n",
    "        return h\n"
   ]
  },
  {
   "cell_type": "code",
   "execution_count": 110,
   "metadata": {},
   "outputs": [],
   "source": [
    "example_image = torch.randn(2, 3, 128, 128)\n",
    "conv_block = ConvBlock(3, 32, 2)\n",
    "h_example_image = conv_block(example_image)"
   ]
  },
  {
   "cell_type": "code",
   "execution_count": 111,
   "metadata": {},
   "outputs": [
    {
     "data": {
      "text/plain": [
       "torch.Size([2, 32, 128, 128])"
      ]
     },
     "execution_count": 111,
     "metadata": {},
     "output_type": "execute_result"
    }
   ],
   "source": [
    "attention_block = Attention(d_k=64, dropout=0.1, num_heads=3, num_channels=32, num_groups=8)\n",
    "attn_output = attention_block(h_example_image)\n",
    "attn_output.shape"
   ]
  },
  {
   "cell_type": "markdown",
   "metadata": {},
   "source": [
    "# Timestep Encoding and Embedding\n",
    "\n",
    "TODO: Explain"
   ]
  },
  {
   "cell_type": "code",
   "execution_count": 112,
   "metadata": {},
   "outputs": [],
   "source": [
    "def timestep_encoding(curr_t: torch.Tensor, T: torch.Tensor, embedding_dim: int, n=10000, device: torch.device = \"cpu\"):\n",
    "    \"\"\"\n",
    "    Naive sin/cosin positional embedding adapted for timestep embedding in DDPM\n",
    "    \"\"\"\n",
    "    curr_t = curr_t / T # normalize the timestep to be between 0 and 1\n",
    "    p = torch.zeros((curr_t.shape[-1], embedding_dim)).to(device) # initialize the positional embedding tensor\n",
    "\n",
    "    m = torch.arange(int(embedding_dim/2)).to(device) # this is divided by two because we alternate between sin and cos\n",
    "    denominators = torch.pow(n, (2*m/embedding_dim))  # compute the denominators for the sin and cos functions\n",
    "    \n",
    "    p[:, 0::2] = torch.sin(curr_t.unsqueeze(1) / denominators.unsqueeze(0))\n",
    "    p[:, 1::2] = torch.cos(curr_t.unsqueeze(1) / denominators.unsqueeze(0))\n",
    "    return p\n",
    "\n",
    "\n",
    "\n",
    "class TimestepEmbedding(nn.Module):\n",
    "    \"\"\"\n",
    "    Embeds the timestep into a higher dimensional space using a 2 layer MLP.\n",
    "    \"\"\"\n",
    "    def __init__(self,\n",
    "                in_channels: int, \n",
    "                embedding_dim: int, \n",
    "                activation: nn.Module = nn.ReLU\n",
    "                ):\n",
    "        \"\"\"\n",
    "        Args:\n",
    "            in_channels: number of input channels\n",
    "            embedding_dim: dimension of the embedding space\n",
    "            activation: activation function\n",
    "        \"\"\"\n",
    "        super(TimestepEmbedding, self).__init__()\n",
    "        self.linear1 = nn.Linear(in_channels, embedding_dim)\n",
    "        self.linear2 = nn.Linear(embedding_dim, embedding_dim)\n",
    "        self.activation = activation()\n",
    "\n",
    "    def forward(self, curr_t: torch.Tensor, T: torch.Tensor):\n",
    "        x = self.linear1(curr_t)\n",
    "        x = self.activation(x)\n",
    "        x = self.linear2(x)\n",
    "        x = self.activation(x)\n",
    "        \n",
    "        return x"
   ]
  },
  {
   "cell_type": "markdown",
   "metadata": {},
   "source": [
    "## UNet Illustrated\n",
    "\n",
    "I found that there weren't too many good illustrations of the specific UNet architecture used in DDPMs, so I decided to make my own. Hopefully this helps someone understand how UNets are implemented for diffusion, or at least understand my specific implementation better. \n",
    "\n",
    "This UNet is built off of the ConvBlocks and the TimestepEmbedding that we defined earlier. \n",
    "\n",
    "# <img src=\"images/ddpm_unet_illustrated.png\" alt=\"UNet Illustrated\" width=\"50%\"/>\n",
    "\n"
   ]
  },
  {
   "cell_type": "code",
   "execution_count": 113,
   "metadata": {},
   "outputs": [],
   "source": [
    "class LeftBlock(nn.Module):\n",
    "    \"\"\"\n",
    "    Downampling (left) side of the UNet.\n",
    "    Excludes the bottom-most conv block.\n",
    "    \"\"\"\n",
    "    def __init__(\n",
    "            self, \n",
    "            in_channels: int, \n",
    "            filters: list[int], \n",
    "            num_layers: int, \n",
    "            has_attention: bool = False, \n",
    "            num_heads: int = 8, \n",
    "            dropout: float = 0.2, \n",
    "            timestep_emb_dim: int = None\n",
    "            ):\n",
    "        super(LeftBlock, self).__init__()\n",
    "        \n",
    "        self.has_attention = has_attention\n",
    "        conv_blocks = [ConvBlock(in_channels, filters[0], num_layers, timestep_emb_dim=timestep_emb_dim)]\n",
    "        attention_blocks = [\n",
    "            Attention(\n",
    "                d_k=64, \n",
    "                dropout=0.1, \n",
    "                num_heads=num_heads, \n",
    "                num_channels=filters[0], \n",
    "            )\n",
    "        ] if has_attention else []\n",
    "        \n",
    "        for i in range(1, len(filters)):\n",
    "            conv_blocks.append(ConvBlock(filters[i-1], filters[i], num_layers, timestep_emb_dim=timestep_emb_dim))\n",
    "            if has_attention:\n",
    "                attention_blocks.append(\n",
    "                    Attention(\n",
    "                        d_k=64, \n",
    "                        dropout=0.1, \n",
    "                        num_heads=num_heads, \n",
    "                        num_channels=filters[i], \n",
    "                    )\n",
    "                )\n",
    "        \n",
    "        self.conv_blocks = nn.ModuleList(conv_blocks)\n",
    "        self.attention_blocks = nn.ModuleList(attention_blocks)\n",
    "        \n",
    "        self.maxpool = nn.MaxPool2d(kernel_size=2, stride=2)\n",
    "\n",
    "    def forward(self, x, timestep_emb=None):\n",
    "        residual_outputs = []\n",
    "        for i, conv_block in enumerate(self.conv_blocks):\n",
    "            x = conv_block(x, timestep_emb)\n",
    "            if self.has_attention:\n",
    "                x = self.attention_blocks[i](x)\n",
    "            \n",
    "            residual_outputs.append(x)\n",
    "            x = self.maxpool(x)\n",
    "\n",
    "        return residual_outputs, x\n",
    "\n",
    "\n",
    "class RightBlock(nn.Module):\n",
    "    \"\"\"\n",
    "    Upsampling (right) side of the UNet.\n",
    "    \"\"\"\n",
    "    def __init__(\n",
    "            self, \n",
    "            filters: list[int], \n",
    "            num_layers: int, \n",
    "            has_attention: bool = False, \n",
    "            num_heads: int = 8, \n",
    "            dropout: float = 0.2,\n",
    "            timestep_emb_dim: int = None,\n",
    "            ):\n",
    "        super(RightBlock, self).__init__()\n",
    "        self.has_attention = has_attention\n",
    "\n",
    "        conv_layers = []\n",
    "        upsample_layers = []\n",
    "        attention_layers = []\n",
    "        \n",
    "        for i in range(len(filters) - 2):\n",
    "            conv_layers.append(\n",
    "                ConvBlock(filters[i], filters[i+1], num_layers, timestep_emb_dim=timestep_emb_dim)\n",
    "            )\n",
    "            upsample_layers.append(\n",
    "                nn.ConvTranspose2d(filters[i+1], filters[i+1]//2, 2, stride=2)\n",
    "            )\n",
    "\n",
    "            if has_attention:\n",
    "                attention_layers.append(\n",
    "                    Attention(d_k=64, dropout=0.1, num_heads=num_heads, num_channels=filters[i+1]//2)\n",
    "                )\n",
    "        conv_layers.append(\n",
    "            ConvBlock(filters[-2], filters[-1], num_layers, timestep_emb_dim=timestep_emb_dim)\n",
    "        )\n",
    "\n",
    "        self.conv_layers = nn.ModuleList(conv_layers)\n",
    "        self.attention_layers = nn.ModuleList(attention_layers)\n",
    "        self.upsample_layers = nn.ModuleList(upsample_layers)\n",
    "    \n",
    "    def forward(self, x, residual_outputs, timestep_emb=None):\n",
    "        for i in range(len(self.conv_layers)):\n",
    "            residual = residual_outputs[-(i+1)]\n",
    "            _, _, h, w = x.shape\n",
    "            residual = residual[:, :, :h, :w]\n",
    "\n",
    "            x = torch.cat([x, residual], dim=1)\n",
    "            x = self.conv_layers[i](x, timestep_emb)\n",
    "\n",
    "            if i < len(self.upsample_layers):\n",
    "                x = self.upsample_layers[i](x)\n",
    "\n",
    "                if self.has_attention:\n",
    "                    x = self.attention_layers[i](x)\n",
    "        \n",
    "        return x\n"
   ]
  },
  {
   "cell_type": "code",
   "execution_count": 114,
   "metadata": {},
   "outputs": [],
   "source": [
    "db = LeftBlock(in_channels=3, filters=[32, 64, 128], num_layers=2, has_attention=True, num_heads=3, timestep_emb_dim=128)"
   ]
  },
  {
   "cell_type": "code",
   "execution_count": 115,
   "metadata": {},
   "outputs": [],
   "source": [
    "timesteps = torch.randint(0, 1000, (2,))\n",
    "t_encoded = timestep_encoding(timesteps, 1000, 32)\n",
    "t_encoded.shape # N x 32\n",
    "\n",
    "time_embedding_layer = TimestepEmbedding(in_channels=32, embedding_dim=128, activation=nn.ReLU) # N x 32 -> N x 128 (embedding_dim)\n",
    "t_embedded = time_embedding_layer(curr_t=t_encoded, T=1000)"
   ]
  },
  {
   "cell_type": "code",
   "execution_count": 116,
   "metadata": {},
   "outputs": [
    {
     "data": {
      "text/plain": [
       "torch.Size([2, 128, 16, 16])"
      ]
     },
     "execution_count": 116,
     "metadata": {},
     "output_type": "execute_result"
    }
   ],
   "source": [
    "a = db(torch.randn(2, 3, 128, 128), timestep_emb=t_embedded)\n",
    "a[1].shape"
   ]
  },
  {
   "cell_type": "code",
   "execution_count": 117,
   "metadata": {},
   "outputs": [
    {
     "name": "stdout",
     "output_type": "stream",
     "text": [
      "torch.Size([2, 32, 128, 128])\n",
      "----------\n",
      "torch.Size([2, 64, 64, 64])\n",
      "----------\n",
      "torch.Size([2, 128, 32, 32])\n",
      "----------\n",
      "torch.Size([2, 128, 16, 16])\n"
     ]
    }
   ],
   "source": [
    "for residual_output in a[0]:\n",
    "    print(residual_output.shape)\n",
    "    print(\"-\"*10)\n",
    "\n",
    "print(a[1].shape)"
   ]
  },
  {
   "cell_type": "code",
   "execution_count": 118,
   "metadata": {},
   "outputs": [
    {
     "data": {
      "text/plain": [
       "torch.Size([2, 128, 32, 32])"
      ]
     },
     "execution_count": 118,
     "metadata": {},
     "output_type": "execute_result"
    }
   ],
   "source": [
    "bottom_conv = nn.Sequential(ResBlock(128, 256), nn.ConvTranspose2d(256, 128, 2, stride=2))\n",
    "bottom_conv(a[1]).shape"
   ]
  },
  {
   "cell_type": "code",
   "execution_count": 119,
   "metadata": {},
   "outputs": [],
   "source": [
    "up = RightBlock(filters=[256, 128, 64, 32], num_layers=2, has_attention=True, num_heads=3, timestep_emb_dim=128)"
   ]
  },
  {
   "cell_type": "code",
   "execution_count": 120,
   "metadata": {},
   "outputs": [
    {
     "data": {
      "text/plain": [
       "torch.Size([2, 128, 32, 32])"
      ]
     },
     "execution_count": 120,
     "metadata": {},
     "output_type": "execute_result"
    }
   ],
   "source": [
    "bottom_out = bottom_conv(a[1])\n",
    "bottom_out.shape\n"
   ]
  },
  {
   "cell_type": "code",
   "execution_count": 121,
   "metadata": {},
   "outputs": [
    {
     "data": {
      "text/plain": [
       "torch.Size([2, 32, 128, 128])"
      ]
     },
     "execution_count": 121,
     "metadata": {},
     "output_type": "execute_result"
    }
   ],
   "source": [
    "up_out = up(bottom_out, a[0], t_embedded)\n",
    "up_out.shape"
   ]
  },
  {
   "cell_type": "code",
   "execution_count": 122,
   "metadata": {},
   "outputs": [],
   "source": [
    "class UNet(nn.Module):\n",
    "    \"\"\"\n",
    "    UNet model for DDPM.\n",
    "    \"\"\"\n",
    "    def __init__(self,\n",
    "                 down_filters: list[int], \n",
    "                 in_channels: int, \n",
    "                 num_layers: int, \n",
    "                 has_attention: bool = False, \n",
    "                 num_heads: int = 8,\n",
    "                 diffusion_steps: int = None,\n",
    "                 num_groups: int = 8,\n",
    "                 activation: nn.Module = nn.ReLU,\n",
    "                 timestep_emb_dim: int = None\n",
    "                ):\n",
    "        super(UNet, self).__init__()\n",
    "        self.T = diffusion_steps\n",
    "        self.down_filters = down_filters\n",
    "\n",
    "        self.time_embed_dim = down_filters[0] * 4 \n",
    "        \n",
    "        if self.T is not None:\n",
    "            self.timestep_embedding = TimestepEmbedding(\n",
    "                in_channels=self.down_filters[0], \n",
    "                embedding_dim=self.time_embed_dim, \n",
    "                activation=activation, \n",
    "            )\n",
    "        \n",
    "        \n",
    "        self.left_block = LeftBlock(\n",
    "            filters=down_filters, \n",
    "            num_layers=num_layers, \n",
    "            in_channels=in_channels, \n",
    "            has_attention=has_attention, \n",
    "            num_heads=num_heads\n",
    "        )\n",
    "        \n",
    "        # the bottom-most (middle) conv block \n",
    "        if has_attention:\n",
    "            self.middle_conv = ConvBlock(\n",
    "                down_filters[-1], \n",
    "                down_filters[-1]*2, \n",
    "                num_layers, \n",
    "                timestep_emb_dim=timestep_emb_dim\n",
    "            )\n",
    "            self.middle_attention = Attention(d_k=64, dropout=0.1, num_heads=num_heads, num_channels=down_filters[-1]*2)\n",
    "            self.middle_upsample = nn.ConvTranspose2d(down_filters[-1]*2, down_filters[-1], 2, stride=2)\n",
    "        else:\n",
    "            self.middle_conv = ConvBlock(\n",
    "                down_filters[-1], \n",
    "                down_filters[-1]*2, \n",
    "                num_layers, \n",
    "                timestep_emb_dim=timestep_emb_dim\n",
    "            )\n",
    "            self.middle_attention = None\n",
    "            self.middle_upsample = nn.ConvTranspose2d(down_filters[-1]*2, down_filters[-1], 2, stride=2)\n",
    "        \n",
    "        self.up_filters = [down_filters[-1]*2]\n",
    "        self.up_filters.extend(reversed(down_filters))\n",
    "        self.right_block = RightBlock(\n",
    "            filters=self.up_filters, \n",
    "            num_layers=num_layers, \n",
    "            has_attention=has_attention, \n",
    "            num_heads=num_heads,\n",
    "            timestep_emb_dim=timestep_emb_dim\n",
    "        )\n",
    "\n",
    "        self.group_norm = nn.GroupNorm(num_groups=in_channels, num_channels=in_channels)\n",
    "        self.conv_out = nn.Conv2d(in_channels=down_filters[0], out_channels=in_channels, kernel_size=3, padding=1)\n",
    "    \n",
    "    def forward(self, x, t):\n",
    "        if self.T is not None:\n",
    "            t_encoded = timestep_encoding(t, self.T, self.down_filters[0], n = 4000, device=x.device)\n",
    "            t_emb = self.timestep_embedding(curr_t=t_encoded, T=self.T)\n",
    "            t_emb = t_emb.view(-1, self.time_embed_dim, 1, 1)\n",
    "        else: \n",
    "            t_emb = None\n",
    "\n",
    "        x = self.group_norm(x)\n",
    "        residual_outputs, down_output = self.left_block(x, t_emb)\n",
    "        \n",
    "        bottom_output = self.middle_conv(down_output, t_emb)\n",
    "        if self.middle_attention is not None:\n",
    "            bottom_output = self.middle_attention(bottom_output)\n",
    "        \n",
    "        bottom_output = self.middle_upsample(bottom_output)\n",
    "\n",
    "        right_out = self.right_block(bottom_output, residual_outputs, t_emb)\n",
    "        \n",
    "        output = self.conv_out(right_out)\n",
    "        return output\n"
   ]
  },
  {
   "cell_type": "code",
   "execution_count": 123,
   "metadata": {},
   "outputs": [],
   "source": [
    "u_net = UNet(down_filters=[32, 64, 128], in_channels=3, num_layers=2, has_attention=True, num_heads=3, diffusion_steps=1000)\n"
   ]
  },
  {
   "cell_type": "code",
   "execution_count": 124,
   "metadata": {},
   "outputs": [
    {
     "name": "stdout",
     "output_type": "stream",
     "text": [
      "The UNet model has 4,442,319 trainable parameters.\n"
     ]
    }
   ],
   "source": [
    "def count_parameters(model):\n",
    "    return sum(p.numel() for p in model.parameters() if p.requires_grad)\n",
    "\n",
    "num_params = count_parameters(u_net)\n",
    "print(f\"The UNet model has {num_params:,} trainable parameters.\")\n"
   ]
  },
  {
   "cell_type": "code",
   "execution_count": 125,
   "metadata": {},
   "outputs": [
    {
     "data": {
      "text/plain": [
       "torch.Size([16, 3, 32, 32])"
      ]
     },
     "execution_count": 125,
     "metadata": {},
     "output_type": "execute_result"
    }
   ],
   "source": [
    "device = torch.device(\"mps\" if torch.backends.mps.is_available() else \"cpu\")\n",
    "\n",
    "sample_inputs = torch.randn(16, 3, 32, 32).to(device)\n",
    "u_net.to(device)\n",
    "sample_outputs = u_net(sample_inputs, torch.randint(0, 1000, (15,)).to(device))\n",
    "sample_outputs.shape"
   ]
  },
  {
   "cell_type": "markdown",
   "metadata": {},
   "source": [
    "## Training and Validation"
   ]
  },
  {
   "cell_type": "code",
   "execution_count": 126,
   "metadata": {},
   "outputs": [],
   "source": [
    "def get_alpha_bar(beta_schedule: torch.Tensor):\n",
    "    \"\"\"\n",
    "    what we need to do here is prepare a tensor of alpha_bars where each t'th entry\n",
    "    in alphabars is the product of the alphas leading up to it. Alpha is  as 1 - beta\n",
    "    \"\"\"\n",
    "    alpha = 1. - beta_schedule\n",
    "    return alpha.cumprod(dim=0)\n",
    "\n",
    "def prepare_batch(x: torch.Tensor, T: int, beta_schedule: torch.Tensor):\n",
    "    \"\"\"\n",
    "    Prepare a batch for training by generating random timesteps and adding noise to the image.\n",
    "    We use the random timesteps to generate the amount of noise that should be added to the image at that timestep.\n",
    "    Then, we add the noise to the image.\n",
    "    \n",
    "    Args:\n",
    "        x: the input image\n",
    "        T: the number of diffusion steps\n",
    "        beta_schedule: the beta values for each timestep\n",
    "    \n",
    "    Returns:\n",
    "        the noisy image and the timestep \n",
    "        the noise that was added to the image\n",
    "    \"\"\"\n",
    "    batch_size = x.shape[0]\n",
    "    device = x.device\n",
    "    t = torch.randint(0, T, (batch_size,)).to(device)\n",
    "    e = torch.randn_like(x).to(device)\n",
    "    \n",
    "    alpha_bar_t = get_alpha_bar(beta_schedule)[t]\n",
    "    alpha_bar_t = alpha_bar_t.view(-1, 1, 1, 1)\n",
    "    \n",
    "    noisy_images = alpha_bar_t.sqrt() * x + (1 - alpha_bar_t).sqrt() * e\n",
    "    \n",
    "    return (noisy_images, t), e"
   ]
  },
  {
   "cell_type": "code",
   "execution_count": 127,
   "metadata": {},
   "outputs": [
    {
     "name": "stdout",
     "output_type": "stream",
     "text": [
      "torch.Size([16, 3, 32, 32])\n",
      "torch.Size([16])\n",
      "torch.Size([16, 3, 32, 32])\n"
     ]
    }
   ],
   "source": [
    "beta_schedule = torch.linspace(0, 1, 1000).to(device)\n",
    "prepare_batch(sample_inputs, 1000, beta_schedule)\n",
    "\n",
    "\n",
    "(noisy_images, t), noise = prepare_batch(sample_inputs, 1000, beta_schedule)\n",
    "\n",
    "# noise and the noisy images should have the same shape\n",
    "# t should be a tensor of shape (batch_size, )\n",
    "print(noisy_images.shape)\n",
    "print(t.shape)\n",
    "print(noise.shape)"
   ]
  },
  {
   "cell_type": "code",
   "execution_count": 128,
   "metadata": {},
   "outputs": [],
   "source": [
    "def validate_model(\n",
    "        model, \n",
    "        valid_loader, \n",
    "        loss_fn, \n",
    "        all_valid_loss, \n",
    "        T, \n",
    "        beta_schedule, \n",
    "        using_diffusers: bool = False\n",
    "        ):\n",
    "    model.eval()\n",
    "    valid_loss = []\n",
    "    \n",
    "    with torch.no_grad():\n",
    "        for batch in valid_loader:\n",
    "            x, _ = batch\n",
    "            (noisy_images, t), e = prepare_batch(x, T, beta_schedule)\n",
    "            if using_diffusers:\n",
    "                y_pred = model(noisy_images, t).sample # sample for diffusers library components\n",
    "            else:\n",
    "                y_pred = model(noisy_images, t)\n",
    "            loss = loss_fn(y_pred, e)\n",
    "            valid_loss.append(loss.item())\n",
    "    \n",
    "    all_valid_loss.append(sum(valid_loss) / len(valid_loss))\n",
    "\n",
    "def plot_loss(all_train_loss, all_valid_loss):\n",
    "    plt.figure(figsize=(10, 5))\n",
    "    plt.plot(all_train_loss, label='Training Loss')\n",
    "    plt.plot(all_valid_loss, label='Validation Loss')\n",
    "    plt.xlabel('Epoch')\n",
    "    plt.ylabel('Loss')\n",
    "    plt.legend()\n",
    "    plt.show()\n",
    "\n",
    "\n",
    "def train_model(model: nn.Module,\n",
    "                optim: torch.optim.Optimizer,\n",
    "                loss_fn: nn.Module,\n",
    "                train_loader: torch.utils.data.DataLoader,\n",
    "                valid_loader: torch.utils.data.DataLoader,\n",
    "                scheduler: torch.optim.lr_scheduler._LRScheduler,\n",
    "                beta_schedule: torch.Tensor,\n",
    "                epochs: int = 10,\n",
    "                valid_every: int = 1,\n",
    "                T: int = 1000,\n",
    "                using_diffusers: bool = False\n",
    "                ):\n",
    "\n",
    "    all_train_loss = []\n",
    "    all_valid_loss = []\n",
    "\n",
    "    alpha_bar = get_alpha_bar(beta_schedule)\n",
    "    \n",
    "    for epoch in range(epochs):\n",
    "        print(f\"Epoch {epoch} of {epochs}\")\n",
    "        model.train()\n",
    "        train_loss = []\n",
    "\n",
    "        \n",
    "        for batch in train_loader:\n",
    "            x, _ = batch\n",
    "            (noisy_images, t), e = prepare_batch(x, T, beta_schedule)\n",
    "            optim.zero_grad()\n",
    "            if using_diffusers:\n",
    "                y_pred = model(noisy_images, t).sample # sample for diffusers library components\n",
    "            else:\n",
    "                y_pred = model(noisy_images, t)\n",
    "\n",
    "            loss = loss_fn(y_pred, e)\n",
    "            loss.backward()\n",
    "            optim.step()\n",
    "            train_loss.append(loss.item())\n",
    "        \n",
    "        all_train_loss.append(sum(train_loss) / len(train_loss))\n",
    "        scheduler.step()\n",
    "        \n",
    "        if epoch % valid_every == 0:\n",
    "            validate_model(model, valid_loader, loss_fn, all_valid_loss, T, beta_schedule, using_diffusers)\n",
    "            print(\n",
    "                f\"Epoch {epoch}, Train Loss: {sum(train_loss) / len(train_loss)}, \"\n",
    "                f\"Valid Loss: {all_valid_loss[-1]}\"\n",
    "            )\n",
    "\n",
    "    plot_loss(all_train_loss, all_valid_loss)\n"
   ]
  },
  {
   "cell_type": "code",
   "execution_count": 129,
   "metadata": {},
   "outputs": [],
   "source": [
    "all_batches_data = []\n",
    "all_batches_labels = []\n",
    "\n",
    "for i in range(1, 6):\n",
    "    with open(f'cifar-10-batches-py/data_batch_{i}', 'rb') as f:\n",
    "        dataset_dict = pickle.load(f, encoding='bytes')\n",
    "        all_batches_data.append(dataset_dict[b'data'])\n",
    "        all_batches_labels.append(dataset_dict[b'labels'])\n",
    "\n",
    "stacked_data = np.vstack(all_batches_data)\n",
    "stacked_labels = np.hstack(all_batches_labels)\n",
    "\n",
    "data = torch.tensor(stacked_data, dtype=torch.float32).view(-1, 3, 32, 32).to(device) / 255.\n",
    "labels = torch.tensor(stacked_labels, dtype=torch.long).to(device)\n",
    "\n",
    "split_idx = int(0.8 * len(data))\n",
    "\n",
    "x_train, x_valid = data[:split_idx], data[split_idx:]\n",
    "y_train, y_valid = labels[:split_idx], labels[split_idx:]"
   ]
  },
  {
   "cell_type": "code",
   "execution_count": 130,
   "metadata": {},
   "outputs": [
    {
     "name": "stdout",
     "output_type": "stream",
     "text": [
      "Train dataset size: 60000\n",
      "Validation dataset size: 10000\n",
      "Number of batches in train_dl: 469\n",
      "Number of batches in valid_dl: 79\n"
     ]
    }
   ],
   "source": [
    "from torch.utils.data import Dataset, DataLoader\n",
    "\n",
    "class CIFARCustomDataset(Dataset):\n",
    "    def __init__(self, x, y):\n",
    "        self.x = x\n",
    "        self.y = y\n",
    "\n",
    "    def __len__(self):\n",
    "        return len(self.x)\n",
    "\n",
    "    def __getitem__(self, idx):\n",
    "        return self.x[idx], self.y[idx]\n",
    "\n",
    "\n",
    "\n",
    "cifar_train_ds = CIFARCustomDataset(x_train, y_train)\n",
    "cifar_valid_ds = CIFARCustomDataset(x_valid, y_valid)\n",
    "\n",
    "cifar_train_dl = DataLoader(cifar_train_ds, batch_size=128, shuffle=True)\n",
    "cifar_valid_dl = DataLoader(cifar_valid_ds, batch_size=128, shuffle=False)\n",
    "\n",
    "cifar_train_dl = [(x.to(device), y.to(device)) for x, y in cifar_train_dl]\n",
    "cifar_valid_dl = [(x.to(device), y.to(device)) for x, y in cifar_valid_dl]\n",
    "\n",
    "from torchvision import datasets, transforms\n",
    "from torch.utils.data import DataLoader\n",
    "\n",
    "# Define the transform\n",
    "transform = transforms.Compose([\n",
    "    transforms.ToTensor(),\n",
    "    transforms.Normalize((0.1307,), (0.3081,)),\n",
    "    transforms.Pad(2)\n",
    "])\n",
    "\n",
    "# Load MNIST dataset\n",
    "train_dataset = datasets.MNIST(root='./data', train=True, download=True, transform=transform)\n",
    "valid_dataset = datasets.MNIST(root='./data', train=False, download=True, transform=transform)\n",
    "\n",
    "# Create DataLoaders\n",
    "train_dl = DataLoader(train_dataset, batch_size=128, shuffle=True)\n",
    "valid_dl = DataLoader(valid_dataset, batch_size=128, shuffle=False)\n",
    "\n",
    "# Move data to device\n",
    "train_dl = [(x.to(device), y.to(device)) for x, y in train_dl]\n",
    "valid_dl = [(x.to(device), y.to(device)) for x, y in valid_dl]\n",
    "\n",
    "print(f\"Train dataset size: {len(train_dataset)}\")\n",
    "print(f\"Validation dataset size: {len(valid_dataset)}\")\n",
    "print(f\"Number of batches in train_dl: {len(train_dl)}\")\n",
    "print(f\"Number of batches in valid_dl: {len(valid_dl)}\")"
   ]
  },
  {
   "cell_type": "code",
   "execution_count": 131,
   "metadata": {},
   "outputs": [
    {
     "name": "stdout",
     "output_type": "stream",
     "text": [
      "The UNet model has 2,185,861 trainable parameters.\n",
      "Epoch 0 of 10\n",
      "Epoch 0, Train Loss: 0.37646556961765165, Valid Loss: 0.13688158121290087\n",
      "Epoch 1 of 10\n",
      "Epoch 1, Train Loss: 0.17911756216590083, Valid Loss: 0.10647825745842125\n",
      "Epoch 2 of 10\n",
      "Epoch 2, Train Loss: 0.14282998769903488, Valid Loss: 0.10811741763277899\n",
      "Epoch 3 of 10\n",
      "Epoch 3, Train Loss: 0.12548003240879665, Valid Loss: 0.14910377052765858\n",
      "Epoch 4 of 10\n",
      "Epoch 4, Train Loss: 0.11455197803882648, Valid Loss: 0.21072515920747684\n",
      "Epoch 5 of 10\n",
      "Epoch 5, Train Loss: 0.10774701519180209, Valid Loss: 0.2543925882517537\n",
      "Epoch 6 of 10\n",
      "Epoch 6, Train Loss: 0.10291269122918786, Valid Loss: 0.31008865335319613\n",
      "Epoch 7 of 10\n",
      "Epoch 7, Train Loss: 0.09877409102883675, Valid Loss: 0.3108392836926859\n",
      "Epoch 8 of 10\n",
      "Epoch 8, Train Loss: 0.09590190132734364, Valid Loss: 0.339351252287249\n",
      "Epoch 9 of 10\n",
      "Epoch 9, Train Loss: 0.0935514317805579, Valid Loss: 0.35356946723370614\n"
     ]
    },
    {
     "data": {
      "image/png": "[encoded data removed]",
      "text/plain": [
       "<Figure size 1000x500 with 1 Axes>"
      ]
     },
     "metadata": {},
     "output_type": "display_data"
    }
   ],
   "source": [
    "model = UNet(\n",
    "    down_filters=[32, 64, 128], \n",
    "    in_channels=1, \n",
    "    num_layers=1, \n",
    "    has_attention=True, \n",
    "    num_heads=1, \n",
    "    diffusion_steps=1000,\n",
    ").to(device)\n",
    "\n",
    "num_params = count_parameters(model)\n",
    "print(f\"The UNet model has {num_params:,} trainable parameters.\")\n",
    "\n",
    "optim = torch.optim.Adam(model.parameters(), lr=3e-4)\n",
    "scheduler = torch.optim.lr_scheduler.OneCycleLR(optim, max_lr=1e-3, steps_per_epoch=len(train_dl), epochs=10)\n",
    "loss_fn = nn.MSELoss()\n",
    "\n",
    "beta_schedule = torch.linspace(0.0001, 0.02, 1000).to(device)\n",
    "\n",
    "train_model(\n",
    "    model=model, \n",
    "    optim=optim, \n",
    "    loss_fn=loss_fn, \n",
    "    train_loader=train_dl, \n",
    "    valid_loader=valid_dl, \n",
    "    scheduler=scheduler, \n",
    "    beta_schedule=beta_schedule, \n",
    "    epochs=10, \n",
    "    valid_every=1,\n",
    "    T=1000\n",
    ")"
   ]
  },
  {
   "cell_type": "code",
   "execution_count": 132,
   "metadata": {},
   "outputs": [],
   "source": [
    "def sample_images(model, beta_schedule, T, device, num_samples=16, using_diffusers: bool = False):\n",
    "    model.eval()\n",
    "    with torch.no_grad():\n",
    "        x = torch.randn(num_samples, 1, 32, 32).to(device)\n",
    "        for t in reversed(range(T)):\n",
    "            time_input = torch.full((16,), t, device=device)\n",
    "            beta_t = beta_schedule[t]\n",
    "            alpha_t = 1. - beta_t\n",
    "            sigma_t = beta_t.sqrt()\n",
    "            \n",
    "            alpha_bar_t = alpha_bar(beta_t)\n",
    "            z = torch.randn_like(x).to(device) if t > 0 else 0\n",
    "            if using_diffusers:\n",
    "                model_pred = model(x, time_input).sample\n",
    "            else:\n",
    "                model_pred = model(x, time_input)\n",
    "            x_t_minus_1 = (1 / alpha_t.sqrt()) * (x - (1 - alpha_bar_t) / (1 - alpha_bar_t).sqrt() * model_pred) + sigma_t * z\n",
    "            x = x_t_minus_1\n",
    "\n",
    "    return x"
   ]
  },
  {
   "cell_type": "code",
   "execution_count": null,
   "metadata": {},
   "outputs": [],
   "source": [
    "from src.utils import show_torch_image\n",
    "sampled_images = sample_images(model, beta_schedule, 1000, device, num_samples=16)\n",
    "sampled_images_cpu = sampled_images.cpu()\n",
    "for i in range(16):\n",
    "    show_torch_image(sampled_images_cpu[i])"
   ]
  },
  {
   "cell_type": "code",
   "execution_count": 134,
   "metadata": {},
   "outputs": [
    {
     "name": "stderr",
     "output_type": "stream",
     "text": [
      "/Users/apandya/computer_vision/.venv/lib/python3.10/site-packages/tqdm/auto.py:21: TqdmWarning: IProgress not found. Please update jupyter and ipywidgets. See https://ipywidgets.readthedocs.io/en/stable/user_install.html\n",
      "  from .autonotebook import tqdm as notebook_tqdm\n"
     ]
    }
   ],
   "source": [
    "from diffusers import UNet2DModel\n",
    "\n",
    "model = UNet2DModel(in_channels=1, out_channels=1, block_out_channels=(32, 64, 128, 128)).to(device)"
   ]
  },
  {
   "cell_type": "code",
   "execution_count": 136,
   "metadata": {},
   "outputs": [
    {
     "name": "stdout",
     "output_type": "stream",
     "text": [
      "Epoch 0 of 10\n",
      "Epoch 0, Train Loss: 1.1015475007262565, Valid Loss: 1.1024473090715046\n",
      "Epoch 1 of 10\n",
      "Epoch 1, Train Loss: 1.1011762331797879, Valid Loss: 1.1013112309612805\n",
      "Epoch 2 of 10\n"
     ]
    },
    {
     "ename": "KeyboardInterrupt",
     "evalue": "",
     "output_type": "error",
     "traceback": [
      "\u001b[0;31m---------------------------------------------------------------------------\u001b[0m",
      "\u001b[0;31mKeyboardInterrupt\u001b[0m                         Traceback (most recent call last)",
      "Cell \u001b[0;32mIn[136], line 1\u001b[0m\n\u001b[0;32m----> 1\u001b[0m \u001b[43mtrain_model\u001b[49m\u001b[43m(\u001b[49m\n\u001b[1;32m      2\u001b[0m \u001b[43m    \u001b[49m\u001b[43mmodel\u001b[49m\u001b[38;5;241;43m=\u001b[39;49m\u001b[43mmodel\u001b[49m\u001b[43m,\u001b[49m\u001b[43m \u001b[49m\n\u001b[1;32m      3\u001b[0m \u001b[43m    \u001b[49m\u001b[43moptim\u001b[49m\u001b[38;5;241;43m=\u001b[39;49m\u001b[43moptim\u001b[49m\u001b[43m,\u001b[49m\u001b[43m \u001b[49m\n\u001b[1;32m      4\u001b[0m \u001b[43m    \u001b[49m\u001b[43mloss_fn\u001b[49m\u001b[38;5;241;43m=\u001b[39;49m\u001b[43mloss_fn\u001b[49m\u001b[43m,\u001b[49m\u001b[43m \u001b[49m\n\u001b[1;32m      5\u001b[0m \u001b[43m    \u001b[49m\u001b[43mtrain_loader\u001b[49m\u001b[38;5;241;43m=\u001b[39;49m\u001b[43mtrain_dl\u001b[49m\u001b[43m,\u001b[49m\u001b[43m \u001b[49m\n\u001b[1;32m      6\u001b[0m \u001b[43m    \u001b[49m\u001b[43mvalid_loader\u001b[49m\u001b[38;5;241;43m=\u001b[39;49m\u001b[43mvalid_dl\u001b[49m\u001b[43m,\u001b[49m\u001b[43m \u001b[49m\n\u001b[1;32m      7\u001b[0m \u001b[43m    \u001b[49m\u001b[43mscheduler\u001b[49m\u001b[38;5;241;43m=\u001b[39;49m\u001b[43mscheduler\u001b[49m\u001b[43m,\u001b[49m\u001b[43m \u001b[49m\n\u001b[1;32m      8\u001b[0m \u001b[43m    \u001b[49m\u001b[43mbeta_schedule\u001b[49m\u001b[38;5;241;43m=\u001b[39;49m\u001b[43mbeta_schedule\u001b[49m\u001b[43m,\u001b[49m\u001b[43m \u001b[49m\n\u001b[1;32m      9\u001b[0m \u001b[43m    \u001b[49m\u001b[43mepochs\u001b[49m\u001b[38;5;241;43m=\u001b[39;49m\u001b[38;5;241;43m10\u001b[39;49m\u001b[43m,\u001b[49m\u001b[43m \u001b[49m\n\u001b[1;32m     10\u001b[0m \u001b[43m    \u001b[49m\u001b[43mvalid_every\u001b[49m\u001b[38;5;241;43m=\u001b[39;49m\u001b[38;5;241;43m1\u001b[39;49m\u001b[43m,\u001b[49m\n\u001b[1;32m     11\u001b[0m \u001b[43m    \u001b[49m\u001b[43mT\u001b[49m\u001b[38;5;241;43m=\u001b[39;49m\u001b[38;5;241;43m1000\u001b[39;49m\u001b[43m,\u001b[49m\n\u001b[1;32m     12\u001b[0m \u001b[43m    \u001b[49m\u001b[43musing_diffusers\u001b[49m\u001b[38;5;241;43m=\u001b[39;49m\u001b[38;5;28;43;01mTrue\u001b[39;49;00m\n\u001b[1;32m     13\u001b[0m \u001b[43m)\u001b[49m\n",
      "Cell \u001b[0;32mIn[128], line 69\u001b[0m, in \u001b[0;36mtrain_model\u001b[0;34m(model, optim, loss_fn, train_loader, valid_loader, scheduler, beta_schedule, epochs, valid_every, T, using_diffusers)\u001b[0m\n\u001b[1;32m     67\u001b[0m     loss\u001b[38;5;241m.\u001b[39mbackward()\n\u001b[1;32m     68\u001b[0m     optim\u001b[38;5;241m.\u001b[39mstep()\n\u001b[0;32m---> 69\u001b[0m     train_loss\u001b[38;5;241m.\u001b[39mappend(\u001b[43mloss\u001b[49m\u001b[38;5;241;43m.\u001b[39;49m\u001b[43mitem\u001b[49m\u001b[43m(\u001b[49m\u001b[43m)\u001b[49m)\n\u001b[1;32m     71\u001b[0m all_train_loss\u001b[38;5;241m.\u001b[39mappend(\u001b[38;5;28msum\u001b[39m(train_loss) \u001b[38;5;241m/\u001b[39m \u001b[38;5;28mlen\u001b[39m(train_loss))\n\u001b[1;32m     72\u001b[0m scheduler\u001b[38;5;241m.\u001b[39mstep()\n",
      "\u001b[0;31mKeyboardInterrupt\u001b[0m: "
     ]
    }
   ],
   "source": [
    "train_model(\n",
    "    model=model, \n",
    "    optim=optim, \n",
    "    loss_fn=loss_fn, \n",
    "    train_loader=train_dl, \n",
    "    valid_loader=valid_dl, \n",
    "    scheduler=scheduler, \n",
    "    beta_schedule=beta_schedule, \n",
    "    epochs=10, \n",
    "    valid_every=1,\n",
    "    T=1000,\n",
    "    using_diffusers=True\n",
    ")"
   ]
  },
  {
   "cell_type": "code",
   "execution_count": null,
   "metadata": {},
   "outputs": [],
   "source": [
    "sampled_images = sample_images(model, beta_schedule, 1000, device, num_samples=16, using_diffusers=True)\n",
    "sampled_images_cpu = sampled_images.cpu()\n",
    "for i in range(16):\n",
    "    show_torch_image(sampled_images_cpu[i])"
   ]
  },
  {
   "cell_type": "code",
   "execution_count": null,
   "metadata": {},
   "outputs": [],
   "source": []
  }
 ],
 "metadata": {
  "kernelspec": {
   "display_name": "fastai",
   "language": "python",
   "name": "python3"
  },
  "language_info": {
   "codemirror_mode": {
    "name": "ipython",
    "version": 3
   },
   "file_extension": ".py",
   "mimetype": "text/x-python",
   "name": "python",
   "nbconvert_exporter": "python",
   "pygments_lexer": "ipython3",
   "version": "3.10.15"
  }
 },
 "nbformat": 4,
 "nbformat_minor": 2
}

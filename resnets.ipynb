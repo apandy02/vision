{
 "cells": [
  {
   "cell_type": "code",
   "execution_count": 484,
   "metadata": {},
   "outputs": [],
   "source": [
    "import torch\n",
    "import pickle\n",
    "import timm \n",
    "import numpy as np\n",
    "import matplotlib.pyplot as plt\n",
    "from torch import nn"
   ]
  },
  {
   "cell_type": "code",
   "execution_count": 485,
   "metadata": {},
   "outputs": [],
   "source": [
    "device = \"mps\" if torch.backends.mps.is_available() else \"cpu\""
   ]
  },
  {
   "cell_type": "code",
   "execution_count": 486,
   "metadata": {},
   "outputs": [],
   "source": [
    "all_batches_data = []\n",
    "all_batches_labels = []\n",
    "\n",
    "for i in range(1, 6):\n",
    "    with open(f'cifar-10-batches-py/data_batch_{i}', 'rb') as f:\n",
    "        dataset_dict = pickle.load(f, encoding='bytes')\n",
    "        all_batches_data.append(dataset_dict[b'data'])\n",
    "        all_batches_labels.append(dataset_dict[b'labels'])\n",
    "\n",
    "stacked_data = np.vstack(all_batches_data)\n",
    "stacked_labels = np.hstack(all_batches_labels)\n",
    "\n",
    "data = torch.tensor(stacked_data, dtype=torch.float32).view(-1, 3, 32, 32).to(device) / 255.\n",
    "labels = torch.tensor(stacked_labels, dtype=torch.long).to(device)\n",
    "\n",
    "split_idx = int(0.8 * len(data))\n",
    "\n",
    "x_train, x_valid = data[:split_idx], data[split_idx:]\n",
    "y_train, y_valid = labels[:split_idx], labels[split_idx:]"
   ]
  },
  {
   "cell_type": "code",
   "execution_count": 487,
   "metadata": {},
   "outputs": [
    {
     "name": "stdout",
     "output_type": "stream",
     "text": [
      "torch.Size([40000, 3, 32, 32])\n",
      "mps:0\n"
     ]
    }
   ],
   "source": [
    "print(x_train.shape)\n",
    "print(x_train.device)"
   ]
  },
  {
   "cell_type": "code",
   "execution_count": 488,
   "metadata": {},
   "outputs": [],
   "source": [
    "class ConvNet(nn.Module):\n",
    "    def __init__(self, num_channels: int, num_classes: int, filters: list[int], activation: nn.Module = nn.ReLU):\n",
    "        super().__init__()\n",
    "        conv_layers = [\n",
    "            nn.Conv2d(num_channels, filters[0], kernel_size=3, stride=2, padding=1),\n",
    "            nn.BatchNorm2d(filters[0]),\n",
    "            activation()\n",
    "        ]\n",
    "        for i in range(len(filters)-1):\n",
    "            conv_layers += [\n",
    "                nn.Conv2d(filters[i], filters[i+1], kernel_size=3, stride=2, padding=1), \n",
    "                nn.BatchNorm2d(filters[i+1]),\n",
    "                activation()\n",
    "            ]\n",
    "        \n",
    "        conv_layers.append(nn.Conv2d(filters[-1], num_classes, kernel_size=3, stride=1, padding=1))\n",
    "        self.conv_layers = nn.Sequential(*conv_layers)\n",
    "        self.flatten = nn.Flatten()\n",
    "\n",
    "    def forward(self, x):\n",
    "        h = self.conv_layers(x)\n",
    "        return self.flatten(h)\n"
   ]
  },
  {
   "cell_type": "code",
   "execution_count": 489,
   "metadata": {},
   "outputs": [],
   "source": [
    "model = ConvNet(3, 10, [64, 128, 256, 512, 1024], nn.LeakyReLU).to(device)\n"
   ]
  },
  {
   "cell_type": "code",
   "execution_count": 490,
   "metadata": {},
   "outputs": [
    {
     "data": {
      "text/plain": [
       "ConvNet(\n",
       "  (conv_layers): Sequential(\n",
       "    (0): Conv2d(3, 64, kernel_size=(3, 3), stride=(2, 2), padding=(1, 1))\n",
       "    (1): BatchNorm2d(64, eps=1e-05, momentum=0.1, affine=True, track_running_stats=True)\n",
       "    (2): LeakyReLU(negative_slope=0.01)\n",
       "    (3): Conv2d(64, 128, kernel_size=(3, 3), stride=(2, 2), padding=(1, 1))\n",
       "    (4): BatchNorm2d(128, eps=1e-05, momentum=0.1, affine=True, track_running_stats=True)\n",
       "    (5): LeakyReLU(negative_slope=0.01)\n",
       "    (6): Conv2d(128, 256, kernel_size=(3, 3), stride=(2, 2), padding=(1, 1))\n",
       "    (7): BatchNorm2d(256, eps=1e-05, momentum=0.1, affine=True, track_running_stats=True)\n",
       "    (8): LeakyReLU(negative_slope=0.01)\n",
       "    (9): Conv2d(256, 512, kernel_size=(3, 3), stride=(2, 2), padding=(1, 1))\n",
       "    (10): BatchNorm2d(512, eps=1e-05, momentum=0.1, affine=True, track_running_stats=True)\n",
       "    (11): LeakyReLU(negative_slope=0.01)\n",
       "    (12): Conv2d(512, 1024, kernel_size=(3, 3), stride=(2, 2), padding=(1, 1))\n",
       "    (13): BatchNorm2d(1024, eps=1e-05, momentum=0.1, affine=True, track_running_stats=True)\n",
       "    (14): LeakyReLU(negative_slope=0.01)\n",
       "    (15): Conv2d(1024, 10, kernel_size=(3, 3), stride=(1, 1), padding=(1, 1))\n",
       "  )\n",
       "  (flatten): Flatten(start_dim=1, end_dim=-1)\n",
       ")"
      ]
     },
     "execution_count": 490,
     "metadata": {},
     "output_type": "execute_result"
    }
   ],
   "source": [
    "model"
   ]
  },
  {
   "cell_type": "code",
   "execution_count": 491,
   "metadata": {},
   "outputs": [],
   "source": [
    "def accuracy(y_pred, y):\n",
    "    return (y_pred.argmax(dim=1) == y).float().mean()\n",
    "\n",
    "def validate_model(model, valid_loader, loss_fn):\n",
    "    model.eval()\n",
    "    valid_loss = []\n",
    "    valid_acc = []\n",
    "    with torch.no_grad():\n",
    "        for batch in valid_loader:\n",
    "            x, y = batch\n",
    "            y_pred = model(x)\n",
    "            loss = loss_fn(y_pred, y)\n",
    "            valid_loss.append(loss.item())\n",
    "            valid_acc.append(accuracy(y_pred, y))\n",
    "    \n",
    "    return sum(valid_loss) / len(valid_loss), sum(valid_acc) / len(valid_acc)\n",
    "\n",
    "def plot_loss(all_train_loss, all_valid_loss):\n",
    "    plt.figure(figsize=(10, 5))\n",
    "    plt.plot(all_train_loss, label='Training Loss')\n",
    "    plt.plot(all_valid_loss, label='Validation Loss')\n",
    "    plt.xlabel('Epoch')\n",
    "    plt.ylabel('Loss')\n",
    "    plt.legend()\n",
    "    plt.show()\n",
    "\n",
    "\n",
    "def train_model(model, optim, loss_fn, train_loader, valid_loader, scheduler, epochs=10, batch_size=32, valid_every=1):\n",
    "    \n",
    "    all_train_loss = []\n",
    "    all_valid_loss = []\n",
    "    \n",
    "    for epoch in range(epochs):\n",
    "        model.train()\n",
    "        train_loss = []\n",
    "        \n",
    "        for batch in train_loader:\n",
    "            x, y = batch\n",
    "            optim.zero_grad()\n",
    "            y_pred = model(x)\n",
    "            loss = loss_fn(y_pred, y)\n",
    "            loss.backward()\n",
    "            optim.step()\n",
    "            train_loss.append(loss.item())\n",
    "        \n",
    "        all_train_loss.append(sum(train_loss) / len(train_loss))\n",
    "        scheduler.step()\n",
    "        if epoch % valid_every == 0:\n",
    "            valid_loss, valid_acc = validate_model(model, valid_loader, loss_fn)\n",
    "            all_valid_loss.append(valid_loss)\n",
    "            print(\n",
    "                f\"Epoch {epoch}, Train Loss: {sum(train_loss) / len(train_loss)}, \"\n",
    "                f\"Valid Loss: {valid_loss}, \"\n",
    "                f\"Acc: {valid_acc}\"\n",
    "            )\n",
    "    \n",
    "    plot_loss(all_train_loss, all_valid_loss)\n"
   ]
  },
  {
   "cell_type": "code",
   "execution_count": 492,
   "metadata": {},
   "outputs": [],
   "source": [
    "from torch.utils.data import Dataset, DataLoader\n",
    "\n",
    "class CIFARCustomDataset(Dataset):\n",
    "    def __init__(self, x, y):\n",
    "        self.x = x\n",
    "        self.y = y\n",
    "\n",
    "    def __len__(self):\n",
    "        return len(self.x)\n",
    "\n",
    "    def __getitem__(self, idx):\n",
    "        return self.x[idx], self.y[idx]\n",
    "\n",
    "train_ds = CIFARCustomDataset(x_train, y_train)\n",
    "valid_ds = CIFARCustomDataset(x_valid, y_valid)\n",
    "\n",
    "train_dl = DataLoader(train_ds, batch_size=32, shuffle=True)\n",
    "valid_dl = DataLoader(valid_ds, batch_size=32, shuffle=True)"
   ]
  },
  {
   "cell_type": "code",
   "execution_count": 493,
   "metadata": {},
   "outputs": [
    {
     "name": "stdout",
     "output_type": "stream",
     "text": [
      "Epoch 0, Train Loss: 1.534896408700943, Valid Loss: 1.3927969793542125, Acc: 0.49460864067077637\n",
      "Epoch 1, Train Loss: 1.1162969915390015, Valid Loss: 0.9918967908182845, Acc: 0.6487619876861572\n",
      "Epoch 2, Train Loss: 0.9011294771671295, Valid Loss: 0.9236445835413644, Acc: 0.6676318049430847\n",
      "Epoch 3, Train Loss: 0.7363024822473526, Valid Loss: 0.8403297682730154, Acc: 0.709664523601532\n",
      "Epoch 4, Train Loss: 0.57246241106987, Valid Loss: 0.8816504866932147, Acc: 0.709664523601532\n",
      "Epoch 5, Train Loss: 0.4017917557179928, Valid Loss: 0.7989803975382552, Acc: 0.7463058829307556\n",
      "Epoch 6, Train Loss: 0.2343055918291211, Valid Loss: 0.9501505227039416, Acc: 0.7356230020523071\n",
      "Epoch 7, Train Loss: 0.10962387416511774, Valid Loss: 1.0600273950507466, Acc: 0.7461062073707581\n",
      "Epoch 8, Train Loss: 0.04819248665431514, Valid Loss: 1.0687044653267905, Acc: 0.7562899589538574\n",
      "Epoch 9, Train Loss: 0.026376978388801216, Valid Loss: 1.0680508270336035, Acc: 0.7591853141784668\n"
     ]
    },
    {
     "data": {
      "image/png": "[encoded data removed]",
      "text/plain": [
       "<Figure size 1000x500 with 1 Axes>"
      ]
     },
     "metadata": {},
     "output_type": "display_data"
    }
   ],
   "source": [
    "optim = torch.optim.Adam(model.parameters(), lr=0.005, weight_decay=1e-5)\n",
    "scheduler = torch.optim.lr_scheduler.CosineAnnealingLR(optim, T_max=10)\n",
    "loss_fn = nn.CrossEntropyLoss()\n",
    "\n",
    "\n",
    "train_model(model, optim, loss_fn, train_dl, valid_dl, scheduler=scheduler, epochs=10, valid_every=1)"
   ]
  },
  {
   "cell_type": "code",
   "execution_count": 494,
   "metadata": {},
   "outputs": [],
   "source": [
    "class ConvBlock(nn.Module):\n",
    "    def __init__(self, in_channels, out_channels, activation: nn.Module = nn.ReLU, kernel_size: int = 3, stride: int = 1, padding: int = 1):\n",
    "        super().__init__()\n",
    "        self.conv = nn.Sequential(\n",
    "            nn.Conv2d(in_channels, out_channels, kernel_size=kernel_size, stride=stride, padding=padding), \n",
    "            nn.BatchNorm2d(out_channels),\n",
    "            activation(),\n",
    "            nn.Conv2d(out_channels, out_channels, kernel_size=kernel_size, stride=1, padding=padding),\n",
    "            nn.BatchNorm2d(out_channels),\n",
    "        )\n",
    "\n",
    "    def forward(self, x):\n",
    "        return self.conv(x)\n",
    "\n",
    "class ResBlock(nn.Module):\n",
    "    def __init__(self, in_channels, out_channels, activation: nn.Module = nn.ReLU, kernel_size: int = 3, stride: int = 1, padding: int = 1):\n",
    "        super().__init__()\n",
    "        self.conv1 = ConvBlock(in_channels, out_channels, activation, kernel_size, stride, padding)\n",
    "        self.idconv = nn.Identity() if in_channels == out_channels else nn.Conv2d(in_channels, out_channels, kernel_size=1, stride=stride)\n",
    "        self.activation = activation()\n",
    "\n",
    "    def forward(self, x):\n",
    "        h = self.conv1(x)\n",
    "        h_id = self.idconv(x)\n",
    "        return self.activation(h + h_id)\n"
   ]
  },
  {
   "cell_type": "code",
   "execution_count": 495,
   "metadata": {},
   "outputs": [
    {
     "name": "stdout",
     "output_type": "stream",
     "text": [
      "torch.Size([3, 32, 32])\n"
     ]
    },
    {
     "data": {
      "text/plain": [
       "torch.Size([1, 64, 32, 32])"
      ]
     },
     "execution_count": 495,
     "metadata": {},
     "output_type": "execute_result"
    }
   ],
   "source": [
    "res_block = ResBlock(3, 64).to(device)\n",
    "print(x_train[0].shape)\n",
    "res_block(x_train[0].unsqueeze(0)).shape"
   ]
  },
  {
   "cell_type": "code",
   "execution_count": 506,
   "metadata": {},
   "outputs": [],
   "source": [
    "class ResNet(nn.Module):\n",
    "    def __init__(self, num_channels: int, num_classes: int, filters: list[int], activation: nn.Module = nn.ReLU, stride: int = 2):\n",
    "        super().__init__()\n",
    "        res_layers = [\n",
    "            ResBlock(num_channels, filters[0], activation, stride=1)\n",
    "        ]\n",
    "        for i in range(len(filters)-1):\n",
    "            res_layers += [\n",
    "                ResBlock(filters[i], filters[i+1], activation, stride=stride)\n",
    "            ]\n",
    "        self.res_layers = nn.Sequential(*res_layers)\n",
    "        self.flatten = nn.Flatten()\n",
    "        self.linear = nn.Sequential(\n",
    "            nn.Linear(filters[-1], num_classes, bias=False),\n",
    "            nn.BatchNorm1d(num_classes),\n",
    "            activation()\n",
    "        )\n",
    "\n",
    "    def forward(self, x):\n",
    "        for i, layer in enumerate(self.res_layers):\n",
    "            x = layer(x)\n",
    "        \n",
    "        h = self.flatten(x)\n",
    "        return self.linear(h)"
   ]
  },
  {
   "cell_type": "code",
   "execution_count": 522,
   "metadata": {},
   "outputs": [
    {
     "data": {
      "text/plain": [
       "ResNet(\n",
       "  (res_layers): Sequential(\n",
       "    (0): ResBlock(\n",
       "      (conv1): ConvBlock(\n",
       "        (conv): Sequential(\n",
       "          (0): Conv2d(3, 4, kernel_size=(3, 3), stride=(1, 1), padding=(1, 1))\n",
       "          (1): BatchNorm2d(4, eps=1e-05, momentum=0.1, affine=True, track_running_stats=True)\n",
       "          (2): ReLU()\n",
       "          (3): Conv2d(4, 4, kernel_size=(3, 3), stride=(1, 1), padding=(1, 1))\n",
       "          (4): BatchNorm2d(4, eps=1e-05, momentum=0.1, affine=True, track_running_stats=True)\n",
       "        )\n",
       "      )\n",
       "      (idconv): Conv2d(3, 4, kernel_size=(1, 1), stride=(1, 1))\n",
       "      (activation): ReLU()\n",
       "    )\n",
       "    (1): ResBlock(\n",
       "      (conv1): ConvBlock(\n",
       "        (conv): Sequential(\n",
       "          (0): Conv2d(4, 8, kernel_size=(3, 3), stride=(2, 2), padding=(1, 1))\n",
       "          (1): BatchNorm2d(8, eps=1e-05, momentum=0.1, affine=True, track_running_stats=True)\n",
       "          (2): ReLU()\n",
       "          (3): Conv2d(8, 8, kernel_size=(3, 3), stride=(1, 1), padding=(1, 1))\n",
       "          (4): BatchNorm2d(8, eps=1e-05, momentum=0.1, affine=True, track_running_stats=True)\n",
       "        )\n",
       "      )\n",
       "      (idconv): Conv2d(4, 8, kernel_size=(1, 1), stride=(2, 2))\n",
       "      (activation): ReLU()\n",
       "    )\n",
       "    (2): ResBlock(\n",
       "      (conv1): ConvBlock(\n",
       "        (conv): Sequential(\n",
       "          (0): Conv2d(8, 16, kernel_size=(3, 3), stride=(2, 2), padding=(1, 1))\n",
       "          (1): BatchNorm2d(16, eps=1e-05, momentum=0.1, affine=True, track_running_stats=True)\n",
       "          (2): ReLU()\n",
       "          (3): Conv2d(16, 16, kernel_size=(3, 3), stride=(1, 1), padding=(1, 1))\n",
       "          (4): BatchNorm2d(16, eps=1e-05, momentum=0.1, affine=True, track_running_stats=True)\n",
       "        )\n",
       "      )\n",
       "      (idconv): Conv2d(8, 16, kernel_size=(1, 1), stride=(2, 2))\n",
       "      (activation): ReLU()\n",
       "    )\n",
       "    (3): ResBlock(\n",
       "      (conv1): ConvBlock(\n",
       "        (conv): Sequential(\n",
       "          (0): Conv2d(16, 32, kernel_size=(3, 3), stride=(2, 2), padding=(1, 1))\n",
       "          (1): BatchNorm2d(32, eps=1e-05, momentum=0.1, affine=True, track_running_stats=True)\n",
       "          (2): ReLU()\n",
       "          (3): Conv2d(32, 32, kernel_size=(3, 3), stride=(1, 1), padding=(1, 1))\n",
       "          (4): BatchNorm2d(32, eps=1e-05, momentum=0.1, affine=True, track_running_stats=True)\n",
       "        )\n",
       "      )\n",
       "      (idconv): Conv2d(16, 32, kernel_size=(1, 1), stride=(2, 2))\n",
       "      (activation): ReLU()\n",
       "    )\n",
       "    (4): ResBlock(\n",
       "      (conv1): ConvBlock(\n",
       "        (conv): Sequential(\n",
       "          (0): Conv2d(32, 64, kernel_size=(3, 3), stride=(2, 2), padding=(1, 1))\n",
       "          (1): BatchNorm2d(64, eps=1e-05, momentum=0.1, affine=True, track_running_stats=True)\n",
       "          (2): ReLU()\n",
       "          (3): Conv2d(64, 64, kernel_size=(3, 3), stride=(1, 1), padding=(1, 1))\n",
       "          (4): BatchNorm2d(64, eps=1e-05, momentum=0.1, affine=True, track_running_stats=True)\n",
       "        )\n",
       "      )\n",
       "      (idconv): Conv2d(32, 64, kernel_size=(1, 1), stride=(2, 2))\n",
       "      (activation): ReLU()\n",
       "    )\n",
       "    (5): ResBlock(\n",
       "      (conv1): ConvBlock(\n",
       "        (conv): Sequential(\n",
       "          (0): Conv2d(64, 128, kernel_size=(3, 3), stride=(2, 2), padding=(1, 1))\n",
       "          (1): BatchNorm2d(128, eps=1e-05, momentum=0.1, affine=True, track_running_stats=True)\n",
       "          (2): ReLU()\n",
       "          (3): Conv2d(128, 128, kernel_size=(3, 3), stride=(1, 1), padding=(1, 1))\n",
       "          (4): BatchNorm2d(128, eps=1e-05, momentum=0.1, affine=True, track_running_stats=True)\n",
       "        )\n",
       "      )\n",
       "      (idconv): Conv2d(64, 128, kernel_size=(1, 1), stride=(2, 2))\n",
       "      (activation): ReLU()\n",
       "    )\n",
       "    (6): ResBlock(\n",
       "      (conv1): ConvBlock(\n",
       "        (conv): Sequential(\n",
       "          (0): Conv2d(128, 256, kernel_size=(3, 3), stride=(2, 2), padding=(1, 1))\n",
       "          (1): BatchNorm2d(256, eps=1e-05, momentum=0.1, affine=True, track_running_stats=True)\n",
       "          (2): ReLU()\n",
       "          (3): Conv2d(256, 256, kernel_size=(3, 3), stride=(1, 1), padding=(1, 1))\n",
       "          (4): BatchNorm2d(256, eps=1e-05, momentum=0.1, affine=True, track_running_stats=True)\n",
       "        )\n",
       "      )\n",
       "      (idconv): Conv2d(128, 256, kernel_size=(1, 1), stride=(2, 2))\n",
       "      (activation): ReLU()\n",
       "    )\n",
       "  )\n",
       "  (flatten): Flatten(start_dim=1, end_dim=-1)\n",
       "  (linear): Sequential(\n",
       "    (0): Linear(in_features=256, out_features=10, bias=False)\n",
       "    (1): BatchNorm1d(10, eps=1e-05, momentum=0.1, affine=True, track_running_stats=True)\n",
       "    (2): ReLU()\n",
       "  )\n",
       ")"
      ]
     },
     "execution_count": 522,
     "metadata": {},
     "output_type": "execute_result"
    }
   ],
   "source": [
    "model2 = ResNet(3, 10, [4, 8, 16, 32, 64, 128, 256], nn.ReLU, stride=2).to(device)\n",
    "model2"
   ]
  },
  {
   "cell_type": "code",
   "execution_count": 523,
   "metadata": {},
   "outputs": [
    {
     "name": "stdout",
     "output_type": "stream",
     "text": [
      "<generator object Module.parameters at 0x803c6c2e0>\n",
      "Number of parameters: 6366730\n",
      "<generator object Module.parameters at 0x803c6c2e0>\n",
      "Number of parameters: 1229440\n"
     ]
    }
   ],
   "source": [
    "print(model.parameters())\n",
    "total_params = sum(p.numel() for p in model.parameters())\n",
    "print(f\"Number of parameters: {total_params}\")\n",
    "print(model2.parameters())\n",
    "total_params = sum(p.numel() for p in model2.parameters())\n",
    "print(f\"Number of parameters: {total_params}\")\n",
    "\n"
   ]
  },
  {
   "cell_type": "code",
   "execution_count": 524,
   "metadata": {},
   "outputs": [
    {
     "name": "stdout",
     "output_type": "stream",
     "text": [
      "Epoch 0, Train Loss: 1.67241498169899, Valid Loss: 1.4891453210157328, Acc: 0.4635583162307739\n",
      "Epoch 1, Train Loss: 1.2836457225322724, Valid Loss: 1.225164543706388, Acc: 0.5661941170692444\n",
      "Epoch 2, Train Loss: 1.1220051838874816, Valid Loss: 1.1130778602898692, Acc: 0.6147164702415466\n",
      "Epoch 3, Train Loss: 1.016389432477951, Valid Loss: 1.0807124458181971, Acc: 0.6142172813415527\n",
      "Epoch 4, Train Loss: 0.9252321276664733, Valid Loss: 0.9327532760441875, Acc: 0.6754193305969238\n",
      "Epoch 5, Train Loss: 0.8379067987680435, Valid Loss: 0.9082962669694005, Acc: 0.6865016222000122\n",
      "Epoch 6, Train Loss: 0.7588355212926865, Valid Loss: 0.8126989520205476, Acc: 0.7141573429107666\n",
      "Epoch 7, Train Loss: 0.6787064866542816, Valid Loss: 0.7967867419932978, Acc: 0.7299321293830872\n",
      "Epoch 8, Train Loss: 0.6071539987683297, Valid Loss: 0.7907986249596166, Acc: 0.7363218665122986\n"
     ]
    }
   ],
   "source": [
    "optim2 = torch.optim.Adam(model2.parameters(), lr=0.001, weight_decay=1e-5)\n",
    "scheduler2 = torch.optim.lr_scheduler.CosineAnnealingLR(optim2, T_max=10)\n",
    "loss_fn = nn.CrossEntropyLoss()\n",
    "train_model(model2, optim2, loss_fn, train_dl, valid_dl, scheduler=scheduler2, epochs=10, valid_every=1)"
   ]
  },
  {
   "cell_type": "code",
   "execution_count": null,
   "metadata": {},
   "outputs": [],
   "source": []
  }
 ],
 "metadata": {
  "kernelspec": {
   "display_name": "base",
   "language": "python",
   "name": "python3"
  },
  "language_info": {
   "codemirror_mode": {
    "name": "ipython",
    "version": 3
   },
   "file_extension": ".py",
   "mimetype": "text/x-python",
   "name": "python",
   "nbconvert_exporter": "python",
   "pygments_lexer": "ipython3",
   "version": "3.12.4"
  }
 },
 "nbformat": 4,
 "nbformat_minor": 2
}

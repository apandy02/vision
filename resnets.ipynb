{
 "cells": [
  {
   "cell_type": "code",
   "execution_count": 20,
   "metadata": {},
   "outputs": [],
   "source": [
    "import torch\n",
    "import pickle\n",
    "import numpy as np\n",
    "import matplotlib.pyplot as plt\n",
    "from torch import nn"
   ]
  },
  {
   "cell_type": "code",
   "execution_count": 21,
   "metadata": {},
   "outputs": [],
   "source": [
    "device = \"mps\" if torch.backends.mps.is_available() else \"cpu\""
   ]
  },
  {
   "cell_type": "code",
   "execution_count": 22,
   "metadata": {},
   "outputs": [],
   "source": [
    "all_batches_data = []\n",
    "all_batches_labels = []\n",
    "\n",
    "for i in range(1, 6):\n",
    "    with open(f'cifar-10-batches-py/data_batch_{i}', 'rb') as f:\n",
    "        dataset_dict = pickle.load(f, encoding='bytes')\n",
    "        all_batches_data.append(dataset_dict[b'data'])\n",
    "        all_batches_labels.append(dataset_dict[b'labels'])\n",
    "\n",
    "stacked_data = np.vstack(all_batches_data)\n",
    "stacked_labels = np.hstack(all_batches_labels)\n",
    "\n",
    "data = torch.tensor(stacked_data, dtype=torch.float32).view(-1, 3, 32, 32).to(device) / 255.\n",
    "labels = torch.tensor(stacked_labels, dtype=torch.long).to(device)\n",
    "\n",
    "split_idx = int(0.8 * len(data))\n",
    "\n",
    "x_train, x_valid = data[:split_idx], data[split_idx:]\n",
    "y_train, y_valid = labels[:split_idx], labels[split_idx:]"
   ]
  },
  {
   "cell_type": "code",
   "execution_count": 23,
   "metadata": {},
   "outputs": [
    {
     "name": "stdout",
     "output_type": "stream",
     "text": [
      "torch.Size([40000, 3, 32, 32])\n",
      "mps:0\n"
     ]
    }
   ],
   "source": [
    "print(x_train.shape)\n",
    "print(x_train.device)"
   ]
  },
  {
   "cell_type": "code",
   "execution_count": 24,
   "metadata": {},
   "outputs": [],
   "source": [
    "class ConvNet(nn.Module):\n",
    "    def __init__(self, \n",
    "                 num_channels: int, \n",
    "                 num_classes: int, \n",
    "                 filters: list[int], \n",
    "                 activation: nn.Module = nn.ReLU\n",
    "                 ):\n",
    "        super().__init__()\n",
    "        conv_layers = [\n",
    "            nn.Conv2d(num_channels, filters[0], kernel_size=3, stride=2, padding=1),\n",
    "            nn.BatchNorm2d(filters[0]),\n",
    "            activation()\n",
    "        ]\n",
    "        for i in range(len(filters)-1):\n",
    "            conv_layers += [\n",
    "                nn.Conv2d(filters[i], filters[i+1], kernel_size=3, stride=2, padding=1), \n",
    "                nn.BatchNorm2d(filters[i+1]),\n",
    "                activation()\n",
    "            ]\n",
    "        \n",
    "        conv_layers.append(nn.Conv2d(filters[-1], num_classes, kernel_size=3, stride=1, padding=1))\n",
    "        self.conv_layers = nn.Sequential(*conv_layers)\n",
    "        self.flatten = nn.Flatten()\n",
    "\n",
    "    def forward(self, x):\n",
    "        h = self.conv_layers(x)\n",
    "        return self.flatten(h)\n"
   ]
  },
  {
   "cell_type": "code",
   "execution_count": 25,
   "metadata": {},
   "outputs": [],
   "source": [
    "model = ConvNet(3, 10, [64, 128, 256, 512, 1024], nn.LeakyReLU).to(device)\n"
   ]
  },
  {
   "cell_type": "code",
   "execution_count": 26,
   "metadata": {},
   "outputs": [
    {
     "data": {
      "text/plain": [
       "ConvNet(\n",
       "  (conv_layers): Sequential(\n",
       "    (0): Conv2d(3, 64, kernel_size=(3, 3), stride=(2, 2), padding=(1, 1))\n",
       "    (1): BatchNorm2d(64, eps=1e-05, momentum=0.1, affine=True, track_running_stats=True)\n",
       "    (2): LeakyReLU(negative_slope=0.01)\n",
       "    (3): Conv2d(64, 128, kernel_size=(3, 3), stride=(2, 2), padding=(1, 1))\n",
       "    (4): BatchNorm2d(128, eps=1e-05, momentum=0.1, affine=True, track_running_stats=True)\n",
       "    (5): LeakyReLU(negative_slope=0.01)\n",
       "    (6): Conv2d(128, 256, kernel_size=(3, 3), stride=(2, 2), padding=(1, 1))\n",
       "    (7): BatchNorm2d(256, eps=1e-05, momentum=0.1, affine=True, track_running_stats=True)\n",
       "    (8): LeakyReLU(negative_slope=0.01)\n",
       "    (9): Conv2d(256, 512, kernel_size=(3, 3), stride=(2, 2), padding=(1, 1))\n",
       "    (10): BatchNorm2d(512, eps=1e-05, momentum=0.1, affine=True, track_running_stats=True)\n",
       "    (11): LeakyReLU(negative_slope=0.01)\n",
       "    (12): Conv2d(512, 1024, kernel_size=(3, 3), stride=(2, 2), padding=(1, 1))\n",
       "    (13): BatchNorm2d(1024, eps=1e-05, momentum=0.1, affine=True, track_running_stats=True)\n",
       "    (14): LeakyReLU(negative_slope=0.01)\n",
       "    (15): Conv2d(1024, 10, kernel_size=(3, 3), stride=(1, 1), padding=(1, 1))\n",
       "  )\n",
       "  (flatten): Flatten(start_dim=1, end_dim=-1)\n",
       ")"
      ]
     },
     "execution_count": 26,
     "metadata": {},
     "output_type": "execute_result"
    }
   ],
   "source": [
    "model"
   ]
  },
  {
   "cell_type": "code",
   "execution_count": 27,
   "metadata": {},
   "outputs": [],
   "source": [
    "def accuracy(y_pred, y):\n",
    "    return (y_pred.argmax(dim=1) == y).float().mean()\n",
    "\n",
    "def validate_model(model, valid_loader, loss_fn, all_valid_loss):\n",
    "    model.eval()\n",
    "    valid_loss = []\n",
    "    valid_acc = []\n",
    "    \n",
    "    with torch.no_grad():\n",
    "        for batch in valid_loader:\n",
    "            x, y = batch\n",
    "            y_pred = model(x)\n",
    "            loss = loss_fn(y_pred, y)\n",
    "            valid_loss.append(loss.item())\n",
    "            valid_acc.append(accuracy(y_pred, y))\n",
    "    \n",
    "    all_valid_loss.append(sum(valid_loss) / len(valid_loss))\n",
    "    \n",
    "    return sum(valid_acc) / len(valid_acc)\n",
    "\n",
    "def plot_loss(all_train_loss, all_valid_loss):\n",
    "    plt.figure(figsize=(10, 5))\n",
    "    plt.plot(all_train_loss, label='Training Loss')\n",
    "    plt.plot(all_valid_loss, label='Validation Loss')\n",
    "    plt.xlabel('Epoch')\n",
    "    plt.ylabel('Loss')\n",
    "    plt.legend()\n",
    "    plt.show()\n",
    "\n",
    "\n",
    "def train_model(model: nn.Module,\n",
    "                optim: torch.optim.Optimizer,\n",
    "                loss_fn,\n",
    "                train_loader,\n",
    "                valid_loader,\n",
    "                scheduler,\n",
    "                epochs=10,\n",
    "                batch_size=32,\n",
    "                valid_every=1\n",
    "                ):\n",
    "    all_train_loss = []\n",
    "    all_valid_loss = []\n",
    "    \n",
    "    for epoch in range(epochs):\n",
    "        model.train()\n",
    "        train_loss = []\n",
    "        \n",
    "        for batch in train_loader:\n",
    "            x, y = batch\n",
    "            optim.zero_grad()\n",
    "            y_pred = model(x)\n",
    "            loss = loss_fn(y_pred, y)\n",
    "            loss.backward()\n",
    "            optim.step()\n",
    "            train_loss.append(loss.item())\n",
    "        \n",
    "        all_train_loss.append(sum(train_loss) / len(train_loss))\n",
    "        scheduler.step()\n",
    "        \n",
    "        if epoch % valid_every == 0:\n",
    "            valid_acc = validate_model(model, valid_loader, loss_fn, all_valid_loss)\n",
    "            print(\n",
    "                f\"Epoch {epoch}, Train Loss: {sum(train_loss) / len(train_loss)}, \"\n",
    "                f\"Valid Loss: {all_valid_loss[-1]}, \"\n",
    "                f\"Acc: {valid_acc}\"\n",
    "            )\n",
    "    \n",
    "    plot_loss(all_train_loss, all_valid_loss)\n"
   ]
  },
  {
   "cell_type": "code",
   "execution_count": 28,
   "metadata": {},
   "outputs": [],
   "source": [
    "from torch.utils.data import Dataset, DataLoader\n",
    "\n",
    "class CIFARCustomDataset(Dataset):\n",
    "    def __init__(self, x, y):\n",
    "        self.x = x\n",
    "        self.y = y\n",
    "\n",
    "    def __len__(self):\n",
    "        return len(self.x)\n",
    "\n",
    "    def __getitem__(self, idx):\n",
    "        return self.x[idx], self.y[idx]\n",
    "\n",
    "train_ds = CIFARCustomDataset(x_train, y_train)\n",
    "valid_ds = CIFARCustomDataset(x_valid, y_valid)\n",
    "\n",
    "train_dl = DataLoader(train_ds, batch_size=32, shuffle=True)\n",
    "valid_dl = DataLoader(valid_ds, batch_size=32, shuffle=True)"
   ]
  },
  {
   "cell_type": "code",
   "execution_count": 29,
   "metadata": {},
   "outputs": [
    {
     "name": "stdout",
     "output_type": "stream",
     "text": [
      "Epoch 0, Train Loss: 1.5101688059806824, Valid Loss: 1.292445351330998, Acc: 0.5452276468276978\n",
      "Epoch 1, Train Loss: 1.0938910395622254, Valid Loss: 1.0205923869206122, Acc: 0.6391773223876953\n",
      "Epoch 2, Train Loss: 0.8913507316589355, Valid Loss: 1.0292902242261381, Acc: 0.6405750513076782\n",
      "Epoch 3, Train Loss: 0.7259785904407501, Valid Loss: 0.8734565553383324, Acc: 0.6999800205230713\n",
      "Epoch 4, Train Loss: 0.565662142086029, Valid Loss: 0.8162437851627034, Acc: 0.7207468152046204\n",
      "Epoch 5, Train Loss: 0.39380665556192396, Valid Loss: 0.8739080132006075, Acc: 0.7280351519584656\n",
      "Epoch 6, Train Loss: 0.21693336042165756, Valid Loss: 0.9603492102017418, Acc: 0.7404153347015381\n",
      "Epoch 7, Train Loss: 0.10632418955862522, Valid Loss: 1.0672779631690856, Acc: 0.7445088028907776\n",
      "Epoch 8, Train Loss: 0.0473312547900714, Valid Loss: 1.111151238409475, Acc: 0.7542931437492371\n",
      "Epoch 9, Train Loss: 0.025714744623657314, Valid Loss: 1.0945350838640628, Acc: 0.759085476398468\n"
     ]
    },
    {
     "data": {
      "image/png": "[encoded data removed]",
      "text/plain": [
       "<Figure size 1000x500 with 1 Axes>"
      ]
     },
     "metadata": {},
     "output_type": "display_data"
    }
   ],
   "source": [
    "optim = torch.optim.Adam(model.parameters(), lr=0.005, weight_decay=1e-5)\n",
    "scheduler = torch.optim.lr_scheduler.CosineAnnealingLR(optim, T_max=10)\n",
    "loss_fn = nn.CrossEntropyLoss()\n",
    "\n",
    "\n",
    "train_model(model, optim, loss_fn, train_dl, valid_dl, scheduler=scheduler, epochs=10, valid_every=1)"
   ]
  },
  {
   "cell_type": "code",
   "execution_count": 60,
   "metadata": {},
   "outputs": [],
   "source": [
    "class ConvBlock(nn.Module):\n",
    "    def __init__(self, \n",
    "                 in_channels: int, \n",
    "                 out_channels: int, \n",
    "                 activation: nn.Module = nn.ReLU, \n",
    "                 kernel_size: int = 3, \n",
    "                 stride: int = 1, \n",
    "                 padding: int = 1\n",
    "                 ):\n",
    "        super().__init__()\n",
    "        self.conv = nn.Sequential(\n",
    "            nn.Conv2d(in_channels, out_channels, kernel_size=kernel_size, stride=stride, padding=padding), \n",
    "            nn.BatchNorm2d(out_channels),\n",
    "            activation(),\n",
    "            nn.Conv2d(out_channels, out_channels, kernel_size=kernel_size, stride=1, padding=padding),\n",
    "            nn.BatchNorm2d(out_channels),\n",
    "        )\n",
    "\n",
    "    def forward(self, x):\n",
    "        return self.conv(x)\n",
    "\n",
    "class ResBlock(nn.Module):\n",
    "    def __init__(self, \n",
    "                 in_channels, \n",
    "                 out_channels, \n",
    "                 activation: nn.Module = nn.ReLU, \n",
    "                 kernel_size: int = 3, \n",
    "                 stride: int = 1, \n",
    "                 padding: int = 1, \n",
    "                 dropout: float = 0.2\n",
    "                 ):\n",
    "        super().__init__()\n",
    "        self.conv1 = ConvBlock(\n",
    "            in_channels, \n",
    "            out_channels, \n",
    "            activation, \n",
    "            kernel_size, \n",
    "            stride, \n",
    "            padding\n",
    "        )\n",
    "        if in_channels == out_channels:\n",
    "            self.idconv = nn.Identity()\n",
    "        else:\n",
    "            self.idconv = nn.Conv2d(in_channels, out_channels, kernel_size=1, stride=1)\n",
    "        \n",
    "        self.avgpool = nn.Identity() if stride == 1 else nn.AvgPool2d(kernel_size=2, stride=stride)\n",
    "        self.activation = activation()\n",
    "        self.dropout = nn.Dropout(dropout)\n",
    "\n",
    "\n",
    "    def forward(self, x):\n",
    "        h = self.conv1(x)\n",
    "        h_id = self.avgpool(self.idconv(x))\n",
    "        return self.dropout(self.activation(h + h_id))\n",
    "\n"
   ]
  },
  {
   "cell_type": "code",
   "execution_count": 61,
   "metadata": {},
   "outputs": [
    {
     "name": "stdout",
     "output_type": "stream",
     "text": [
      "torch.Size([3, 32, 32])\n",
      "torch.Size([1, 64, 32, 32])\n",
      "torch.Size([1, 64, 32, 32])\n",
      "torch.Size([1, 64, 32, 32])\n",
      "torch.Size([1, 64, 32, 32])\n",
      "torch.Size([1, 64, 32, 32])\n",
      "torch.Size([1, 64, 32, 32])\n",
      "torch.Size([1, 64, 32, 32])\n",
      "torch.Size([1, 64, 32, 32])\n",
      "torch.Size([1, 64, 32, 32])\n",
      "torch.Size([1, 64, 32, 32])\n"
     ]
    }
   ],
   "source": [
    "res_block = ResBlock(3, 64).to(device)\n",
    "print(x_train[0].shape)\n",
    "res_block(x_train[0].unsqueeze(0)).shape\n",
    "\n",
    "for i in range(10):\n",
    "    print(res_block(x_train[i].unsqueeze(0)).shape)\n"
   ]
  },
  {
   "cell_type": "code",
   "execution_count": 62,
   "metadata": {},
   "outputs": [],
   "source": [
    "class ResNet(nn.Module):\n",
    "    def __init__(self,\n",
    "                 num_channels: int,\n",
    "                 num_classes: int,\n",
    "                 filters: list[int],\n",
    "                 activation: nn.Module = nn.ReLU,\n",
    "                 stride: int = 2,\n",
    "                 dropout: float = 0.2\n",
    "                 ):\n",
    "        super().__init__()\n",
    "        res_layers = [\n",
    "            ResBlock(num_channels, filters[0], activation, stride=1)\n",
    "        ]\n",
    "        for i in range(len(filters)-1):\n",
    "            res_layers += [\n",
    "                ResBlock(filters[i], filters[i+1], activation, stride=stride, dropout=dropout)\n",
    "            ]\n",
    "        self.res_layers = nn.Sequential(*res_layers)\n",
    "        self.avgpool = nn.AdaptiveAvgPool2d((1, 1))\n",
    "        self.flatten = nn.Flatten()\n",
    "        self.linear = nn.Sequential(\n",
    "            nn.Linear(filters[-1], num_classes, bias=False),\n",
    "            nn.BatchNorm1d(num_classes),\n",
    "            activation()\n",
    "        )\n",
    "        self.dropout = nn.Dropout(dropout)\n",
    "    def forward(self, x):\n",
    "        for _, layer in enumerate(self.res_layers):\n",
    "            x = layer(x)\n",
    "\n",
    "        h = self.avgpool(x)\n",
    "        h = self.flatten(h)\n",
    "        h = self.dropout(h)\n",
    "        return self.linear(h)\n"
   ]
  },
  {
   "cell_type": "code",
   "execution_count": 63,
   "metadata": {},
   "outputs": [
    {
     "data": {
      "text/plain": [
       "ResNet(\n",
       "  (res_layers): Sequential(\n",
       "    (0): ResBlock(\n",
       "      (conv1): ConvBlock(\n",
       "        (conv): Sequential(\n",
       "          (0): Conv2d(3, 64, kernel_size=(3, 3), stride=(1, 1), padding=(1, 1))\n",
       "          (1): BatchNorm2d(64, eps=1e-05, momentum=0.1, affine=True, track_running_stats=True)\n",
       "          (2): ReLU()\n",
       "          (3): Conv2d(64, 64, kernel_size=(3, 3), stride=(1, 1), padding=(1, 1))\n",
       "          (4): BatchNorm2d(64, eps=1e-05, momentum=0.1, affine=True, track_running_stats=True)\n",
       "        )\n",
       "      )\n",
       "      (idconv): Conv2d(3, 64, kernel_size=(1, 1), stride=(1, 1))\n",
       "      (avgpool): Identity()\n",
       "      (activation): ReLU()\n",
       "      (dropout): Dropout(p=0.2, inplace=False)\n",
       "    )\n",
       "    (1): ResBlock(\n",
       "      (conv1): ConvBlock(\n",
       "        (conv): Sequential(\n",
       "          (0): Conv2d(64, 128, kernel_size=(3, 3), stride=(2, 2), padding=(1, 1))\n",
       "          (1): BatchNorm2d(128, eps=1e-05, momentum=0.1, affine=True, track_running_stats=True)\n",
       "          (2): ReLU()\n",
       "          (3): Conv2d(128, 128, kernel_size=(3, 3), stride=(1, 1), padding=(1, 1))\n",
       "          (4): BatchNorm2d(128, eps=1e-05, momentum=0.1, affine=True, track_running_stats=True)\n",
       "        )\n",
       "      )\n",
       "      (idconv): Conv2d(64, 128, kernel_size=(1, 1), stride=(1, 1))\n",
       "      (avgpool): AvgPool2d(kernel_size=2, stride=2, padding=0)\n",
       "      (activation): ReLU()\n",
       "      (dropout): Dropout(p=0.2, inplace=False)\n",
       "    )\n",
       "    (2): ResBlock(\n",
       "      (conv1): ConvBlock(\n",
       "        (conv): Sequential(\n",
       "          (0): Conv2d(128, 256, kernel_size=(3, 3), stride=(2, 2), padding=(1, 1))\n",
       "          (1): BatchNorm2d(256, eps=1e-05, momentum=0.1, affine=True, track_running_stats=True)\n",
       "          (2): ReLU()\n",
       "          (3): Conv2d(256, 256, kernel_size=(3, 3), stride=(1, 1), padding=(1, 1))\n",
       "          (4): BatchNorm2d(256, eps=1e-05, momentum=0.1, affine=True, track_running_stats=True)\n",
       "        )\n",
       "      )\n",
       "      (idconv): Conv2d(128, 256, kernel_size=(1, 1), stride=(1, 1))\n",
       "      (avgpool): AvgPool2d(kernel_size=2, stride=2, padding=0)\n",
       "      (activation): ReLU()\n",
       "      (dropout): Dropout(p=0.2, inplace=False)\n",
       "    )\n",
       "    (3): ResBlock(\n",
       "      (conv1): ConvBlock(\n",
       "        (conv): Sequential(\n",
       "          (0): Conv2d(256, 256, kernel_size=(3, 3), stride=(2, 2), padding=(1, 1))\n",
       "          (1): BatchNorm2d(256, eps=1e-05, momentum=0.1, affine=True, track_running_stats=True)\n",
       "          (2): ReLU()\n",
       "          (3): Conv2d(256, 256, kernel_size=(3, 3), stride=(1, 1), padding=(1, 1))\n",
       "          (4): BatchNorm2d(256, eps=1e-05, momentum=0.1, affine=True, track_running_stats=True)\n",
       "        )\n",
       "      )\n",
       "      (idconv): Identity()\n",
       "      (avgpool): AvgPool2d(kernel_size=2, stride=2, padding=0)\n",
       "      (activation): ReLU()\n",
       "      (dropout): Dropout(p=0.2, inplace=False)\n",
       "    )\n",
       "    (4): ResBlock(\n",
       "      (conv1): ConvBlock(\n",
       "        (conv): Sequential(\n",
       "          (0): Conv2d(256, 512, kernel_size=(3, 3), stride=(2, 2), padding=(1, 1))\n",
       "          (1): BatchNorm2d(512, eps=1e-05, momentum=0.1, affine=True, track_running_stats=True)\n",
       "          (2): ReLU()\n",
       "          (3): Conv2d(512, 512, kernel_size=(3, 3), stride=(1, 1), padding=(1, 1))\n",
       "          (4): BatchNorm2d(512, eps=1e-05, momentum=0.1, affine=True, track_running_stats=True)\n",
       "        )\n",
       "      )\n",
       "      (idconv): Conv2d(256, 512, kernel_size=(1, 1), stride=(1, 1))\n",
       "      (avgpool): AvgPool2d(kernel_size=2, stride=2, padding=0)\n",
       "      (activation): ReLU()\n",
       "      (dropout): Dropout(p=0.2, inplace=False)\n",
       "    )\n",
       "  )\n",
       "  (avgpool): AdaptiveAvgPool2d(output_size=(1, 1))\n",
       "  (flatten): Flatten(start_dim=1, end_dim=-1)\n",
       "  (linear): Sequential(\n",
       "    (0): Linear(in_features=512, out_features=10, bias=False)\n",
       "    (1): BatchNorm1d(10, eps=1e-05, momentum=0.1, affine=True, track_running_stats=True)\n",
       "    (2): ReLU()\n",
       "  )\n",
       "  (dropout): Dropout(p=0.2, inplace=False)\n",
       ")"
      ]
     },
     "execution_count": 63,
     "metadata": {},
     "output_type": "execute_result"
    }
   ],
   "source": [
    "model2 = ResNet(3, 10, [64, 128, 256, 256, 512], nn.ReLU, stride=2).to(device)\n",
    "model2"
   ]
  },
  {
   "cell_type": "code",
   "execution_count": 64,
   "metadata": {},
   "outputs": [
    {
     "name": "stdout",
     "output_type": "stream",
     "text": [
      "<generator object Module.parameters at 0x35ccf4970>\n",
      "Number of parameters: 6366730\n",
      "<generator object Module.parameters at 0x35ccf4580>\n",
      "Number of parameters: 6048724\n"
     ]
    }
   ],
   "source": [
    "print(model.parameters())\n",
    "total_params = sum(p.numel() for p in model.parameters())\n",
    "print(f\"Number of parameters: {total_params}\")\n",
    "print(model2.parameters())\n",
    "total_params = sum(p.numel() for p in model2.parameters())\n",
    "print(f\"Number of parameters: {total_params}\")\n",
    "\n"
   ]
  },
  {
   "cell_type": "code",
   "execution_count": 65,
   "metadata": {},
   "outputs": [
    {
     "name": "stdout",
     "output_type": "stream",
     "text": [
      "Epoch 0, Train Loss: 1.5787638450145722, Valid Loss: 1.1965802222395097, Acc: 0.6327875256538391\n",
      "Epoch 1, Train Loss: 1.2749716502666473, Valid Loss: 1.2308212095937028, Acc: 0.5814696550369263\n",
      "Epoch 2, Train Loss: 1.0187572746276856, Valid Loss: 0.9381417721605149, Acc: 0.6897963285446167\n",
      "Epoch 3, Train Loss: 0.8441153187990189, Valid Loss: 0.7503800334069676, Acc: 0.7423123121261597\n",
      "Epoch 4, Train Loss: 0.7315930210113525, Valid Loss: 0.6660598718320219, Acc: 0.7768570184707642\n",
      "Epoch 5, Train Loss: 0.6506983820080757, Valid Loss: 0.6089078706388656, Acc: 0.7913338541984558\n",
      "Epoch 6, Train Loss: 0.563242184638977, Valid Loss: 0.606230234042905, Acc: 0.7955271601676941\n",
      "Epoch 7, Train Loss: 0.4532679844200611, Valid Loss: 0.5031789567428656, Acc: 0.8357627987861633\n",
      "Epoch 8, Train Loss: 0.32961350974440573, Valid Loss: 0.4508459839386681, Acc: 0.8512380123138428\n",
      "Epoch 9, Train Loss: 0.205091875551641, Valid Loss: 0.44516404536061777, Acc: 0.8623203039169312\n"
     ]
    },
    {
     "data": {
      "image/png": "[encoded data removed]",
      "text/plain": [
       "<Figure size 1000x500 with 1 Axes>"
      ]
     },
     "metadata": {},
     "output_type": "display_data"
    }
   ],
   "source": [
    "optim2 = torch.optim.Adam(model2.parameters(), lr=0.005, weight_decay=1e-5)\n",
    "scheduler2 = torch.optim.lr_scheduler.OneCycleLR(optim2, max_lr=0.005, total_steps=12)\n",
    "loss_fn = nn.CrossEntropyLoss()\n",
    "train_model(model2, optim2, loss_fn, train_dl, valid_dl, scheduler=scheduler2, epochs=10, valid_every=1)"
   ]
  },
  {
   "cell_type": "markdown",
   "metadata": {},
   "source": [
    "Since the model incorporates information from each resblock input into its output, you can make the model deeper and wider while improving learning and not losing too much information along the critical path. \n",
    "\n",
    "The resnet with less parameters 6M vs 6.5M still performs better on the validation set than the regular convnet. The resnet gets upto 85.5% accuracy vs 76.1% for the convnet. \n",
    "\n",
    "When we give the resnet as much width as out convnet, the number fo parameters rises to 19.5M. The improvement in validation accuracy, however, was marginal (85.9% vs 85.5%). \n"
   ]
  },
  {
   "cell_type": "markdown",
   "metadata": {},
   "source": [
    "Dropout strategy results (evalutated with the 6M parameter ResNet w/ same hyperparameters): \n",
    "1. Place after each conv block: 86% \n",
    "2. Place after each resblock: 87% -- loss still decreasing, we can still train more \n",
    "3. Place before the linear layer 85% \n",
    "4. After each resblock & before linear layer: 86.23%"
   ]
  }
 ],
 "metadata": {
  "kernelspec": {
   "display_name": "base",
   "language": "python",
   "name": "python3"
  },
  "language_info": {
   "codemirror_mode": {
    "name": "ipython",
    "version": 3
   },
   "file_extension": ".py",
   "mimetype": "text/x-python",
   "name": "python",
   "nbconvert_exporter": "python",
   "pygments_lexer": "ipython3",
   "version": "3.10.15"
  }
 },
 "nbformat": 4,
 "nbformat_minor": 2
}

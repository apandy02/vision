{
  "nbformat": 4,
  "nbformat_minor": 0,
  "metadata": {
    "colab": {
      "provenance": [],
      "collapsed_sections": []
    },
    "kernelspec": {
      "name": "python3",
      "display_name": "Python 3"
    },
    "language_info": {
      "name": "python"
    }
  },
  "cells": [
    {
      "cell_type": "code",
      "execution_count": 160,
      "metadata": {
        "id": "L9i9-DhHEwkA"
      },
      "outputs": [],
      "source": [
        "import torch \n",
        "import torchvision\n",
        "import torchvision.transforms as transforms \n",
        "from torchvision.utils import save_image \n",
        "from torch.utils.data import Dataset, DataLoader\n",
        "import matplotlib.pyplot as plt"
      ]
    },
    {
      "cell_type": "code",
      "source": [
        "gtsrb_train_set = torchvision.datasets.GTSRB(root='./data', split = \"train\", \n",
        "                                           transform = transforms.Compose([transforms.ToTensor(),\n",
        "                                                           transforms.Normalize((0.3337, 0.3064, 0.3171), ( 0.2672, 0.2564, 0.2629))]), \n",
        "                                           download = True)"
      ],
      "metadata": {
        "id": "hqDP_Dg5GlE4"
      },
      "execution_count": 161,
      "outputs": []
    },
    {
      "cell_type": "code",
      "source": [
        "heights = []\n",
        "widths = []\n",
        "for img, label in gtsrb_train_set: \n",
        "  heights.append(img.size(dim=1))\n",
        "  widths.append(img.size(dim=2))"
      ],
      "metadata": {
        "id": "ehHVlellGgrt"
      },
      "execution_count": 162,
      "outputs": []
    },
    {
      "cell_type": "code",
      "source": [
        "heights_bar = [0]*max(heights)\n",
        "widths_bar = [0]*max(widths)"
      ],
      "metadata": {
        "id": "qHznRygfJwKJ"
      },
      "execution_count": 163,
      "outputs": []
    },
    {
      "cell_type": "code",
      "source": [
        "for i in range(len(widths_bar)):\n",
        "  widths_bar[i] = widths.count(i)\n",
        "\n",
        "for j in range(len(heights_bar)):\n",
        "  heights_bar[j] = heights.count(j)"
      ],
      "metadata": {
        "id": "eTC3jo0lHZE8"
      },
      "execution_count": 164,
      "outputs": []
    },
    {
      "cell_type": "code",
      "source": [
        "x_widths = []\n",
        "for i in range(len(widths_bar)):\n",
        "  x_widths.append(i)\n",
        "\n",
        "plt.bar(x_widths, widths_bar)\n",
        "plt.xlabel(\"Image width (pixels)\")\n",
        "plt.ylabel(\"Frequency\")\n",
        "plt.show()\n",
        "print(widths_bar.index(max(widths_bar)))"
      ],
      "metadata": {
        "colab": {
          "base_uri": "https://localhost:8080/",
          "height": 296
        },
        "id": "Q30Pcp7qOOp-",
        "outputId": "ab775d02-81a0-4cfd-e116-e2628c980813"
      },
      "execution_count": 165,
      "outputs": [
        {
          "output_type": "display_data",
          "data": {
            "text/plain": [
              "<Figure size 432x288 with 1 Axes>"
            ],
            "image/png": "[encoded data removed]"
          },
          "metadata": {
            "needs_background": "light"
          }
        },
        {
          "output_type": "stream",
          "name": "stdout",
          "text": [
            "32\n"
          ]
        }
      ]
    },
    {
      "cell_type": "code",
      "source": [
        "x_heights = []\n",
        "for i in range(len(heights_bar)):\n",
        "  x_heights.append(i)\n",
        "plt.bar(x_heights, heights_bar)\n",
        "plt.xlabel(\"Image height (pixels)\")\n",
        "plt.ylabel(\"Frequency\")\n",
        "plt.show()\n",
        "print(max(heights_bar))\n",
        "print(widths_bar.index(max(widths_bar)))"
      ],
      "metadata": {
        "colab": {
          "base_uri": "https://localhost:8080/",
          "height": 314
        },
        "id": "XVp-h9AxQS9z",
        "outputId": "fdae8b48-2977-4fb6-8fa6-d4a67f78e9f1"
      },
      "execution_count": 166,
      "outputs": [
        {
          "output_type": "display_data",
          "data": {
            "text/plain": [
              "<Figure size 432x288 with 1 Axes>"
            ],
            "image/png": "[encoded data removed]"
          },
          "metadata": {
            "needs_background": "light"
          }
        },
        {
          "output_type": "stream",
          "name": "stdout",
          "text": [
            "938\n",
            "32\n"
          ]
        }
      ]
    },
    {
      "cell_type": "code",
      "source": [
        "sign_classes = []\n",
        "for img, label in gtsrb_train_set: \n",
        "  sign_classes.append(label)"
      ],
      "metadata": {
        "id": "JCflQ1BJVG8G"
      },
      "execution_count": 167,
      "outputs": []
    },
    {
      "cell_type": "code",
      "source": [
        "num_classes = max(sign_classes)\n",
        "classes_bar = [0]*num_classes \n",
        "print(num_classes)\n",
        "print(min(sign_classes))\n",
        "for label_class in range(len(classes_bar)):\n",
        "  classes_bar[label_class] = sign_classes.count(label_class)"
      ],
      "metadata": {
        "id": "3gL1mwscvG3l",
        "colab": {
          "base_uri": "https://localhost:8080/"
        },
        "outputId": "68f5b023-e13f-47f3-f729-85635ab08663"
      },
      "execution_count": 168,
      "outputs": [
        {
          "output_type": "stream",
          "name": "stdout",
          "text": [
            "42\n",
            "0\n"
          ]
        }
      ]
    },
    {
      "cell_type": "code",
      "source": [
        "x_classes = []\n",
        "for i in range(len(classes_bar)):\n",
        "  x_classes.append(i)\n",
        "plt.bar(x_classes, classes_bar)\n",
        "plt.xlabel(\"Class #\")\n",
        "plt.ylabel(\"Number of instances in training set\")\n",
        "plt.show()\n",
        "#print(max(heights_bar))\n",
        "#print(widths_bar.index(max(widths_bar)))\n",
        "average_frequency = sum(classes_bar) / len(classes_bar)\n",
        "print(average_frequency)\n",
        "minority_classes = []\n",
        "for i in range(len(classes_bar)):\n",
        "  if(classes_bar[i]<630):\n",
        "    minority_classes.append(i)\n",
        "print(minority_classes)"
      ],
      "metadata": {
        "colab": {
          "base_uri": "https://localhost:8080/",
          "height": 314
        },
        "id": "TjCyGpATGN3R",
        "outputId": "d1e458a0-b95e-4a23-ea26-d5cd7aaaf4ff"
      },
      "execution_count": 169,
      "outputs": [
        {
          "output_type": "display_data",
          "data": {
            "text/plain": [
              "<Figure size 432x288 with 1 Axes>"
            ],
            "image/png": "[encoded data removed]"
          },
          "metadata": {
            "needs_background": "light"
          }
        },
        {
          "output_type": "stream",
          "name": "stdout",
          "text": [
            "630.0\n",
            "[0, 6, 14, 15, 16, 19, 20, 21, 22, 23, 24, 26, 27, 28, 29, 30, 31, 32, 33, 34, 36, 37, 39, 40, 41]\n"
          ]
        }
      ]
    },
    {
      "cell_type": "markdown",
      "source": [
        "We want to augment data for those classes that don't meet the average number of instances of 630"
      ],
      "metadata": {
        "id": "heQXSLIlSMZg"
      }
    },
    {
      "cell_type": "code",
      "source": [
        "class augmentedDataset(Dataset):\n",
        "    def __init__(self, img, labels):\n",
        "        self.labels = labels\n",
        "        self.img = img\n",
        "    \n",
        "    def __len__(self):\n",
        "        return len(self.labels)\n",
        "    \n",
        "    def __getitem__(self, idx):\n",
        "        labels = self.labels[idx]\n",
        "        img = self.img[idx]\n",
        "        return img, labels"
      ],
      "metadata": {
        "id": "ThDUT3jSoTTg"
      },
      "execution_count": 170,
      "outputs": []
    },
    {
      "cell_type": "code",
      "source": [
        "for img, label in gtsrb_train_set:\n",
        "  new_tensor = torch.empty(0, dtype=torch.int64)\n",
        "  new_labels = []\n",
        "  if(label in minority_classes):\n",
        "    #create transformed list \n",
        "    for i in range(630-minority_classes.count(label)):\n",
        "      transformed_image = torch.nn.Sequential(transforms.ColorJitter(brightness=0.5, contrast= 1, saturation = 0.25, hue = (-0.1,0.1)), \n",
        "                                                transforms.RandomHorizontalFlip(p=0.5), \n",
        "                                                transforms.RandomVerticalFlip(p=0.05), \n",
        "                                                transforms.RandomGrayscale(p=0.02))(img)\n",
        "      transformed_label = label \n",
        "      new_tensor = torch.cat((new_tensor, transformed_image),0)\n",
        "      new_labels.append(label)\n",
        "    dataset_temp = augmentedDataset(new_tensor, new_labels)\n",
        "    gtsrb_train_set = torch.utils.data.ConcatDataset([gtsrb_train_set, dataset_temp])\n",
        "    minority_classes.remove(label)"
      ],
      "metadata": {
        "id": "i-k7smVaRXXc"
      },
      "execution_count": 173,
      "outputs": []
    },
    {
      "cell_type": "code",
      "source": [
        "augmented_classes = []\n",
        "for img, label in gtsrb_train_set:\n",
        "  augmented_classes.append(label)"
      ],
      "metadata": {
        "id": "bxk9PLiyKy4z"
      },
      "execution_count": 174,
      "outputs": []
    },
    {
      "cell_type": "code",
      "source": [
        "num_classes_aug = max(augmented_classes)\n",
        "classes_bar_aug = [0]*num_classes_aug\n",
        "for label_class_aug in range(len(classes_bar_aug)):\n",
        "  classes_bar_aug[label_class_aug] = augmented_classes.count(label_class_aug)"
      ],
      "metadata": {
        "id": "4pN5cPYI_xWL"
      },
      "execution_count": 175,
      "outputs": []
    },
    {
      "cell_type": "code",
      "source": [
        "num_num = []\n",
        "for i in range(len(classes_bar_aug)):\n",
        "  num_num.append(i)\n",
        "plt.bar(num_num, classes_bar_aug)\n",
        "plt.xlabel(\"Class #\")\n",
        "plt.ylabel(\"Number of instances in training set\")\n",
        "plt.show()"
      ],
      "metadata": {
        "colab": {
          "base_uri": "https://localhost:8080/",
          "height": 279
        },
        "id": "JDEARvaeDesq",
        "outputId": "800e124c-4bda-4167-aecd-f1656f08fc9c"
      },
      "execution_count": 176,
      "outputs": [
        {
          "output_type": "display_data",
          "data": {
            "text/plain": [
              "<Figure size 432x288 with 1 Axes>"
            ],
            "image/png": "[encoded data removed]"
          },
          "metadata": {
            "needs_background": "light"
          }
        }
      ]
    }
  ]
}
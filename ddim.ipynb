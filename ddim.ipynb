{
 "cells": [
  {
   "cell_type": "markdown",
   "metadata": {},
   "source": [
    "# Denoising Diffusion Implicit Models\n",
    "\n",
    "In DDPM, we construct the forward (noising) process as a Markov chain in which we add an amount of noise determined by our beta schedule at every timestep. \n",
    "\n",
    "Since each step in the denoising process is tied to the previous state, we are subject to a large number of denoising steps to go from xT to x0. \n",
    "\n",
    "In DDIM, they introduce a non-markovian forward process that leads to the same surrogate objective function as DDPM to ease this "
   ]
  },
  {
   "cell_type": "markdown",
   "metadata": {},
   "source": [
    "We can take a noise predictor pretained for DDPM and plug it into our DDIM denoising (sampling process)"
   ]
  },
  {
   "cell_type": "code",
   "execution_count": 2,
   "metadata": {},
   "outputs": [],
   "source": [
    "import torch\n",
    "from torch import nn"
   ]
  },
  {
   "cell_type": "code",
   "execution_count": 3,
   "metadata": {},
   "outputs": [],
   "source": [
    "from src.ddpm import get_alpha_bar\n",
    "\n",
    "## NOTE: alpha_bar from DDPM is referred to as alpha in DDIM\n",
    "\n",
    "def denoise(\n",
    "        x: torch.Tensor, \n",
    "        model_pred: torch.Tensor,\n",
    "        alpha_t: torch.Tensor, \n",
    "        alpha_t_minus_1: torch.Tensor, \n",
    "        sigma_t: torch.Tensor, \n",
    "        t: int, \n",
    "        z: torch.Tensor\n",
    "    ) -> torch.Tensor:\n",
    "    term1 = (alpha_t_minus_1.sqrt() / alpha_t.sqrt()) * (x - (1-alpha_t).sqrt() * model_pred)\n",
    "    term2 = ((1 - alpha_t_minus_1 - sigma_t.square()).sqrt()) * model_pred\n",
    "    \n",
    "    deterministic_term = term1 + term2\n",
    "    \n",
    "    if t > 0:\n",
    "        x_t_minus_1 = deterministic_term + sigma_t * z\n",
    "    else:\n",
    "        x_t_minus_1 = deterministic_term\n",
    "    \n",
    "    return x_t_minus_1\n",
    "\n",
    "\n",
    "def sample(\n",
    "    model: nn.Module, \n",
    "    beta_schedule: torch.Tensor,\n",
    "    step_size: int,\n",
    "    T: int, \n",
    "    device: torch.device, \n",
    "    image_shape: tuple[int, int, int],\n",
    "    num_samples: int = 16, \n",
    "    using_diffusers: bool = False\n",
    "    ) -> torch.Tensor:\n",
    "    \"\"\"\n",
    "    Sample images from the model.\n",
    "\n",
    "    Args:\n",
    "        model: the model to sample from\n",
    "        beta_schedule: the beta values for each timestep\n",
    "        T: the number of diffusion steps\n",
    "        device: the device to sample on\n",
    "        num_samples: the number of samples to generate\n",
    "        image_shape: the shape of the input image\n",
    "    \"\"\"\n",
    "    x = torch.randn(num_samples, *image_shape).to(device)\n",
    "    alpha_bar = get_alpha_bar(beta_schedule)\n",
    "    tau = reversed(range(0, T, step_size))\n",
    "\n",
    "    model.eval()\n",
    "\n",
    "    with torch.no_grad():\n",
    "        for t in tau:\n",
    "            time_input = torch.full((num_samples,), t, device=device)\n",
    "            beta_t = beta_schedule[t]\n",
    "            sigma_t = beta_t.sqrt()\n",
    "\n",
    "            alpha_t = alpha_bar[t]\n",
    "            alpha_t_minus_1 = alpha_bar[t - step_size]\n",
    "            \n",
    "            z = torch.randn_like(x).to(device) if t > 0 else torch.zeros_like(x).to(device)\n",
    "            \n",
    "            if using_diffusers:\n",
    "                model_pred = model(x, time_input).sample\n",
    "            else:\n",
    "                model_pred = model(x, time_input)\n",
    "            \n",
    "            x = denoise(x, model_pred, alpha_t, alpha_t_minus_1, sigma_t, t, z)\n",
    "\n",
    "    return x"
   ]
  }
 ],
 "metadata": {
  "kernelspec": {
   "display_name": ".venv",
   "language": "python",
   "name": "python3"
  },
  "language_info": {
   "codemirror_mode": {
    "name": "ipython",
    "version": 3
   },
   "file_extension": ".py",
   "mimetype": "text/x-python",
   "name": "python",
   "nbconvert_exporter": "python",
   "pygments_lexer": "ipython3",
   "version": "3.10.15"
  }
 },
 "nbformat": 4,
 "nbformat_minor": 2
}

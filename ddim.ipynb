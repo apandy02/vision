{
 "cells": [
  {
   "cell_type": "markdown",
   "metadata": {},
   "source": [
    "# Denoising Diffusion Implicit Models\n",
    "\n",
    "In DDPM, we construct the forward (noising) process as a Markov chain in which we add an amount of noise determined by our beta schedule at every timestep. \n",
    "\n",
    "Since each step in the denoising process is tied to the previous state, we are subject to a large number of denoising steps to go from xT to x0. \n",
    "\n",
    "In DDIM, they introduce a non-markovian forward process that leads to the same surrogate objective function as DDPM to ease this "
   ]
  },
  {
   "cell_type": "markdown",
   "metadata": {},
   "source": [
    "We can take a noise predictor pretained for DDPM and plug it into our DDIM denoising (sampling process)"
   ]
  },
  {
   "cell_type": "code",
   "execution_count": 42,
   "metadata": {},
   "outputs": [],
   "source": [
    "import torch\n",
    "from torch import nn"
   ]
  },
  {
   "cell_type": "code",
   "execution_count": 43,
   "metadata": {},
   "outputs": [],
   "source": [
    "from src.ddpm import get_alpha_bar\n",
    "\n",
    "## NOTE: alpha_bar from DDPM is referred to as alpha in DDIM\n",
    "\n",
    "def denoise(\n",
    "        x: torch.Tensor, \n",
    "        model_pred: torch.Tensor,\n",
    "        alpha_t: torch.Tensor, \n",
    "        alpha_t_minus_1: torch.Tensor, \n",
    "        sigma_t: torch.Tensor, \n",
    "        t: int, \n",
    "        z: torch.Tensor\n",
    "    ) -> torch.Tensor:\n",
    "    term1 = (alpha_t_minus_1.sqrt() / alpha_t.sqrt()) * (x - (1-alpha_t).sqrt() * model_pred)\n",
    "    term2 = ((1 - alpha_t_minus_1 - sigma_t.square()).sqrt()) * model_pred\n",
    "    \n",
    "    deterministic_term = term1 + term2\n",
    "    \n",
    "    if t > 0:\n",
    "        x_t_minus_1 = deterministic_term + sigma_t * z\n",
    "    else:\n",
    "        x_t_minus_1 = deterministic_term\n",
    "    \n",
    "    return x_t_minus_1\n",
    "\n",
    "\n",
    "def sample(\n",
    "    model: nn.Module, \n",
    "    beta_schedule: torch.Tensor,\n",
    "    step_size: int,\n",
    "    T: int, \n",
    "    device: torch.device, \n",
    "    image_shape: tuple[int, int, int],\n",
    "    num_samples: int = 16, \n",
    "    using_diffusers: bool = False\n",
    "    ) -> torch.Tensor:\n",
    "    \"\"\"\n",
    "    Sample images from the model.\n",
    "\n",
    "    Args:\n",
    "        model: the model to sample from\n",
    "        beta_schedule: the beta values for each timestep\n",
    "        T: the number of diffusion steps\n",
    "        device: the device to sample on\n",
    "        num_samples: the number of samples to generate\n",
    "        image_shape: the shape of the input image\n",
    "    \"\"\"\n",
    "    x = torch.randn(num_samples, *image_shape).to(device)\n",
    "    alpha_bar = get_alpha_bar(beta_schedule)\n",
    "    tau = reversed(range(0, T, step_size))\n",
    "\n",
    "    model.eval()\n",
    "\n",
    "    with torch.no_grad():\n",
    "        for t in tau:\n",
    "            time_input = torch.full((num_samples,), t, device=device)\n",
    "            beta_t = beta_schedule[t]\n",
    "            sigma_t = beta_t.sqrt()\n",
    "\n",
    "            alpha_t = alpha_bar[t]\n",
    "            alpha_t_minus_1 = alpha_bar[t - step_size]\n",
    "            \n",
    "            z = torch.randn_like(x).to(device) if t > 0 else torch.zeros_like(x).to(device)\n",
    "            \n",
    "            if using_diffusers:\n",
    "                model_pred = model(x, time_input).sample\n",
    "            else:\n",
    "                model_pred = model(x, time_input)\n",
    "            \n",
    "            x = denoise(x, model_pred, alpha_t, alpha_t_minus_1, sigma_t, t, z)\n",
    "\n",
    "    return x"
   ]
  },
  {
   "cell_type": "code",
   "execution_count": 46,
   "metadata": {},
   "outputs": [
    {
     "name": "stderr",
     "output_type": "stream",
     "text": [
      "/var/folders/27/hznbgmrn1lv4mclqkq7p2z9w8y3ynd/T/ipykernel_39891/1709087187.py:3: FutureWarning: You are using `torch.load` with `weights_only=False` (the current default value), which uses the default pickle module implicitly. It is possible to construct malicious pickle data which will execute arbitrary code during unpickling (See https://github.com/pytorch/pytorch/blob/main/SECURITY.md#untrusted-models for more details). In a future release, the default value for `weights_only` will be flipped to `True`. This limits the functions that could be executed during unpickling. Arbitrary objects will no longer be allowed to be loaded via this mode unless they are explicitly allowlisted by the user via `torch.serialization.add_safe_globals`. We recommend you start setting `weights_only=True` for any use case where you don't have full control of the loaded file. Please open an issue on GitHub for any issues related to this experimental feature.\n",
      "  model_checkpoint = torch.load(\"checkpoints/ddpm_cifar_68M_4e_4_epoch_11.pth\")\n"
     ]
    }
   ],
   "source": [
    "from src.unet import UNet\n",
    "\n",
    "model_checkpoint = torch.load(\"checkpoints/ddpm_cifar_68M_4e_4_epoch_11.pth\")\n",
    "device = torch.device('mps' if torch.backends.mps.is_available() else 'cpu')\n",
    "\n",
    "model = UNet(\n",
    "    down_filters=[64, 128, 256, 512], \n",
    "    in_channels=3, \n",
    "    num_layers=2, \n",
    "    has_attention=[False, True, False, False], \n",
    "    num_heads=4, \n",
    "    diffusion_steps=1000,\n",
    "    num_groups=8, \n",
    "    activation=nn.SiLU, \n",
    "    dropout=0.1\n",
    ")\n",
    "model.load_state_dict(model_checkpoint[\"model_state_dict\"])\n",
    "model = model.to(device)"
   ]
  },
  {
   "cell_type": "code",
   "execution_count": 48,
   "metadata": {},
   "outputs": [],
   "source": [
    "beta_schedule = torch.linspace(0.0001, 0.02, 1000).to(device)\n",
    "sampled_images = sample(model, beta_schedule, 10, 1000, device, (3, 32, 32))\n",
    "sampled_images_cpu = sampled_images.cpu()"
   ]
  },
  {
   "cell_type": "code",
   "execution_count": 50,
   "metadata": {},
   "outputs": [
    {
     "data": {
      "image/png": "[encoded data removed]",
      "text/plain": [
       "<Figure size 400x400 with 16 Axes>"
      ]
     },
     "metadata": {},
     "output_type": "display_data"
    }
   ],
   "source": [
    "from matplotlib import pyplot as plt\n",
    "\n",
    "fig, axes = plt.subplots(4, 4, figsize=(4, 4))\n",
    "\n",
    "for i in range(16):\n",
    "    img = sampled_images_cpu[i]\n",
    "    row = i // 4\n",
    "    col = i % 4\n",
    "    \n",
    "    img = img * 0.5 + 0.5  \n",
    "    img = img.permute(1, 2, 0).numpy()\n",
    "    \n",
    "    axes[row, col].imshow(img)\n",
    "    axes[row, col].axis('off')\n",
    "\n",
    "plt.tight_layout()\n",
    "plt.subplots_adjust(wspace=0.03, hspace=0.03)\n",
    "plt.show()"
   ]
  },
  {
   "cell_type": "code",
   "execution_count": null,
   "metadata": {},
   "outputs": [],
   "source": []
  }
 ],
 "metadata": {
  "kernelspec": {
   "display_name": ".venv",
   "language": "python",
   "name": "python3"
  },
  "language_info": {
   "codemirror_mode": {
    "name": "ipython",
    "version": 3
   },
   "file_extension": ".py",
   "mimetype": "text/x-python",
   "name": "python",
   "nbconvert_exporter": "python",
   "pygments_lexer": "ipython3",
   "version": "3.10.15"
  }
 },
 "nbformat": 4,
 "nbformat_minor": 2
}

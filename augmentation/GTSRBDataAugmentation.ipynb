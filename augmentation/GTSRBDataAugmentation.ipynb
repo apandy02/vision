{
 "cells": [
  {
   "cell_type": "code",
   "execution_count": 223,
   "metadata": {
    "id": "L9i9-DhHEwkA"
   },
   "outputs": [],
   "source": [
    "import torch \n",
    "import torchvision\n",
    "import torchvision.transforms as transforms \n",
    "from torch.utils.data import Dataset\n",
    "import matplotlib.pyplot as plt\n",
    "import sys"
   ]
  },
  {
   "cell_type": "code",
   "execution_count": 199,
   "metadata": {
    "id": "hqDP_Dg5GlE4"
   },
   "outputs": [],
   "source": [
    "#collect original dataset \n",
    "gtsrb_train_set = torchvision.datasets.GTSRB(root='./data', split = \"train\", \n",
    "                                           transform = transforms.Compose([transforms.ToTensor(),\n",
    "                                                           transforms.Normalize((0.3337, 0.3064, 0.3171), ( 0.2672, 0.2564, 0.2629))]), \n",
    "                                           download = True)"
   ]
  },
  {
   "cell_type": "code",
   "execution_count": 200,
   "metadata": {
    "id": "ehHVlellGgrt"
   },
   "outputs": [],
   "source": [
    "#log image heights and widths so we can resize based on the mean measurements \n",
    "heights = []\n",
    "widths = []\n",
    "for img, label in gtsrb_train_set: \n",
    "  heights.append(img.size(dim=1))\n",
    "  widths.append(img.size(dim=2))"
   ]
  },
  {
   "cell_type": "code",
   "execution_count": 201,
   "metadata": {
    "id": "qHznRygfJwKJ"
   },
   "outputs": [],
   "source": [
    "heights_bar = [0]*max(heights)\n",
    "widths_bar = [0]*max(widths)"
   ]
  },
  {
   "cell_type": "code",
   "execution_count": 202,
   "metadata": {
    "id": "eTC3jo0lHZE8"
   },
   "outputs": [],
   "source": [
    "for i in range(len(widths_bar)):\n",
    "  widths_bar[i] = widths.count(i)\n",
    "\n",
    "for j in range(len(heights_bar)):\n",
    "  heights_bar[j] = heights.count(j)"
   ]
  },
  {
   "cell_type": "code",
   "execution_count": 203,
   "metadata": {
    "colab": {
     "base_uri": "https://localhost:8080/",
     "height": 296
    },
    "id": "Q30Pcp7qOOp-",
    "outputId": "b28818c9-cb96-40bb-e0d9-4ab0eb61bfc8"
   },
   "outputs": [
    {
     "data": {
      "image/png": "[encoded data removed]",
      "text/plain": [
       "<Figure size 432x288 with 1 Axes>"
      ]
     },
     "metadata": {
      "needs_background": "light"
     },
     "output_type": "display_data"
    },
    {
     "name": "stdout",
     "output_type": "stream",
     "text": [
      "32\n"
     ]
    }
   ],
   "source": [
    "#plot bar chart of image widths \n",
    "x_widths = []\n",
    "for i in range(len(widths_bar)):\n",
    "  x_widths.append(i)\n",
    "\n",
    "plt.bar(x_widths, widths_bar)\n",
    "plt.xlabel(\"Image width (pixels)\")\n",
    "plt.ylabel(\"Frequency\")\n",
    "plt.show()\n",
    "print(widths_bar.index(max(widths_bar)))"
   ]
  },
  {
   "cell_type": "code",
   "execution_count": 204,
   "metadata": {
    "colab": {
     "base_uri": "https://localhost:8080/",
     "height": 314
    },
    "id": "XVp-h9AxQS9z",
    "outputId": "d46c9b68-9bfd-45a7-d266-60ca37d5b6b6"
   },
   "outputs": [
    {
     "data": {
      "image/png": "[encoded data removed]",
      "text/plain": [
       "<Figure size 432x288 with 1 Axes>"
      ]
     },
     "metadata": {
      "needs_background": "light"
     },
     "output_type": "display_data"
    },
    {
     "name": "stdout",
     "output_type": "stream",
     "text": [
      "938\n",
      "32\n"
     ]
    }
   ],
   "source": [
    "#plot bar chart of image heights \n",
    "x_heights = []\n",
    "for i in range(len(heights_bar)):\n",
    "  x_heights.append(i)\n",
    "plt.bar(x_heights, heights_bar)\n",
    "plt.xlabel(\"Image height (pixels)\")\n",
    "plt.ylabel(\"Frequency\")\n",
    "plt.show()\n",
    "print(max(heights_bar))\n",
    "print(widths_bar.index(max(widths_bar)))"
   ]
  },
  {
   "cell_type": "code",
   "execution_count": 205,
   "metadata": {
    "id": "JCflQ1BJVG8G"
   },
   "outputs": [],
   "source": [
    "#log number of instances in set per class \n",
    "sign_classes = []\n",
    "for img, label in gtsrb_train_set: \n",
    "  sign_classes.append(label)"
   ]
  },
  {
   "cell_type": "code",
   "execution_count": 206,
   "metadata": {
    "colab": {
     "base_uri": "https://localhost:8080/"
    },
    "id": "3gL1mwscvG3l",
    "outputId": "5e4dcbcf-cff3-4a07-b164-8f31e58ca072"
   },
   "outputs": [
    {
     "name": "stdout",
     "output_type": "stream",
     "text": [
      "42\n",
      "0\n"
     ]
    }
   ],
   "source": [
    "num_classes = max(sign_classes)\n",
    "classes_bar = [0]*num_classes \n",
    "print(num_classes)\n",
    "print(min(sign_classes))\n",
    "for label_class in range(len(classes_bar)):\n",
    "  classes_bar[label_class] = sign_classes.count(label_class)"
   ]
  },
  {
   "cell_type": "code",
   "execution_count": 207,
   "metadata": {
    "colab": {
     "base_uri": "https://localhost:8080/",
     "height": 331
    },
    "id": "TjCyGpATGN3R",
    "outputId": "b8d6aabc-8a61-4cf3-caee-3f2d04e13baf"
   },
   "outputs": [
    {
     "data": {
      "image/png": "[encoded data removed]",
      "text/plain": [
       "<Figure size 432x288 with 1 Axes>"
      ]
     },
     "metadata": {
      "needs_background": "light"
     },
     "output_type": "display_data"
    },
    {
     "name": "stdout",
     "output_type": "stream",
     "text": [
      "630.0\n",
      "[0, 6, 14, 15, 16, 19, 20, 21, 22, 23, 24, 26, 27, 28, 29, 30, 31, 32, 33, 34, 36, 37, 39, 40, 41]\n",
      "150\n"
     ]
    }
   ],
   "source": [
    "#plot bar chart for classes, calculate mean instances and figure out what the minority classes are \n",
    "x_classes = []\n",
    "for i in range(len(classes_bar)):\n",
    "  x_classes.append(i)\n",
    "plt.bar(x_classes, classes_bar)\n",
    "plt.xlabel(\"Class #\")\n",
    "plt.ylabel(\"Number of instances in training set\")\n",
    "plt.show()\n",
    "#print(max(heights_bar))\n",
    "#print(widths_bar.index(max(widths_bar)))\n",
    "average_frequency = sum(classes_bar) / len(classes_bar)\n",
    "print(average_frequency)\n",
    "minority_classes = []\n",
    "for i in range(len(classes_bar)):\n",
    "  if(classes_bar[i]<average_frequency):\n",
    "    minority_classes.append(i)\n",
    "print(minority_classes)\n",
    "print(min(classes_bar))"
   ]
  },
  {
   "cell_type": "markdown",
   "metadata": {
    "id": "heQXSLIlSMZg"
   },
   "source": [
    "We want to augment data for those classes that don't meet the average number of instances of 630"
   ]
  },
  {
   "cell_type": "code",
   "execution_count": 208,
   "metadata": {
    "id": "ThDUT3jSoTTg"
   },
   "outputs": [],
   "source": [
    "#define custom dataset for new augmented data \n",
    "class augmentedDataset(Dataset):\n",
    "    def __init__(self, img, labels):\n",
    "        self.labels = labels\n",
    "        self.img = img\n",
    "    \n",
    "    def __len__(self):\n",
    "        return len(self.labels)\n",
    "    \n",
    "    def __getitem__(self, idx):\n",
    "        labels = self.labels[idx]\n",
    "        img = self.img[idx]\n",
    "        return img, labels"
   ]
  },
  {
   "cell_type": "code",
   "execution_count": 210,
   "metadata": {
    "id": "i-k7smVaRXXc"
   },
   "outputs": [],
   "source": [
    "#iterate over dataset to identify minority classes, create transformed versions, create an augmented datset. \n",
    "#and concatenate \n",
    "for img, label in gtsrb_train_set:\n",
    "  new_tensor = torch.empty(0, dtype=torch.int64)\n",
    "  new_labels = []\n",
    "  if(classes_bar[label] < average_frequency):\n",
    "    #create transformed list \n",
    "    #note to self--- change this so you can augment from different data within classes, this is spamming \n",
    "    # the same image again and again \n",
    "    #Response to above note-- done, but now its sampling the same image 4 times. This works well in the case that \n",
    "    #samples are extremely low, but we could leverage more data when we have n = 500 etc. \n",
    "    #Note to self #2 => leverage more data when you have time :) \n",
    "    for i in range(4):\n",
    "      transformed_image = torch.nn.Sequential(transforms.ColorJitter(brightness=0.5, contrast= 1, saturation = 0.25, hue = (-0.1,0.1)), \n",
    "                                                transforms.RandomHorizontalFlip(p=0.5), \n",
    "                                                transforms.RandomVerticalFlip(p=0.05), \n",
    "                                                transforms.RandomGrayscale(p=0.02))(img)\n",
    "      transformed_label = label \n",
    "      new_tensor = torch.cat((new_tensor, transformed_image),0)\n",
    "      new_labels.append(label)\n",
    "      classes_bar[label]+=1 \n",
    "      if(classes_bar[label] >= average_frequency):\n",
    "        break \n",
    "    dataset_temp = augmentedDataset(new_tensor, new_labels)\n",
    "    gtsrb_train_set = torch.utils.data.ConcatDataset([gtsrb_train_set, dataset_temp])\n",
    "    if(classes_bar[label]>=average_frequency):\n",
    "      minority_classes.remove(label)\n",
    "    if(not minority_classes):\n",
    "      break "
   ]
  },
  {
   "cell_type": "code",
   "execution_count": 226,
   "metadata": {
    "id": "bxk9PLiyKy4z"
   },
   "outputs": [],
   "source": [
    "augmented_classes = []\n",
    "sys.setrecursionlimit(5000)\n",
    "for img, label in gtsrb_train_set:\n",
    "  augmented_classes.append(label)"
   ]
  },
  {
   "cell_type": "code",
   "execution_count": 227,
   "metadata": {
    "id": "4pN5cPYI_xWL"
   },
   "outputs": [],
   "source": [
    "num_classes_aug = max(augmented_classes)\n",
    "classes_bar_aug = [0]*num_classes_aug\n",
    "for label_class_aug in range(len(classes_bar_aug)):\n",
    "  classes_bar_aug[label_class_aug] = augmented_classes.count(label_class_aug)"
   ]
  },
  {
   "cell_type": "code",
   "execution_count": 228,
   "metadata": {
    "colab": {
     "base_uri": "https://localhost:8080/",
     "height": 279
    },
    "id": "JDEARvaeDesq",
    "outputId": "0187a786-a474-4194-a4f0-77567baa88cd"
   },
   "outputs": [
    {
     "data": {
      "image/png": "[encoded data removed]",
      "text/plain": [
       "<Figure size 432x288 with 1 Axes>"
      ]
     },
     "metadata": {
      "needs_background": "light"
     },
     "output_type": "display_data"
    }
   ],
   "source": [
    "num_num = []\n",
    "for i in range(len(classes_bar_aug)):\n",
    "  num_num.append(i)\n",
    "plt.bar(num_num, classes_bar_aug)\n",
    "plt.xlabel(\"Class #\")\n",
    "plt.ylabel(\"Number of instances in training set\")\n",
    "plt.show()"
   ]
  }
 ],
 "metadata": {
  "colab": {
   "collapsed_sections": [],
   "provenance": []
  },
  "kernelspec": {
   "display_name": "Python 3",
   "name": "python3"
  },
  "language_info": {
   "name": "python"
  }
 },
 "nbformat": 4,
 "nbformat_minor": 0
}
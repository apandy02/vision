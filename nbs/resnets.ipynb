{
 "cells": [
  {
   "cell_type": "code",
   "execution_count": 1,
   "metadata": {},
   "outputs": [],
   "source": [
    "import torch\n",
    "import pickle\n",
    "import numpy as np\n",
    "import matplotlib.pyplot as plt\n",
    "from torch import nn"
   ]
  },
  {
   "cell_type": "code",
   "execution_count": 2,
   "metadata": {},
   "outputs": [],
   "source": [
    "device = \"mps\" if torch.backends.mps.is_available() else \"cpu\""
   ]
  },
  {
   "cell_type": "code",
   "execution_count": 4,
   "metadata": {},
   "outputs": [],
   "source": [
    "import torchvision.transforms as transforms\n",
    "\n",
    "all_batches_data = []\n",
    "all_batches_labels = []\n",
    "\n",
    "# Define normalization transform as in file_context_0\n",
    "transform = transforms.Compose([\n",
    "    transforms.Normalize((0.4914, 0.4822, 0.4465), (0.2023, 0.1994, 0.2010))  # CIFAR-10 stats\n",
    "])\n",
    "\n",
    "for i in range(1, 6):\n",
    "    with open(f'generative/autoencoders/data/cifar-10-batches-py/data_batch_{i}', 'rb') as f:\n",
    "        dataset_dict = pickle.load(f, encoding='bytes')\n",
    "        all_batches_data.append(dataset_dict[b'data'])\n",
    "        all_batches_labels.append(dataset_dict[b'labels'])\n",
    "\n",
    "stacked_data = np.vstack(all_batches_data)\n",
    "stacked_labels = np.hstack(all_batches_labels)\n",
    "\n",
    "data = torch.tensor(stacked_data, dtype=torch.float32).view(-1, 3, 32, 32) / 255.\n",
    "# Apply normalization as a torchvision transform\n",
    "data = transform(data)\n",
    "data = data.to(device)\n",
    "labels = torch.tensor(stacked_labels, dtype=torch.long).to(device)\n",
    "\n",
    "split_idx = int(0.8 * len(data))\n",
    "\n",
    "x_train, x_valid = data[:split_idx], data[split_idx:]\n",
    "y_train, y_valid = labels[:split_idx], labels[split_idx:]"
   ]
  },
  {
   "cell_type": "code",
   "execution_count": 5,
   "metadata": {},
   "outputs": [
    {
     "name": "stdout",
     "output_type": "stream",
     "text": [
      "torch.Size([40000, 3, 32, 32])\n",
      "mps:0\n"
     ]
    }
   ],
   "source": [
    "print(x_train.shape)\n",
    "print(x_train.device)"
   ]
  },
  {
   "cell_type": "code",
   "execution_count": 6,
   "metadata": {},
   "outputs": [],
   "source": [
    "class ConvNet(nn.Module):\n",
    "    def __init__(self, \n",
    "                 num_channels: int, \n",
    "                 num_classes: int, \n",
    "                 filters: list[int], \n",
    "                 activation: nn.Module = nn.ReLU\n",
    "                 ):\n",
    "        super().__init__()\n",
    "        conv_layers = [\n",
    "            nn.Conv2d(num_channels, filters[0], kernel_size=3, stride=2, padding=1),\n",
    "            nn.BatchNorm2d(filters[0]),\n",
    "            activation()\n",
    "        ]\n",
    "        for i in range(len(filters)-1):\n",
    "            conv_layers += [\n",
    "                nn.Conv2d(filters[i], filters[i+1], kernel_size=3, stride=2, padding=1), \n",
    "                nn.BatchNorm2d(filters[i+1]),\n",
    "                activation()\n",
    "            ]\n",
    "        \n",
    "        conv_layers.append(nn.Conv2d(filters[-1], num_classes, kernel_size=3, stride=1, padding=1))\n",
    "        self.conv_layers = nn.Sequential(*conv_layers)\n",
    "        self.flatten = nn.Flatten()\n",
    "\n",
    "    def forward(self, x):\n",
    "        h = self.conv_layers(x)\n",
    "        return self.flatten(h)\n"
   ]
  },
  {
   "cell_type": "code",
   "execution_count": 7,
   "metadata": {},
   "outputs": [],
   "source": [
    "model = ConvNet(3, 10, [64, 128, 256, 512, 1024], nn.LeakyReLU).to(device)\n"
   ]
  },
  {
   "cell_type": "code",
   "execution_count": 8,
   "metadata": {},
   "outputs": [
    {
     "data": {
      "text/plain": [
       "ConvNet(\n",
       "  (conv_layers): Sequential(\n",
       "    (0): Conv2d(3, 64, kernel_size=(3, 3), stride=(2, 2), padding=(1, 1))\n",
       "    (1): BatchNorm2d(64, eps=1e-05, momentum=0.1, affine=True, track_running_stats=True)\n",
       "    (2): LeakyReLU(negative_slope=0.01)\n",
       "    (3): Conv2d(64, 128, kernel_size=(3, 3), stride=(2, 2), padding=(1, 1))\n",
       "    (4): BatchNorm2d(128, eps=1e-05, momentum=0.1, affine=True, track_running_stats=True)\n",
       "    (5): LeakyReLU(negative_slope=0.01)\n",
       "    (6): Conv2d(128, 256, kernel_size=(3, 3), stride=(2, 2), padding=(1, 1))\n",
       "    (7): BatchNorm2d(256, eps=1e-05, momentum=0.1, affine=True, track_running_stats=True)\n",
       "    (8): LeakyReLU(negative_slope=0.01)\n",
       "    (9): Conv2d(256, 512, kernel_size=(3, 3), stride=(2, 2), padding=(1, 1))\n",
       "    (10): BatchNorm2d(512, eps=1e-05, momentum=0.1, affine=True, track_running_stats=True)\n",
       "    (11): LeakyReLU(negative_slope=0.01)\n",
       "    (12): Conv2d(512, 1024, kernel_size=(3, 3), stride=(2, 2), padding=(1, 1))\n",
       "    (13): BatchNorm2d(1024, eps=1e-05, momentum=0.1, affine=True, track_running_stats=True)\n",
       "    (14): LeakyReLU(negative_slope=0.01)\n",
       "    (15): Conv2d(1024, 10, kernel_size=(3, 3), stride=(1, 1), padding=(1, 1))\n",
       "  )\n",
       "  (flatten): Flatten(start_dim=1, end_dim=-1)\n",
       ")"
      ]
     },
     "execution_count": 8,
     "metadata": {},
     "output_type": "execute_result"
    }
   ],
   "source": [
    "model"
   ]
  },
  {
   "cell_type": "code",
   "execution_count": null,
   "metadata": {},
   "outputs": [],
   "source": [
    "def accuracy(y_pred, y):\n",
    "    return (y_pred.argmax(dim=1) == y).float().mean()\n",
    "\n",
    "def validate_model(model, valid_loader, loss_fn, all_valid_loss):\n",
    "    model.eval()\n",
    "    valid_loss = []\n",
    "    valid_acc = []\n",
    "    \n",
    "    with torch.no_grad():\n",
    "        for batch in valid_loader:\n",
    "            x, y = batch\n",
    "            y_pred = model(x)\n",
    "            loss = loss_fn(y_pred, y)\n",
    "            valid_loss.append(loss.item())\n",
    "            valid_acc.append(accuracy(y_pred, y))\n",
    "    \n",
    "    all_valid_loss.append(sum(valid_loss) / len(valid_loss))\n",
    "    \n",
    "    return sum(valid_acc) / len(valid_acc)\n",
    "\n",
    "def train_model(model: nn.Module,\n",
    "                optim: torch.optim.Optimizer,\n",
    "                loss_fn,\n",
    "                train_loader,\n",
    "                valid_loader,\n",
    "                scheduler,\n",
    "                epochs=10,\n",
    "                batch_size=32,\n",
    "                valid_every=1\n",
    "                ):\n",
    "    all_train_loss = []\n",
    "    all_valid_loss = []\n",
    "    \n",
    "    for epoch in range(epochs):\n",
    "        model.train()\n",
    "        train_loss = []\n",
    "        \n",
    "        for batch in train_loader:\n",
    "            x, y = batch\n",
    "            optim.zero_grad()\n",
    "            y_pred = model(x)\n",
    "            loss = loss_fn(y_pred, y)\n",
    "            loss.backward()\n",
    "            optim.step()\n",
    "            train_loss.append(loss.item())\n",
    "        \n",
    "        all_train_loss.append(sum(train_loss) / len(train_loss))\n",
    "        scheduler.step()\n",
    "        \n",
    "        if epoch % valid_every == 0:\n",
    "            valid_acc = validate_model(model, valid_loader, loss_fn, all_valid_loss)\n",
    "            print(\n",
    "                f\"Epoch {epoch}, Train Loss: {sum(train_loss) / len(train_loss)}, \"\n",
    "                f\"Valid Loss: {all_valid_loss[-1]}, \"\n",
    "                f\"Acc: {valid_acc}\"\n",
    "            )\n",
    "    \n",
    "    plot_loss(all_train_loss, all_valid_loss)\n"
   ]
  },
  {
   "cell_type": "code",
   "execution_count": 13,
   "metadata": {},
   "outputs": [],
   "source": [
    "from torch.utils.data import Dataset, DataLoader\n",
    "\n",
    "class CIFARCustomDataset(Dataset):\n",
    "    def __init__(self, x, y):\n",
    "        self.x = x\n",
    "        self.y = y\n",
    "\n",
    "    def __len__(self):\n",
    "        return len(self.x)\n",
    "\n",
    "    def __getitem__(self, idx):\n",
    "        return self.x[idx], self.y[idx]\n",
    "\n",
    "train_ds = CIFARCustomDataset(x_train, y_train)\n",
    "valid_ds = CIFARCustomDataset(x_valid, y_valid)\n",
    "\n",
    "train_dl = DataLoader(train_ds, batch_size=128, shuffle=True)\n",
    "valid_dl = DataLoader(valid_ds, batch_size=128, shuffle=True)"
   ]
  },
  {
   "cell_type": "code",
   "execution_count": 14,
   "metadata": {},
   "outputs": [
    {
     "ename": "NameError",
     "evalue": "name 'accuracy' is not defined",
     "output_type": "error",
     "traceback": [
      "\u001b[0;31m---------------------------------------------------------------------------\u001b[0m",
      "\u001b[0;31mNameError\u001b[0m                                 Traceback (most recent call last)",
      "Cell \u001b[0;32mIn[14], line 6\u001b[0m\n\u001b[1;32m      2\u001b[0m scheduler \u001b[38;5;241m=\u001b[39m torch\u001b[38;5;241m.\u001b[39moptim\u001b[38;5;241m.\u001b[39mlr_scheduler\u001b[38;5;241m.\u001b[39mCosineAnnealingLR(optim, T_max\u001b[38;5;241m=\u001b[39m\u001b[38;5;241m10\u001b[39m)\n\u001b[1;32m      3\u001b[0m loss_fn \u001b[38;5;241m=\u001b[39m nn\u001b[38;5;241m.\u001b[39mCrossEntropyLoss()\n\u001b[0;32m----> 6\u001b[0m \u001b[43mtrain_model\u001b[49m\u001b[43m(\u001b[49m\u001b[43mmodel\u001b[49m\u001b[43m,\u001b[49m\u001b[43m \u001b[49m\u001b[43moptim\u001b[49m\u001b[43m,\u001b[49m\u001b[43m \u001b[49m\u001b[43mloss_fn\u001b[49m\u001b[43m,\u001b[49m\u001b[43m \u001b[49m\u001b[43mtrain_dl\u001b[49m\u001b[43m,\u001b[49m\u001b[43m \u001b[49m\u001b[43mvalid_dl\u001b[49m\u001b[43m,\u001b[49m\u001b[43m \u001b[49m\u001b[43mscheduler\u001b[49m\u001b[38;5;241;43m=\u001b[39;49m\u001b[43mscheduler\u001b[49m\u001b[43m,\u001b[49m\u001b[43m \u001b[49m\u001b[43mepochs\u001b[49m\u001b[38;5;241;43m=\u001b[39;49m\u001b[38;5;241;43m10\u001b[39;49m\u001b[43m,\u001b[49m\u001b[43m \u001b[49m\u001b[43mvalid_every\u001b[49m\u001b[38;5;241;43m=\u001b[39;49m\u001b[38;5;241;43m1\u001b[39;49m\u001b[43m)\u001b[49m\n",
      "Cell \u001b[0;32mIn[12], line 48\u001b[0m, in \u001b[0;36mtrain_model\u001b[0;34m(model, optim, loss_fn, train_loader, valid_loader, scheduler, epochs, batch_size, valid_every)\u001b[0m\n\u001b[1;32m     45\u001b[0m     scheduler\u001b[38;5;241m.\u001b[39mstep()\n\u001b[1;32m     47\u001b[0m     \u001b[38;5;28;01mif\u001b[39;00m epoch \u001b[38;5;241m%\u001b[39m valid_every \u001b[38;5;241m==\u001b[39m \u001b[38;5;241m0\u001b[39m:\n\u001b[0;32m---> 48\u001b[0m         valid_acc \u001b[38;5;241m=\u001b[39m \u001b[43mvalidate_model\u001b[49m\u001b[43m(\u001b[49m\u001b[43mmodel\u001b[49m\u001b[43m,\u001b[49m\u001b[43m \u001b[49m\u001b[43mvalid_loader\u001b[49m\u001b[43m,\u001b[49m\u001b[43m \u001b[49m\u001b[43mloss_fn\u001b[49m\u001b[43m,\u001b[49m\u001b[43m \u001b[49m\u001b[43mall_valid_loss\u001b[49m\u001b[43m)\u001b[49m\n\u001b[1;32m     49\u001b[0m         \u001b[38;5;28mprint\u001b[39m(\n\u001b[1;32m     50\u001b[0m             \u001b[38;5;124mf\u001b[39m\u001b[38;5;124m\"\u001b[39m\u001b[38;5;124mEpoch \u001b[39m\u001b[38;5;132;01m{\u001b[39;00mepoch\u001b[38;5;132;01m}\u001b[39;00m\u001b[38;5;124m, Train Loss: \u001b[39m\u001b[38;5;132;01m{\u001b[39;00m\u001b[38;5;28msum\u001b[39m(train_loss)\u001b[38;5;250m \u001b[39m\u001b[38;5;241m/\u001b[39m\u001b[38;5;250m \u001b[39m\u001b[38;5;28mlen\u001b[39m(train_loss)\u001b[38;5;132;01m}\u001b[39;00m\u001b[38;5;124m, \u001b[39m\u001b[38;5;124m\"\u001b[39m\n\u001b[1;32m     51\u001b[0m             \u001b[38;5;124mf\u001b[39m\u001b[38;5;124m\"\u001b[39m\u001b[38;5;124mValid Loss: \u001b[39m\u001b[38;5;132;01m{\u001b[39;00mall_valid_loss[\u001b[38;5;241m-\u001b[39m\u001b[38;5;241m1\u001b[39m]\u001b[38;5;132;01m}\u001b[39;00m\u001b[38;5;124m, \u001b[39m\u001b[38;5;124m\"\u001b[39m\n\u001b[1;32m     52\u001b[0m             \u001b[38;5;124mf\u001b[39m\u001b[38;5;124m\"\u001b[39m\u001b[38;5;124mAcc: \u001b[39m\u001b[38;5;132;01m{\u001b[39;00mvalid_acc\u001b[38;5;132;01m}\u001b[39;00m\u001b[38;5;124m\"\u001b[39m\n\u001b[1;32m     53\u001b[0m         )\n\u001b[1;32m     55\u001b[0m plot_loss(all_train_loss, all_valid_loss)\n",
      "Cell \u001b[0;32mIn[12], line 12\u001b[0m, in \u001b[0;36mvalidate_model\u001b[0;34m(model, valid_loader, loss_fn, all_valid_loss)\u001b[0m\n\u001b[1;32m     10\u001b[0m         loss \u001b[38;5;241m=\u001b[39m loss_fn(y_pred, y)\n\u001b[1;32m     11\u001b[0m         valid_loss\u001b[38;5;241m.\u001b[39mappend(loss\u001b[38;5;241m.\u001b[39mitem())\n\u001b[0;32m---> 12\u001b[0m         valid_acc\u001b[38;5;241m.\u001b[39mappend(\u001b[43maccuracy\u001b[49m(y_pred, y))\n\u001b[1;32m     14\u001b[0m all_valid_loss\u001b[38;5;241m.\u001b[39mappend(\u001b[38;5;28msum\u001b[39m(valid_loss) \u001b[38;5;241m/\u001b[39m \u001b[38;5;28mlen\u001b[39m(valid_loss))\n\u001b[1;32m     16\u001b[0m \u001b[38;5;28;01mreturn\u001b[39;00m \u001b[38;5;28msum\u001b[39m(valid_acc) \u001b[38;5;241m/\u001b[39m \u001b[38;5;28mlen\u001b[39m(valid_acc)\n",
      "\u001b[0;31mNameError\u001b[0m: name 'accuracy' is not defined"
     ]
    }
   ],
   "source": [
    "optim = torch.optim.Adam(model.parameters(), lr=0.005, weight_decay=1e-5)\n",
    "scheduler = torch.optim.lr_scheduler.CosineAnnealingLR(optim, T_max=10)\n",
    "loss_fn = nn.CrossEntropyLoss()\n",
    "\n",
    "\n",
    "train_model(model, optim, loss_fn, train_dl, valid_dl, scheduler=scheduler, epochs=10, valid_every=1)"
   ]
  },
  {
   "cell_type": "code",
   "execution_count": null,
   "metadata": {},
   "outputs": [],
   "source": [
    "class ConvBlock(nn.Module):\n",
    "    def __init__(self, \n",
    "                 in_channels: int, \n",
    "                 out_channels: int, \n",
    "                 activation: nn.Module = nn.ReLU, \n",
    "                 kernel_size: int = 3, \n",
    "                 stride: int = 1, \n",
    "                 padding: int = 1\n",
    "                 ):\n",
    "        super().__init__()\n",
    "        self.conv = nn.Sequential(\n",
    "            nn.BatchNorm2d(in_channels),\n",
    "            activation(),\n",
    "            nn.Conv2d(in_channels, out_channels, kernel_size=kernel_size, stride=stride, padding=padding), \n",
    "            activation(),\n",
    "            nn.Conv2d(out_channels, out_channels, kernel_size=kernel_size, stride=1, padding=padding),\n",
    "            nn.BatchNorm2d(out_channels),\n",
    "        )\n",
    "\n",
    "    def forward(self, x):\n",
    "        return self.conv(x)\n",
    "\n",
    "class ResBlock(nn.Module):\n",
    "    def __init__(self, \n",
    "                 in_channels, \n",
    "                 out_channels, \n",
    "                 activation: nn.Module = nn.ReLU, \n",
    "                 kernel_size: int = 3, \n",
    "                 stride: int = 1, \n",
    "                 padding: int = 1, \n",
    "                 dropout: float = 0.2\n",
    "                 ):\n",
    "        super().__init__()\n",
    "        self.conv1 = ConvBlock(\n",
    "            in_channels, \n",
    "            out_channels, \n",
    "            activation, \n",
    "            kernel_size, \n",
    "            stride, \n",
    "            padding\n",
    "        )\n",
    "        if in_channels == out_channels:\n",
    "            self.idconv = nn.Identity()\n",
    "        else:\n",
    "            self.idconv = nn.Conv2d(in_channels, out_channels, kernel_size=1, stride=1)\n",
    "        \n",
    "        self.avgpool = nn.Identity() if stride == 1 else nn.AvgPool2d(kernel_size=2, stride=stride)\n",
    "        self.activation = activation()\n",
    "        self.dropout = nn.Dropout(dropout)\n",
    "\n",
    "\n",
    "    def forward(self, x):\n",
    "        h = self.conv1(x)\n",
    "        h_id = self.avgpool(self.idconv(x))\n",
    "        return self.dropout(self.activation(h + h_id))\n",
    "\n"
   ]
  },
  {
   "cell_type": "code",
   "execution_count": null,
   "metadata": {},
   "outputs": [
    {
     "name": "stdout",
     "output_type": "stream",
     "text": [
      "torch.Size([3, 32, 32])\n",
      "torch.Size([1, 64, 32, 32])\n",
      "torch.Size([1, 64, 32, 32])\n",
      "torch.Size([1, 64, 32, 32])\n",
      "torch.Size([1, 64, 32, 32])\n",
      "torch.Size([1, 64, 32, 32])\n",
      "torch.Size([1, 64, 32, 32])\n",
      "torch.Size([1, 64, 32, 32])\n",
      "torch.Size([1, 64, 32, 32])\n",
      "torch.Size([1, 64, 32, 32])\n",
      "torch.Size([1, 64, 32, 32])\n"
     ]
    }
   ],
   "source": [
    "res_block = ResBlock(3, 64).to(device)\n",
    "print(x_train[0].shape)\n",
    "res_block(x_train[0].unsqueeze(0)).shape\n",
    "\n",
    "for i in range(10):\n",
    "    print(res_block(x_train[i].unsqueeze(0)).shape)\n"
   ]
  },
  {
   "cell_type": "code",
   "execution_count": null,
   "metadata": {},
   "outputs": [],
   "source": [
    "class ResNet(nn.Module):\n",
    "    def __init__(self,\n",
    "                 num_channels: int,\n",
    "                 num_classes: int,\n",
    "                 filters: list[int],\n",
    "                 activation: nn.Module = nn.ReLU,\n",
    "                 stride: int = 2,\n",
    "                 dropout: float = 0.2\n",
    "                 ):\n",
    "        super().__init__()\n",
    "        res_layers = [\n",
    "            ResBlock(num_channels, filters[0], activation, stride=1)\n",
    "        ]\n",
    "        for i in range(len(filters)-1):\n",
    "            res_layers += [\n",
    "                ResBlock(filters[i], filters[i+1], activation, stride=stride, dropout=dropout)\n",
    "            ]\n",
    "        self.res_layers = nn.Sequential(*res_layers)\n",
    "        self.avgpool = nn.AdaptiveAvgPool2d((1, 1))\n",
    "        self.flatten = nn.Flatten()\n",
    "        self.linear = nn.Sequential(\n",
    "            nn.Linear(filters[-1], num_classes, bias=False),\n",
    "            nn.BatchNorm1d(num_classes),\n",
    "            activation()\n",
    "        )\n",
    "        self.dropout = nn.Dropout(dropout)\n",
    "    def forward(self, x):\n",
    "        for _, layer in enumerate(self.res_layers):\n",
    "            x = layer(x)\n",
    "\n",
    "        h = self.avgpool(x)\n",
    "        h = self.flatten(h)\n",
    "        h = self.dropout(h)\n",
    "        return self.linear(h)\n"
   ]
  },
  {
   "cell_type": "code",
   "execution_count": null,
   "metadata": {},
   "outputs": [
    {
     "data": {
      "text/plain": [
       "ResNet(\n",
       "  (res_layers): Sequential(\n",
       "    (0): ResBlock(\n",
       "      (conv1): ConvBlock(\n",
       "        (conv): Sequential(\n",
       "          (0): BatchNorm2d(3, eps=1e-05, momentum=0.1, affine=True, track_running_stats=True)\n",
       "          (1): ReLU()\n",
       "          (2): Conv2d(3, 64, kernel_size=(3, 3), stride=(1, 1), padding=(1, 1))\n",
       "          (3): ReLU()\n",
       "          (4): Conv2d(64, 64, kernel_size=(3, 3), stride=(1, 1), padding=(1, 1))\n",
       "          (5): BatchNorm2d(64, eps=1e-05, momentum=0.1, affine=True, track_running_stats=True)\n",
       "        )\n",
       "      )\n",
       "      (idconv): Conv2d(3, 64, kernel_size=(1, 1), stride=(1, 1))\n",
       "      (avgpool): Identity()\n",
       "      (activation): ReLU()\n",
       "      (dropout): Dropout(p=0.2, inplace=False)\n",
       "    )\n",
       "    (1): ResBlock(\n",
       "      (conv1): ConvBlock(\n",
       "        (conv): Sequential(\n",
       "          (0): BatchNorm2d(64, eps=1e-05, momentum=0.1, affine=True, track_running_stats=True)\n",
       "          (1): ReLU()\n",
       "          (2): Conv2d(64, 128, kernel_size=(3, 3), stride=(2, 2), padding=(1, 1))\n",
       "          (3): ReLU()\n",
       "          (4): Conv2d(128, 128, kernel_size=(3, 3), stride=(1, 1), padding=(1, 1))\n",
       "          (5): BatchNorm2d(128, eps=1e-05, momentum=0.1, affine=True, track_running_stats=True)\n",
       "        )\n",
       "      )\n",
       "      (idconv): Conv2d(64, 128, kernel_size=(1, 1), stride=(1, 1))\n",
       "      (avgpool): AvgPool2d(kernel_size=2, stride=2, padding=0)\n",
       "      (activation): ReLU()\n",
       "      (dropout): Dropout(p=0.2, inplace=False)\n",
       "    )\n",
       "    (2): ResBlock(\n",
       "      (conv1): ConvBlock(\n",
       "        (conv): Sequential(\n",
       "          (0): BatchNorm2d(128, eps=1e-05, momentum=0.1, affine=True, track_running_stats=True)\n",
       "          (1): ReLU()\n",
       "          (2): Conv2d(128, 256, kernel_size=(3, 3), stride=(2, 2), padding=(1, 1))\n",
       "          (3): ReLU()\n",
       "          (4): Conv2d(256, 256, kernel_size=(3, 3), stride=(1, 1), padding=(1, 1))\n",
       "          (5): BatchNorm2d(256, eps=1e-05, momentum=0.1, affine=True, track_running_stats=True)\n",
       "        )\n",
       "      )\n",
       "      (idconv): Conv2d(128, 256, kernel_size=(1, 1), stride=(1, 1))\n",
       "      (avgpool): AvgPool2d(kernel_size=2, stride=2, padding=0)\n",
       "      (activation): ReLU()\n",
       "      (dropout): Dropout(p=0.2, inplace=False)\n",
       "    )\n",
       "    (3): ResBlock(\n",
       "      (conv1): ConvBlock(\n",
       "        (conv): Sequential(\n",
       "          (0): BatchNorm2d(256, eps=1e-05, momentum=0.1, affine=True, track_running_stats=True)\n",
       "          (1): ReLU()\n",
       "          (2): Conv2d(256, 256, kernel_size=(3, 3), stride=(2, 2), padding=(1, 1))\n",
       "          (3): ReLU()\n",
       "          (4): Conv2d(256, 256, kernel_size=(3, 3), stride=(1, 1), padding=(1, 1))\n",
       "          (5): BatchNorm2d(256, eps=1e-05, momentum=0.1, affine=True, track_running_stats=True)\n",
       "        )\n",
       "      )\n",
       "      (idconv): Identity()\n",
       "      (avgpool): AvgPool2d(kernel_size=2, stride=2, padding=0)\n",
       "      (activation): ReLU()\n",
       "      (dropout): Dropout(p=0.2, inplace=False)\n",
       "    )\n",
       "    (4): ResBlock(\n",
       "      (conv1): ConvBlock(\n",
       "        (conv): Sequential(\n",
       "          (0): BatchNorm2d(256, eps=1e-05, momentum=0.1, affine=True, track_running_stats=True)\n",
       "          (1): ReLU()\n",
       "          (2): Conv2d(256, 512, kernel_size=(3, 3), stride=(2, 2), padding=(1, 1))\n",
       "          (3): ReLU()\n",
       "          (4): Conv2d(512, 512, kernel_size=(3, 3), stride=(1, 1), padding=(1, 1))\n",
       "          (5): BatchNorm2d(512, eps=1e-05, momentum=0.1, affine=True, track_running_stats=True)\n",
       "        )\n",
       "      )\n",
       "      (idconv): Conv2d(256, 512, kernel_size=(1, 1), stride=(1, 1))\n",
       "      (avgpool): AvgPool2d(kernel_size=2, stride=2, padding=0)\n",
       "      (activation): ReLU()\n",
       "      (dropout): Dropout(p=0.2, inplace=False)\n",
       "    )\n",
       "  )\n",
       "  (avgpool): AdaptiveAvgPool2d(output_size=(1, 1))\n",
       "  (flatten): Flatten(start_dim=1, end_dim=-1)\n",
       "  (linear): Sequential(\n",
       "    (0): Linear(in_features=512, out_features=10, bias=False)\n",
       "    (1): BatchNorm1d(10, eps=1e-05, momentum=0.1, affine=True, track_running_stats=True)\n",
       "    (2): ReLU()\n",
       "  )\n",
       "  (dropout): Dropout(p=0.2, inplace=False)\n",
       ")"
      ]
     },
     "execution_count": 14,
     "metadata": {},
     "output_type": "execute_result"
    }
   ],
   "source": [
    "model2 = ResNet(3, 10, [64, 128, 256, 256, 512], nn.ReLU, stride=2).to(device)\n",
    "model2"
   ]
  },
  {
   "cell_type": "code",
   "execution_count": null,
   "metadata": {},
   "outputs": [
    {
     "name": "stdout",
     "output_type": "stream",
     "text": [
      "<generator object Module.parameters at 0x35723b370>\n",
      "Number of parameters: 6366730\n",
      "<generator object Module.parameters at 0x35723b300>\n",
      "Number of parameters: 6047706\n"
     ]
    }
   ],
   "source": [
    "print(model.parameters())\n",
    "total_params = sum(p.numel() for p in model.parameters())\n",
    "print(f\"Number of parameters: {total_params}\")\n",
    "print(model2.parameters())\n",
    "total_params = sum(p.numel() for p in model2.parameters())\n",
    "print(f\"Number of parameters: {total_params}\")\n",
    "\n"
   ]
  },
  {
   "cell_type": "code",
   "execution_count": null,
   "metadata": {},
   "outputs": [
    {
     "name": "stdout",
     "output_type": "stream",
     "text": [
      "Epoch 0, Train Loss: 1.7264918119381791, Valid Loss: 1.722223167177997, Acc: 0.4113923907279968\n",
      "Epoch 1, Train Loss: 1.4273258695206321, Valid Loss: 1.2788734375676023, Acc: 0.5679391026496887\n",
      "Epoch 2, Train Loss: 1.159340348297034, Valid Loss: 1.2844410184063488, Acc: 0.5622033476829529\n",
      "Epoch 3, Train Loss: 0.9338847888163484, Valid Loss: 4.508389116842536, Acc: 0.11075949668884277\n",
      "Epoch 4, Train Loss: 0.7455906932727216, Valid Loss: 1.535502479046206, Acc: 0.49792325496673584\n",
      "Epoch 5, Train Loss: 0.6193622658237482, Valid Loss: 0.924779517741143, Acc: 0.6878955960273743\n",
      "Epoch 6, Train Loss: 0.5052872536281428, Valid Loss: 0.8039785812172708, Acc: 0.7370451092720032\n",
      "Epoch 7, Train Loss: 0.37489700436401674, Valid Loss: 0.748811739909498, Acc: 0.7620648741722107\n",
      "Epoch 8, Train Loss: 0.2529268436871778, Valid Loss: 0.733550296176838, Acc: 0.7764042615890503\n",
      "Epoch 9, Train Loss: 0.16346507288586978, Valid Loss: 0.6854338517671899, Acc: 0.7982594966888428\n",
      "Epoch 10, Train Loss: 0.11206107803236562, Valid Loss: 0.6627096299883686, Acc: 0.8114121556282043\n",
      "Epoch 11, Train Loss: 0.09767361861257888, Valid Loss: 0.6602911851074122, Acc: 0.8083465099334717\n"
     ]
    },
    {
     "data": {
      "image/png": "[encoded data removed]",
      "text/plain": [
       "<Figure size 1000x500 with 1 Axes>"
      ]
     },
     "metadata": {},
     "output_type": "display_data"
    }
   ],
   "source": [
    "optim2 = torch.optim.Adam(model2.parameters(), lr=0.005, weight_decay=1e-5)\n",
    "scheduler2 = torch.optim.lr_scheduler.OneCycleLR(optim2, max_lr=0.005, total_steps=12)\n",
    "loss_fn = nn.CrossEntropyLoss()\n",
    "train_model(model2, optim2, loss_fn, train_dl, valid_dl, scheduler=scheduler2, epochs=12, valid_every=1)"
   ]
  },
  {
   "cell_type": "markdown",
   "metadata": {},
   "source": [
    "Since the model incorporates information from each resblock input into its output, you can make the model deeper and wider while improving learning and not losing too much information along the critical path. \n",
    "\n",
    "The resnet with less parameters 6M vs 6.5M still performs better on the validation set than the regular convnet. The resnet gets upto 85.5% accuracy vs 76.1% for the convnet. \n",
    "\n",
    "When we give the resnet as much width as out convnet, the number fo parameters rises to 19.5M. The improvement in validation accuracy, however, was marginal (85.9% vs 85.5%). \n"
   ]
  },
  {
   "cell_type": "markdown",
   "metadata": {},
   "source": [
    "Dropout strategy results (evalutated with the 6M parameter ResNet w/ same hyperparameters): \n",
    "1. Place after each conv block: 86% \n",
    "2. Place after each resblock: 87% -- loss still decreasing, we can still train more \n",
    "3. Place before the linear layer 85% \n",
    "4. After each resblock & before linear layer: 87.23%"
   ]
  },
  {
   "cell_type": "markdown",
   "metadata": {},
   "source": [
    "## Testing the resnet from the src library\n",
    "\n",
    "We moved the resnets and related blocks to a separate file and imported them here. We also made a few changes like using pre-activation resnets and group normalization. "
   ]
  },
  {
   "cell_type": "code",
   "execution_count": null,
   "metadata": {},
   "outputs": [
    {
     "name": "stdout",
     "output_type": "stream",
     "text": [
      "Epoch 0, Train Loss: 1.8806572143262186, Valid Loss: 1.6085679500917844, Acc: 0.44966375827789307\n",
      "Epoch 1, Train Loss: 1.5427988184907566, Valid Loss: 1.441557076912892, Acc: 0.5097903609275818\n",
      "Epoch 2, Train Loss: 1.2642108261013945, Valid Loss: 1.5224783420562744, Acc: 0.5048457384109497\n",
      "Epoch 3, Train Loss: 1.033171859793008, Valid Loss: 1.0985784032676793, Acc: 0.6314280033111572\n",
      "Epoch 4, Train Loss: 0.860329389000853, Valid Loss: 0.9354499201231365, Acc: 0.6792919039726257\n",
      "Epoch 5, Train Loss: 0.7182766775163217, Valid Loss: 0.8653265486789655, Acc: 0.718156635761261\n",
      "Epoch 6, Train Loss: 0.5934921510684223, Valid Loss: 0.6954501120350028, Acc: 0.7639438509941101\n",
      "Epoch 7, Train Loss: 0.45694566144349097, Valid Loss: 0.6172300215008892, Acc: 0.7963805198669434\n",
      "Epoch 8, Train Loss: 0.33046006723143423, Valid Loss: 0.6342311014857474, Acc: 0.7927215099334717\n",
      "Epoch 9, Train Loss: 0.2124898257537391, Valid Loss: 0.6265504722353779, Acc: 0.8071597814559937\n",
      "Epoch 10, Train Loss: 0.14079273769411796, Valid Loss: 0.6308970119379744, Acc: 0.8129944801330566\n",
      "Epoch 11, Train Loss: 0.12016008701472998, Valid Loss: 0.6337478424929366, Acc: 0.8125\n"
     ]
    },
    {
     "data": {
      "image/png": "[encoded data removed]",
      "text/plain": [
       "<Figure size 1000x500 with 1 Axes>"
      ]
     },
     "metadata": {},
     "output_type": "display_data"
    }
   ],
   "source": [
    "import src.resnet as src_resnet\n",
    "\n",
    "model3 = src_resnet.ResNet(3, 10, [64, 128, 256, 256, 512], nn.ReLU, stride=2).to(device)\n",
    "optim3 = torch.optim.Adam(model3.parameters(), lr=0.005, weight_decay=1e-5)\n",
    "scheduler3 = torch.optim.lr_scheduler.OneCycleLR(optim3, max_lr=0.005, total_steps=12)\n",
    "loss_fn = nn.CrossEntropyLoss()\n",
    "train_model(model3, optim3, loss_fn, train_dl, valid_dl, scheduler=scheduler3, epochs=12, valid_every=1)\n"
   ]
  }
 ],
 "metadata": {
  "kernelspec": {
   "display_name": ".venv",
   "language": "python",
   "name": "python3"
  },
  "language_info": {
   "codemirror_mode": {
    "name": "ipython",
    "version": 3
   },
   "file_extension": ".py",
   "mimetype": "text/x-python",
   "name": "python",
   "nbconvert_exporter": "python",
   "pygments_lexer": "ipython3",
   "version": "3.10.18"
  }
 },
 "nbformat": 4,
 "nbformat_minor": 2
}

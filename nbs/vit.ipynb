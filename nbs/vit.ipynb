{
 "cells": [
  {
   "cell_type": "markdown",
   "metadata": {},
   "source": [
    "# Vision Transformers (ViTClassifier)\n",
    "\n",
    "Based on \"An Image is Worth 16x16 Words: Transformers for Image Recognition at Scale\", Dosovitskiy et. al."
   ]
  },
  {
   "cell_type": "code",
   "execution_count": 14,
   "metadata": {},
   "outputs": [],
   "source": [
    "from vision.transformers.attention import Attention\n",
    "import torch\n",
    "\n",
    "import pickle\n",
    "import numpy as np\n",
    "\n",
    "from torch.utils.data import Dataset, DataLoader\n",
    "import torch.nn as nn \n",
    "\n",
    "import matplotlib.pyplot as plt\n",
    "\n",
    "from torchvision import transforms\n",
    "import wandb"
   ]
  },
  {
   "cell_type": "code",
   "execution_count": 15,
   "metadata": {},
   "outputs": [
    {
     "data": {
      "text/plain": [
       "True"
      ]
     },
     "execution_count": 15,
     "metadata": {},
     "output_type": "execute_result"
    }
   ],
   "source": [
    "wandb.login()"
   ]
  },
  {
   "cell_type": "code",
   "execution_count": 16,
   "metadata": {},
   "outputs": [],
   "source": [
    "device = torch.device(\"mps\" if torch.backends.mps.is_available() else (\"cuda\" if torch.cuda.is_available() else \"cpu\"))"
   ]
  },
  {
   "cell_type": "code",
   "execution_count": 17,
   "metadata": {},
   "outputs": [],
   "source": [
    "# data boiler plate\n",
    "\n",
    "all_batches_data = []\n",
    "all_batches_labels = []\n",
    "\n",
    "for i in range(1, 6):\n",
    "    with open(f'generative/autoencoders/data/cifar-10-batches-py/data_batch_{i}', 'rb') as f:\n",
    "        dataset_dict = pickle.load(f, encoding='bytes')\n",
    "        all_batches_data.append(dataset_dict[b'data'])\n",
    "        all_batches_labels.append(dataset_dict[b'labels'])\n",
    "\n",
    "stacked_data = np.vstack(all_batches_data)\n",
    "stacked_labels = np.hstack(all_batches_labels)\n",
    "data = torch.tensor(stacked_data, dtype=torch.float32).view(-1, 3, 32, 32).to(device) / 255.\n",
    "labels = torch.tensor(stacked_labels, dtype=torch.long).to(device)\n",
    "\n",
    "split_idx = int(0.8 * len(data))\n",
    "\n",
    "x_train, x_valid = data[:split_idx], data[split_idx:]\n",
    "y_train, y_valid = labels[:split_idx], labels[split_idx:]\n",
    "\n",
    "class CIFARCustomDataset(Dataset):\n",
    "    def __init__(self, x, y, transform=None):\n",
    "        self.x = x\n",
    "        self.y = y\n",
    "        self.transform = transform\n",
    "\n",
    "    def __len__(self):\n",
    "        return len(self.x)\n",
    "\n",
    "    def __getitem__(self, idx):\n",
    "        img, label = self.x[idx], self.y[idx]\n",
    "        if self.transform:\n",
    "            img = self.transform(img)\n",
    "        return img, label\n",
    "\n",
    "\n",
    "transform_train = transforms.Compose([\n",
    "    transforms.RandomCrop(32, padding=4),\n",
    "    transforms.RandomHorizontalFlip(),\n",
    "    transforms.Normalize((0.4914, 0.4822, 0.4465), (0.2023, 0.1994, 0.2010))  # CIFAR-10 stats\n",
    "])\n",
    "\n",
    "transform_val = transforms.Compose([\n",
    "    transforms.Normalize((0.4914, 0.4822, 0.4465), (0.2023, 0.1994, 0.2010))\n",
    "])\n",
    "\n",
    "\n",
    "train_ds = CIFARCustomDataset(x_train, y_train, transform_train)\n",
    "valid_ds = CIFARCustomDataset(x_valid, y_valid, transform_val)"
   ]
  },
  {
   "cell_type": "markdown",
   "metadata": {},
   "source": [
    "## Creating image patches \n",
    "\n",
    "This function is at the heart of the ViT, transforming images to patches of images that can be treated as tokens in a sequence"
   ]
  },
  {
   "cell_type": "code",
   "execution_count": 18,
   "metadata": {},
   "outputs": [
    {
     "name": "stdout",
     "output_type": "stream",
     "text": [
      "torch.Size([40000, 3, 32, 32])\n",
      "reshaped: torch.Size([40000, 3, 2, 16, 2, 16])\n",
      "permuted: torch.Size([40000, 2, 2, 3, 16, 16])\n"
     ]
    },
    {
     "data": {
      "text/plain": [
       "torch.Size([40000, 4, 768])"
      ]
     },
     "execution_count": 18,
     "metadata": {},
     "output_type": "execute_result"
    }
   ],
   "source": [
    "def patchify(x: torch.Tensor, patch_size: int):\n",
    "    print(x.shape)\n",
    "    batch_size, channels, width, height = x.shape\n",
    "    x = x.reshape(batch_size, channels, width // patch_size, patch_size, height // patch_size, patch_size)  # reshape into patches: b, c, w, h -> b, c, num_horizontal, patch_w, num_vertical, patch_h\n",
    "    print(f\"reshaped: {x.shape}\")\n",
    "    x = x.permute(0, 2, 4, 1, 3, 5)  # permute, b, c, num_horizontal, patch_w, num_vertical, patch_h -> b, num_horizontal, num_vertical, channels, patch_w, patch_h\n",
    "    print(f\"permuted: {x.shape}\")\n",
    "    return x.reshape(batch_size, -1, channels * patch_size * patch_size)  # flatten the patches\n",
    "\n",
    "x_train_2 = patchify(x_train, 16)\n",
    "x_train_2.shape"
   ]
  },
  {
   "cell_type": "markdown",
   "metadata": {},
   "source": [
    "## Transformer related modules"
   ]
  },
  {
   "cell_type": "code",
   "execution_count": 19,
   "metadata": {},
   "outputs": [],
   "source": [
    "class MLP(nn.Module): \n",
    "    \"\"\"\n",
    "    Class implementation of a position wise MLP\n",
    "    \"\"\"\n",
    "    def __init__(self, d_model: int, d_ff: int, dropout: float, num_layers: int = 2) -> None:\n",
    "        super(MLP, self).__init__()\n",
    "        \n",
    "        layers = [nn.Linear(d_model, d_ff), nn.GELU(), nn.Dropout(dropout)]\n",
    "        \n",
    "        for i in range(1, num_layers - 1):\n",
    "            layers.append(nn.Linear(d_ff, d_ff, bias=True))\n",
    "            layers.append(nn.GELU())\n",
    "            layers.append(nn.Dropout(dropout))\n",
    "        \n",
    "        layers.append(nn.Linear(d_ff, d_model, bias=True))\n",
    "        self.mlp_layers = nn.Sequential(*layers)\n",
    "        \n",
    "        self.layer_norm = nn.LayerNorm(d_model)\n",
    "        self.dropout = nn.Dropout(dropout)\n",
    "\n",
    "    def forward(self, x: torch.Tensor) -> torch.Tensor:\n",
    "        return self.mlp_layers(self.layer_norm(x))\n",
    "\n",
    "\n",
    "class EncoderLayer(nn.Module):\n",
    "    \"\"\"\n",
    "    Encoder layer block for ViT\n",
    "    \"\"\"\n",
    "    def __init__(\n",
    "        self, \n",
    "        num_heads: int,\n",
    "        num_channels: int,\n",
    "        d_linear: int,\n",
    "        num_linear_layers: int = 2,\n",
    "        num_groups: int = 8,\n",
    "        dropout: float = 0.1,\n",
    "        is_masked: bool = False\n",
    "    ):\n",
    "        super(EncoderLayer, self).__init__()\n",
    "        self.norm1, self.norm2 = nn.LayerNorm(num_channels),  nn.LayerNorm(num_channels)\n",
    "        self.mha = Attention(dropout, num_heads, num_channels, num_groups)\n",
    "        self.mlp = MLP(num_channels, d_linear, dropout, num_linear_layers)\n",
    "\n",
    "    def forward(self, x: torch.Tensor) -> torch.Tensor:\n",
    "        h = self.mha(self.norm1(x)) + x\n",
    "        return self.mlp(self.norm2(h)) + h\n",
    "\n",
    "\n",
    "class Encoder(nn.Module):\n",
    "    def __init__(\n",
    "        self, \n",
    "        num_heads: int,\n",
    "        num_channels: int,\n",
    "        num_layers: int,\n",
    "        d_linear: int,\n",
    "        num_linear_layers: int = 2,\n",
    "        num_groups: int = 8,\n",
    "        dropout: float = 0.1,\n",
    "        is_masked: bool = False\n",
    "    ):\n",
    "        super(Encoder, self).__init__()\n",
    "        self.layers = nn.ModuleList([\n",
    "            EncoderLayer(\n",
    "                num_heads, num_channels, d_linear, num_linear_layers, num_groups, dropout, is_masked\n",
    "            ) for _ in range(num_layers)\n",
    "        ])\n",
    "    def forward(self, x: torch.Tensor) -> torch.Tensor:\n",
    "        for layer in self.layers:\n",
    "            x = layer(x)\n",
    "        return x "
   ]
  },
  {
   "cell_type": "code",
   "execution_count": 20,
   "metadata": {},
   "outputs": [],
   "source": [
    "class MLPClassicationHead(nn.Module):\n",
    "    \"\"\"\n",
    "    Class implementation of a position wise MLP\n",
    "    \"\"\"\n",
    "    def __init__(\n",
    "        self,\n",
    "        num_classes: int,\n",
    "        num_channels:int,\n",
    "        d_ff: int,\n",
    "        num_layers: int = 2,\n",
    "        dropout: float = 0.1,\n",
    "    ) -> None:\n",
    "        super(MLPClassicationHead, self).__init__()\n",
    "\n",
    "        layers = []\n",
    "        layers.append(nn.Linear(num_channels, d_ff, bias=True))\n",
    "        for i in range(1, num_layers - 1):\n",
    "            layers.append(nn.Linear(d_ff, d_ff, bias=True))\n",
    "            layers.append(nn.ReLU())\n",
    "        \n",
    "        layers.append(nn.Linear(d_ff, num_classes, bias=True))\n",
    "        self.mlp_layers = nn.Sequential(*layers)\n",
    "\n",
    "    def forward(self, x: torch.Tensor) -> torch.Tensor:\n",
    "        return self.mlp_layers(x)"
   ]
  },
  {
   "cell_type": "markdown",
   "metadata": {},
   "source": [
    "## Putting it all together \n",
    "\n",
    "Whether autoregressive or bert style, transformers natively perform token prediction. The novelty in the design of the ViT is that it treats the classification task as a token prediction problem. We prepend a learnable [cls-token] (much like bert-style classifiers) that is tasked with storing representations that best enable classification (built via attention over all tokens in the context). This cls-token is the only thing fed to the classification head. So, via backprop, its objective is to provide the MLP with the best representation it can to lower classification loss. "
   ]
  },
  {
   "cell_type": "code",
   "execution_count": null,
   "metadata": {},
   "outputs": [],
   "source": [
    "class ViTClassifier(nn.Module):\n",
    "    \"\"\"\n",
    "    Vision Transformer.\n",
    "    \"\"\"\n",
    "    def __init__(\n",
    "        self,\n",
    "        num_classes,\n",
    "        num_heads: int,\n",
    "        d_model: int,\n",
    "        d_mlp: int,\n",
    "        patch_size: int = 16,\n",
    "        image_size: tuple[int] = 32,\n",
    "        num_encoder_layers: int = 2,\n",
    "        encoder_mlp_depth: int = 2,\n",
    "        classification_mlp_depth: int = 2,\n",
    "        num_groups: int = 8,\n",
    "        dropout: float = 0.1,\n",
    "    ):\n",
    "        super(ViTClassifier, self).__init__()\n",
    "        self.d_model, self.patch_size, self.image_size = d_model, patch_size, image_size\n",
    "        self.n_patches = (image_size // patch_size) ** 2  # assumes square image \n",
    "        self.linear = nn.Linear((3*patch_size*patch_size), d_model)  # assumes rgb image \n",
    "        self.encoder = Encoder(\n",
    "            num_heads, d_model, num_encoder_layers, d_mlp, encoder_mlp_depth, num_groups, dropout\n",
    "        )\n",
    "\n",
    "        self.cls_token = nn.Parameter(torch.zeros(1, 1, d_model))  # assumes rgb image \n",
    "        self.classification_head = MLPClassicationHead(num_classes, d_model, d_mlp, classification_mlp_depth, dropout) # d_ff and depth are different things\n",
    "\n",
    "        self.pos_embed = nn.Parameter(torch.zeros(1, self.n_patches + 1, d_model))\n",
    "        nn.init.trunc_normal_(self.pos_embed, std=0.02)\n",
    "    \n",
    "    def forward(self, x: torch.Tensor) -> torch.Tensor:\n",
    "        \"\"\"\n",
    "        forward pass for our vit classifier. takes in raw images and outputs a probability distribution over classes\n",
    "        \"\"\"\n",
    "        batch_size = x.shape[0]\n",
    "        x = self.linear(self._patchify(x))\n",
    "        cls = self.cls_token.expand(batch_size, -1, -1)\n",
    "        x = torch.cat((cls, x), 1)\n",
    "        x = x + self.pos_embed[:, : x.size(1), :].to(x.device)\n",
    "        x = self.encoder(x)\n",
    "        return self.classification_head(x[:,0,:])\n",
    "    \n",
    "    def _patchify(self, x: torch.Tensor) -> torch.Tensor:\n",
    "        batch_size, channels, width, height = x.shape\n",
    "        n_patch_side = self.image_size // self.patch_size\n",
    "        x = x.reshape(\n",
    "            batch_size,\n",
    "            channels,\n",
    "            n_patch_side,\n",
    "            self.patch_size,\n",
    "            n_patch_side,\n",
    "            self.patch_size\n",
    "        )\n",
    "        x = x.permute(0, 2, 4, 1, 3, 5)\n",
    "        return x.reshape(batch_size, -1, channels * self.patch_size * self.patch_size)\n",
    "        \n",
    "    # Removed _positional_embedding, as we now use a learnable positional embedding\n"
   ]
  },
  {
   "cell_type": "markdown",
   "metadata": {},
   "source": [
    "### training boiler plate "
   ]
  },
  {
   "cell_type": "code",
   "execution_count": 9,
   "metadata": {},
   "outputs": [],
   "source": [
    "def accuracy(y_pred, y):\n",
    "    return (y_pred.argmax(dim=1) == y).float().mean()\n",
    "\n",
    "def validate_model(model, valid_loader, loss_fn, all_valid_loss):\n",
    "    model.eval()\n",
    "    valid_loss = []\n",
    "    valid_acc = []\n",
    "    \n",
    "    with torch.no_grad():\n",
    "        for batch in valid_loader:\n",
    "            x, y = batch\n",
    "            y_pred = model(x)\n",
    "            loss = loss_fn(y_pred, y)\n",
    "            valid_loss.append(loss.item())\n",
    "            valid_acc.append(accuracy(y_pred, y))\n",
    "    \n",
    "    all_valid_loss.append(sum(valid_loss) / len(valid_loss))\n",
    "    \n",
    "    return sum(valid_acc) / len(valid_acc)\n",
    "\n",
    "def plot_loss(all_train_loss, all_valid_loss):\n",
    "    plt.figure(figsize=(10, 5))\n",
    "    plt.plot(all_train_loss, label='Training Loss')\n",
    "    plt.plot(all_valid_loss, label='Validation Loss')\n",
    "    plt.xlabel('Epoch')\n",
    "    plt.ylabel('Loss')\n",
    "    plt.legend()\n",
    "    plt.show()\n",
    "\n",
    "\n",
    "def train_model(\n",
    "    model: nn.Module,\n",
    "    optim: torch.optim.Optimizer,\n",
    "    loss_fn,\n",
    "    train_loader: DataLoader,\n",
    "    valid_loader: DataLoader,\n",
    "    scheduler=None,\n",
    "    epochs: int = 10,\n",
    "    batch_size: int = 32,\n",
    "    valid_every: int = 1\n",
    ") -> None:\n",
    "    \"\"\"2\n",
    "    Train a PyTorch model with validation.\n",
    "    \n",
    "    Args:\n",
    "        model: The neural network model to train\n",
    "        optim: The optimizer for training\n",
    "        loss_fn: The loss function\n",
    "        train_loader: DataLoader for training data\n",
    "        valid_loader: DataLoader for validation data\n",
    "        scheduler: Learning rate scheduler (optional)\n",
    "        epochs: Number of training epochs (default: 10)\n",
    "        batch_size: Batch size for training (default: 32)\n",
    "        valid_every: Validate every N epochs (default: 1)\n",
    "    \n",
    "    Returns:\n",
    "        None\n",
    "    \"\"\"\n",
    "    all_train_loss = []\n",
    "    all_valid_loss = []\n",
    "    \n",
    "    for epoch in range(epochs):\n",
    "        model.train()\n",
    "        train_loss = []\n",
    "        \n",
    "        for batch in train_loader:\n",
    "            x, y = batch\n",
    "            optim.zero_grad()\n",
    "            y_pred = model(x)\n",
    "            loss = loss_fn(y_pred, y)\n",
    "            loss.backward()\n",
    "            optim.step()\n",
    "            train_loss.append(loss.item())\n",
    "        \n",
    "        all_train_loss.append(sum(train_loss) / len(train_loss))\n",
    "        \n",
    "        current_lr = optim.param_groups[0]['lr']\n",
    "        if scheduler is not None:\n",
    "            scheduler.step()\n",
    "        \n",
    "        if epoch % valid_every == 0:\n",
    "            valid_acc = validate_model(model, valid_loader, loss_fn, all_valid_loss)\n",
    "            print(\n",
    "                f\"Epoch {epoch}, Train Loss: {sum(train_loss) / len(train_loss)}, \"\n",
    "                f\"Valid Loss: {all_valid_loss[-1]}, \"\n",
    "                f\"Acc: {valid_acc}\"\n",
    "            )\n",
    "            wandb.log({\n",
    "                \"epoch\": epoch,\n",
    "                \"train_loss\": all_train_loss[-1],\n",
    "                \"valid_loss\": all_valid_loss[-1],\n",
    "                \"valid_accuracy\": valid_acc,\n",
    "                \"learning_rate\": current_lr\n",
    "            })\n",
    "    \n",
    "    plot_loss(all_train_loss, all_valid_loss)"
   ]
  },
  {
   "cell_type": "code",
   "execution_count": null,
   "metadata": {},
   "outputs": [
    {
     "name": "stdout",
     "output_type": "stream",
     "text": [
      "Number of parameters in model: 5433610\n"
     ]
    }
   ],
   "source": [
    "d_model = 256\n",
    "d_mlp = 512\n",
    "num_encoder_layers = 4\n",
    "patch_size = 4\n",
    "dropout = 0.3\n",
    "\n",
    "model = ViTClassifier(num_classes=10, num_heads=4, d_model=d_model, d_mlp=d_mlp, num_encoder_layers=num_encoder_layers, patch_size=patch_size, dropout=dropout).to(device)\n",
    "num_params = sum(p.numel() for p in model.parameters())\n",
    "print(f\"Number of parameters in model: {num_params}\")\n"
   ]
  },
  {
   "cell_type": "code",
   "execution_count": null,
   "metadata": {},
   "outputs": [
    {
     "data": {
      "text/html": [
       "Tracking run with wandb version 0.21.0"
      ],
      "text/plain": [
       "<IPython.core.display.HTML object>"
      ]
     },
     "metadata": {},
     "output_type": "display_data"
    },
    {
     "data": {
      "text/html": [
       "Run data is saved locally in <code>/home/aryamanpandya/vision/nbs/wandb/run-20250723_011702-ymkorcwm</code>"
      ],
      "text/plain": [
       "<IPython.core.display.HTML object>"
      ]
     },
     "metadata": {},
     "output_type": "display_data"
    },
    {
     "data": {
      "text/html": [
       "Syncing run <strong><a href='https://wandb.ai/wayve-ai/aryaman_wandb_setup/runs/ymkorcwm' target=\"_blank\">amber-valley-3</a></strong> to <a href='https://wandb.ai/wayve-ai/aryaman_wandb_setup' target=\"_blank\">Weights & Biases</a> (<a href='https://wandb.me/developer-guide' target=\"_blank\">docs</a>)<br>"
      ],
      "text/plain": [
       "<IPython.core.display.HTML object>"
      ]
     },
     "metadata": {},
     "output_type": "display_data"
    },
    {
     "data": {
      "text/html": [
       " View project at <a href='https://wandb.ai/wayve-ai/aryaman_wandb_setup' target=\"_blank\">https://wandb.ai/wayve-ai/aryaman_wandb_setup</a>"
      ],
      "text/plain": [
       "<IPython.core.display.HTML object>"
      ]
     },
     "metadata": {},
     "output_type": "display_data"
    },
    {
     "data": {
      "text/html": [
       " View run at <a href='https://wandb.ai/wayve-ai/aryaman_wandb_setup/runs/ymkorcwm' target=\"_blank\">https://wandb.ai/wayve-ai/aryaman_wandb_setup/runs/ymkorcwm</a>"
      ],
      "text/plain": [
       "<IPython.core.display.HTML object>"
      ]
     },
     "metadata": {},
     "output_type": "display_data"
    },
    {
     "name": "stdout",
     "output_type": "stream",
     "text": [
      "Epoch 0, Train Loss: 2.011571117594272, Valid Loss: 1.8563194930553437, Acc: 0.31027689576148987\n",
      "Epoch 1, Train Loss: 1.7939664487597309, Valid Loss: 1.7235060334205627, Acc: 0.37124308943748474\n",
      "Epoch 2, Train Loss: 1.666852113566821, Valid Loss: 1.6239006459712981, Acc: 0.4086742103099823\n",
      "Epoch 3, Train Loss: 1.578789628004726, Valid Loss: 1.5321803331375121, Acc: 0.44788026809692383\n",
      "Epoch 4, Train Loss: 1.5089813455750671, Valid Loss: 1.478570705652237, Acc: 0.47521254420280457\n",
      "Epoch 5, Train Loss: 1.4521547601192812, Valid Loss: 1.4517551481723785, Acc: 0.477826327085495\n",
      "Epoch 6, Train Loss: 1.4133451543276823, Valid Loss: 1.3860924243927002, Acc: 0.5051586031913757\n",
      "Epoch 7, Train Loss: 1.3784221290033074, Valid Loss: 1.2961691200733185, Acc: 0.532065749168396\n",
      "Epoch 8, Train Loss: 1.337373063534121, Valid Loss: 1.2954424560070037, Acc: 0.5342486500740051\n",
      "Epoch 9, Train Loss: 1.3054288459729544, Valid Loss: 1.2659447014331817, Acc: 0.5433306694030762\n",
      "Epoch 10, Train Loss: 1.2882322012623655, Valid Loss: 1.2446243047714234, Acc: 0.5555721521377563\n",
      "Epoch 11, Train Loss: 1.2700456350664548, Valid Loss: 1.2845149755477905, Acc: 0.5416877269744873\n",
      "Epoch 12, Train Loss: 1.2511993797519538, Valid Loss: 1.3089451134204864, Acc: 0.5269014239311218\n",
      "Epoch 13, Train Loss: 1.2291995407659797, Valid Loss: 1.2242213487625122, Acc: 0.5553941130638123\n",
      "Epoch 14, Train Loss: 1.2205988636499718, Valid Loss: 1.2302735328674317, Acc: 0.5633099675178528\n",
      "Epoch 15, Train Loss: 1.2024032269852072, Valid Loss: 1.1841761648654938, Acc: 0.577475905418396\n",
      "Epoch 16, Train Loss: 1.1864744228652762, Valid Loss: 1.137723022699356, Acc: 0.5942497849464417\n",
      "Epoch 17, Train Loss: 1.169313687312452, Valid Loss: 1.1419884741306305, Acc: 0.5875689387321472\n",
      "Epoch 18, Train Loss: 1.159829556187497, Valid Loss: 1.1495961904525758, Acc: 0.5909869074821472\n",
      "Epoch 19, Train Loss: 1.1479643522938596, Valid Loss: 1.1158926367759705, Acc: 0.5985466837882996\n",
      "Epoch 20, Train Loss: 1.133659389954579, Valid Loss: 1.1114431321620941, Acc: 0.602671205997467\n",
      "Epoch 21, Train Loss: 1.115995307511921, Valid Loss: 1.1282043695449828, Acc: 0.5994945168495178\n",
      "Epoch 22, Train Loss: 1.0985566724704792, Valid Loss: 1.0663575410842896, Acc: 0.6163086295127869\n",
      "Epoch 23, Train Loss: 1.095066339909276, Valid Loss: 1.1504905641078949, Acc: 0.59375\n",
      "Epoch 24, Train Loss: 1.0918599329417265, Valid Loss: 1.0442415297031402, Acc: 0.6219611763954163\n",
      "Epoch 25, Train Loss: 1.0715113123760949, Valid Loss: 1.0668633073568343, Acc: 0.6216567158699036\n",
      "Epoch 26, Train Loss: 1.0709372411800335, Valid Loss: 1.0387426614761353, Acc: 0.6282686591148376\n",
      "Epoch 27, Train Loss: 1.0623132782646372, Valid Loss: 1.029385769367218, Acc: 0.6361098289489746\n",
      "Epoch 28, Train Loss: 1.0507203566877148, Valid Loss: 1.016298633813858, Acc: 0.637988269329071\n",
      "Epoch 29, Train Loss: 1.0553106658066376, Valid Loss: 1.03717580139637, Acc: 0.6340877413749695\n",
      "Epoch 30, Train Loss: 1.0337748489802396, Valid Loss: 1.0372497648000718, Acc: 0.6318933963775635\n",
      "Epoch 31, Train Loss: 1.03592889897431, Valid Loss: 0.9924030154943466, Acc: 0.6490177512168884\n",
      "Epoch 32, Train Loss: 1.02612656505802, Valid Loss: 0.9823771834373474, Acc: 0.6524357199668884\n",
      "Epoch 33, Train Loss: 1.0108336911925786, Valid Loss: 0.9985770016908646, Acc: 0.6483226418495178\n",
      "Epoch 34, Train Loss: 1.0090311290342597, Valid Loss: 0.9915863126516342, Acc: 0.6483455896377563\n",
      "Epoch 35, Train Loss: 0.993696032445642, Valid Loss: 1.008176639676094, Acc: 0.6460191011428833\n",
      "Epoch 36, Train Loss: 0.9883196957503693, Valid Loss: 0.9653769612312317, Acc: 0.6585937738418579\n",
      "Epoch 37, Train Loss: 0.980620796921887, Valid Loss: 0.9997111737728119, Acc: 0.6484202742576599\n",
      "Epoch 38, Train Loss: 0.9816090977644618, Valid Loss: 0.9633318662643433, Acc: 0.6584214568138123\n",
      "Epoch 39, Train Loss: 0.9686355055132999, Valid Loss: 0.9408911347389222, Acc: 0.669272780418396\n",
      "Epoch 40, Train Loss: 0.9614047008224681, Valid Loss: 0.9468769609928132, Acc: 0.6668485999107361\n",
      "Epoch 41, Train Loss: 0.9562423040595236, Valid Loss: 0.9330207079648971, Acc: 0.6685374975204468\n",
      "Epoch 42, Train Loss: 0.9511781395236149, Valid Loss: 0.9749999523162842, Acc: 0.6599552035331726\n",
      "Epoch 43, Train Loss: 0.9486876062200039, Valid Loss: 0.9128099709749222, Acc: 0.6747300028800964\n",
      "Epoch 44, Train Loss: 0.9406310765049125, Valid Loss: 0.9180783748626709, Acc: 0.6735236644744873\n",
      "Epoch 45, Train Loss: 0.9306842896002757, Valid Loss: 0.9080807000398636, Acc: 0.682910144329071\n",
      "Epoch 46, Train Loss: 0.9336529064782059, Valid Loss: 0.9081092417240143, Acc: 0.6790958642959595\n",
      "Epoch 47, Train Loss: 0.9239834154708476, Valid Loss: 0.9129156678915024, Acc: 0.6803423762321472\n",
      "Epoch 48, Train Loss: 0.9140735298772401, Valid Loss: 0.8882338613271713, Acc: 0.6887178421020508\n",
      "Epoch 49, Train Loss: 0.9086357920984679, Valid Loss: 0.904830938577652, Acc: 0.681933581829071\n",
      "Epoch 50, Train Loss: 0.911962628364563, Valid Loss: 0.9158346891403198, Acc: 0.6732823848724365\n",
      "Epoch 51, Train Loss: 0.9070383634748338, Valid Loss: 0.8804508328437806, Acc: 0.6888269782066345\n",
      "Epoch 52, Train Loss: 0.896820345256902, Valid Loss: 0.8659594595432282, Acc: 0.6932215094566345\n",
      "Epoch 53, Train Loss: 0.8846856023691878, Valid Loss: 0.8832487910985947, Acc: 0.6888097524642944\n",
      "Epoch 54, Train Loss: 0.891434163986882, Valid Loss: 0.8651913821697235, Acc: 0.694956362247467\n",
      "Epoch 55, Train Loss: 0.8776935572865643, Valid Loss: 0.8753352522850036, Acc: 0.6954044699668884\n",
      "Epoch 56, Train Loss: 0.8755579696425909, Valid Loss: 0.8553433150053025, Acc: 0.6961339712142944\n",
      "Epoch 57, Train Loss: 0.8790258863304234, Valid Loss: 0.882521340250969, Acc: 0.686983048915863\n",
      "Epoch 58, Train Loss: 0.8728691769551628, Valid Loss: 0.8760767072439194, Acc: 0.6937615275382996\n",
      "Epoch 59, Train Loss: 0.8660857654825042, Valid Loss: 0.8559905350208282, Acc: 0.6982192397117615\n",
      "Epoch 60, Train Loss: 0.8640793343133564, Valid Loss: 0.8464325547218323, Acc: 0.7006491422653198\n",
      "Epoch 61, Train Loss: 0.8538022275212445, Valid Loss: 0.8646686047315597, Acc: 0.6966107487678528\n",
      "Epoch 62, Train Loss: 0.8538513025151023, Valid Loss: 0.8670104533433914, Acc: 0.6973460912704468\n",
      "Epoch 63, Train Loss: 0.8516584521607508, Valid Loss: 0.839980673789978, Acc: 0.7046645283699036\n",
      "Epoch 64, Train Loss: 0.844757655753365, Valid Loss: 0.8645094692707062, Acc: 0.6972828507423401\n",
      "Epoch 65, Train Loss: 0.8431756941578056, Valid Loss: 0.8416485637426376, Acc: 0.7044117450714111\n",
      "Epoch 66, Train Loss: 0.8361284612100336, Valid Loss: 0.8440829575061798, Acc: 0.7023093104362488\n",
      "Epoch 67, Train Loss: 0.8389083599742455, Valid Loss: 0.8445235401391983, Acc: 0.705371081829071\n",
      "Epoch 68, Train Loss: 0.8382561244542086, Valid Loss: 0.8263108015060425, Acc: 0.7063189744949341\n",
      "Epoch 69, Train Loss: 0.8239397979989836, Valid Loss: 0.8235569208860397, Acc: 0.7089154124259949\n",
      "Epoch 70, Train Loss: 0.8164668475525289, Valid Loss: 0.8226029753684998, Acc: 0.7118107080459595\n",
      "Epoch 71, Train Loss: 0.8132379107837435, Valid Loss: 0.8360346019268036, Acc: 0.7103630900382996\n",
      "Epoch 72, Train Loss: 0.814896852155275, Valid Loss: 0.806966045498848, Acc: 0.7162913680076599\n",
      "Epoch 73, Train Loss: 0.8130583906475501, Valid Loss: 0.8471194833517075, Acc: 0.7023897171020508\n",
      "Epoch 74, Train Loss: 0.8157281951059269, Valid Loss: 0.828875544667244, Acc: 0.707002580165863\n",
      "Epoch 75, Train Loss: 0.8079509803011448, Valid Loss: 0.8017361611127853, Acc: 0.7178251147270203\n",
      "Epoch 76, Train Loss: 0.8057199829741369, Valid Loss: 0.809884050488472, Acc: 0.7164005637168884\n",
      "Epoch 77, Train Loss: 0.7986878126482421, Valid Loss: 0.7928795576095581, Acc: 0.7191234230995178\n",
      "Epoch 78, Train Loss: 0.7870272254642052, Valid Loss: 0.8075120687484741, Acc: 0.7141831517219543\n",
      "Epoch 79, Train Loss: 0.7899006703231908, Valid Loss: 0.8131838977336884, Acc: 0.7104894518852234\n",
      "Epoch 80, Train Loss: 0.798755026316341, Valid Loss: 0.8014326870441437, Acc: 0.7167567014694214\n",
      "Epoch 81, Train Loss: 0.7879791395573676, Valid Loss: 0.799488964676857, Acc: 0.7213350534439087\n",
      "Epoch 82, Train Loss: 0.7917086700849896, Valid Loss: 0.7892670542001724, Acc: 0.7274758815765381\n",
      "Epoch 83, Train Loss: 0.7812723517417908, Valid Loss: 0.804304352402687, Acc: 0.717124342918396\n",
      "Epoch 84, Train Loss: 0.7822063927409015, Valid Loss: 0.7906863272190094, Acc: 0.7240177392959595\n",
      "Epoch 85, Train Loss: 0.7689428435096258, Valid Loss: 0.787412241101265, Acc: 0.7278033494949341\n",
      "Epoch 86, Train Loss: 0.7759355880037139, Valid Loss: 0.8053628444671631, Acc: 0.7182215452194214\n",
      "Epoch 87, Train Loss: 0.7786963634853121, Valid Loss: 0.7796534359455108, Acc: 0.7271599173545837\n",
      "Epoch 88, Train Loss: 0.7669008313855038, Valid Loss: 0.7865560173988342, Acc: 0.7242934107780457\n",
      "Epoch 89, Train Loss: 0.7614062458653993, Valid Loss: 0.7867678254842758, Acc: 0.7249712944030762\n",
      "Epoch 90, Train Loss: 0.7592503941511806, Valid Loss: 0.7858537018299103, Acc: 0.7260799407958984\n",
      "Epoch 91, Train Loss: 0.7597026417527017, Valid Loss: 0.7853012442588806, Acc: 0.7264648675918579\n",
      "Epoch 92, Train Loss: 0.7532196241089061, Valid Loss: 0.7872570365667343, Acc: 0.7251953482627869\n",
      "Epoch 93, Train Loss: 0.757616569724264, Valid Loss: 0.7797480076551437, Acc: 0.726694643497467\n",
      "Epoch 94, Train Loss: 0.7518472935580001, Valid Loss: 0.7774191588163376, Acc: 0.727895200252533\n",
      "Epoch 95, Train Loss: 0.7553156320052811, Valid Loss: 0.7721682339906693, Acc: 0.7319852709770203\n",
      "Epoch 96, Train Loss: 0.7508376972584785, Valid Loss: 0.7679902911186218, Acc: 0.7347771525382996\n",
      "Epoch 97, Train Loss: 0.741959576365314, Valid Loss: 0.7761740058660507, Acc: 0.729463517665863\n",
      "Epoch 98, Train Loss: 0.7463478181935563, Valid Loss: 0.7731544017791748, Acc: 0.7303251624107361\n",
      "Epoch 99, Train Loss: 0.7391556124143963, Valid Loss: 0.7661221563816071, Acc: 0.7365751266479492\n",
      "Epoch 100, Train Loss: 0.741452573220941, Valid Loss: 0.7694729000329972, Acc: 0.7340590357780457\n",
      "Epoch 101, Train Loss: 0.742468471014047, Valid Loss: 0.7564605444669723, Acc: 0.7362936735153198\n",
      "Epoch 102, Train Loss: 0.7337639075291308, Valid Loss: 0.7658309787511826, Acc: 0.7296932339668274\n",
      "Epoch 103, Train Loss: 0.7333728505086295, Valid Loss: 0.7501450181007385, Acc: 0.7405790686607361\n",
      "Epoch 104, Train Loss: 0.7240623846838746, Valid Loss: 0.763475701212883, Acc: 0.7360121607780457\n",
      "Epoch 105, Train Loss: 0.7214310184309755, Valid Loss: 0.7689413070678711, Acc: 0.7312098145484924\n",
      "Epoch 106, Train Loss: 0.729097509685951, Valid Loss: 0.7553183168172837, Acc: 0.740854799747467\n",
      "Epoch 107, Train Loss: 0.721377934081645, Valid Loss: 0.7667720407247544, Acc: 0.7326516509056091\n",
      "Epoch 108, Train Loss: 0.7248221605638915, Valid Loss: 0.7691949337720871, Acc: 0.732634425163269\n",
      "Epoch 109, Train Loss: 0.7120269612420963, Valid Loss: 0.7773415386676789, Acc: 0.7293543219566345\n",
      "Epoch 110, Train Loss: 0.723972036868711, Valid Loss: 0.7413837224245071, Acc: 0.7415843605995178\n",
      "Epoch 111, Train Loss: 0.7131226123133793, Valid Loss: 0.7426106542348861, Acc: 0.7440831661224365\n",
      "Epoch 112, Train Loss: 0.7096715644945072, Valid Loss: 0.7609623014926911, Acc: 0.7346162796020508\n",
      "Epoch 113, Train Loss: 0.710619711423222, Valid Loss: 0.7474119901657105, Acc: 0.7399299144744873\n",
      "Epoch 114, Train Loss: 0.701334237297879, Valid Loss: 0.7432181447744369, Acc: 0.7457031607627869\n",
      "Epoch 115, Train Loss: 0.7055714869801002, Valid Loss: 0.7490129828453064, Acc: 0.738315761089325\n",
      "Epoch 116, Train Loss: 0.6982603706891024, Valid Loss: 0.7420312017202377, Acc: 0.7415785789489746\n",
      "Epoch 117, Train Loss: 0.7065473628949516, Valid Loss: 0.7507377356290817, Acc: 0.7414349913597107\n",
      "Epoch 118, Train Loss: 0.6977785274952273, Valid Loss: 0.750368595123291, Acc: 0.7407341599464417\n",
      "Epoch 119, Train Loss: 0.6981215808964982, Valid Loss: 0.7376430332660675, Acc: 0.745312511920929\n",
      "Epoch 120, Train Loss: 0.6967126832732672, Valid Loss: 0.7442865401506424, Acc: 0.7418830394744873\n",
      "Epoch 121, Train Loss: 0.6970072743258898, Valid Loss: 0.7393144577741623, Acc: 0.7442210912704468\n",
      "Epoch 122, Train Loss: 0.6932339260849771, Valid Loss: 0.7460419028997421, Acc: 0.7425494194030762\n",
      "Epoch 123, Train Loss: 0.6910865254040006, Valid Loss: 0.7366288870573043, Acc: 0.7488166689872742\n",
      "Epoch 124, Train Loss: 0.6915665623507922, Valid Loss: 0.7417537242174148, Acc: 0.7450310587882996\n",
      "Epoch 125, Train Loss: 0.6923683180084711, Valid Loss: 0.7364881634712219, Acc: 0.7467543482780457\n",
      "Epoch 126, Train Loss: 0.6897712893123868, Valid Loss: 0.7407295882701874, Acc: 0.7467026710510254\n",
      "Epoch 127, Train Loss: 0.6846313423748258, Valid Loss: 0.7411323040723801, Acc: 0.7435374855995178\n",
      "Epoch 128, Train Loss: 0.686911274360705, Valid Loss: 0.7329784870147705, Acc: 0.7495347261428833\n",
      "Epoch 129, Train Loss: 0.6791510249994979, Valid Loss: 0.7348951399326324, Acc: 0.7502010464668274\n",
      "Epoch 130, Train Loss: 0.6838466751424572, Valid Loss: 0.7319779306650162, Acc: 0.7481847405433655\n",
      "Epoch 131, Train Loss: 0.6834238465828232, Valid Loss: 0.7247353047132492, Acc: 0.7488511204719543\n",
      "Epoch 132, Train Loss: 0.6833406354807601, Valid Loss: 0.738613736629486, Acc: 0.7464556694030762\n",
      "Epoch 133, Train Loss: 0.685760610465762, Valid Loss: 0.7382122904062272, Acc: 0.7436925768852234\n",
      "Epoch 134, Train Loss: 0.6828662692746029, Valid Loss: 0.7229782551527023, Acc: 0.7494485378265381\n",
      "Epoch 135, Train Loss: 0.6727590658996678, Valid Loss: 0.7328228682279587, Acc: 0.752412736415863\n",
      "Epoch 136, Train Loss: 0.6770547145529638, Valid Loss: 0.7360226690769196, Acc: 0.7479607462882996\n",
      "Epoch 137, Train Loss: 0.6687965913663937, Valid Loss: 0.7266489207744599, Acc: 0.7487879395484924\n",
      "Epoch 138, Train Loss: 0.6738037021854256, Valid Loss: 0.7178285747766495, Acc: 0.7533720135688782\n",
      "Epoch 139, Train Loss: 0.6692817912826056, Valid Loss: 0.7259286224842072, Acc: 0.7474724650382996\n",
      "Epoch 140, Train Loss: 0.6673945852472812, Valid Loss: 0.7276334434747695, Acc: 0.7497989535331726\n",
      "Epoch 141, Train Loss: 0.6690382361412048, Valid Loss: 0.719012126326561, Acc: 0.7525850534439087\n",
      "Epoch 142, Train Loss: 0.6630633005613014, Valid Loss: 0.7317910015583038, Acc: 0.7479435205459595\n",
      "Epoch 143, Train Loss: 0.6657539681543277, Valid Loss: 0.7150678753852844, Acc: 0.7551125884056091\n",
      "Epoch 144, Train Loss: 0.6656289130826539, Valid Loss: 0.7193946927785874, Acc: 0.750815749168396\n",
      "Epoch 145, Train Loss: 0.6664433939547478, Valid Loss: 0.7217182904481888, Acc: 0.7509191036224365\n",
      "Epoch 146, Train Loss: 0.6594413224654861, Valid Loss: 0.7211562544107437, Acc: 0.7507410645484924\n",
      "Epoch 147, Train Loss: 0.6689438593538501, Valid Loss: 0.7161450058221817, Acc: 0.7565028071403503\n",
      "Epoch 148, Train Loss: 0.6583882027034518, Valid Loss: 0.7190622985363007, Acc: 0.7533777952194214\n",
      "Epoch 149, Train Loss: 0.6591620905489861, Valid Loss: 0.7304252475500107, Acc: 0.7500459551811218\n",
      "Epoch 150, Train Loss: 0.6606127061421359, Valid Loss: 0.7213849723339081, Acc: 0.7496725916862488\n",
      "Epoch 151, Train Loss: 0.6551509891884236, Valid Loss: 0.7142987221479415, Acc: 0.7557100653648376\n",
      "Epoch 152, Train Loss: 0.6600665027582193, Valid Loss: 0.7120534300804138, Acc: 0.75634765625\n",
      "Epoch 153, Train Loss: 0.6529483372652078, Valid Loss: 0.7142207354307175, Acc: 0.7550666332244873\n",
      "Epoch 154, Train Loss: 0.6547352456593816, Valid Loss: 0.7115370035171509, Acc: 0.7557904124259949\n",
      "Epoch 155, Train Loss: 0.6482423634468755, Valid Loss: 0.7208555817604065, Acc: 0.7512580752372742\n",
      "Epoch 156, Train Loss: 0.6516450703898563, Valid Loss: 0.7237867832183837, Acc: 0.7531020045280457\n",
      "Epoch 157, Train Loss: 0.6491737146920795, Valid Loss: 0.7346107095479966, Acc: 0.7480239272117615\n",
      "Epoch 158, Train Loss: 0.6537320229071605, Valid Loss: 0.7180552899837493, Acc: 0.7545783519744873\n",
      "Epoch 159, Train Loss: 0.649981322922284, Valid Loss: 0.7182512998580932, Acc: 0.753142237663269\n",
      "Epoch 160, Train Loss: 0.6493842835667767, Valid Loss: 0.7222639679908752, Acc: 0.7537569403648376\n",
      "Epoch 161, Train Loss: 0.6492043484615374, Valid Loss: 0.715543982386589, Acc: 0.7550206780433655\n",
      "Epoch 162, Train Loss: 0.6560052625740631, Valid Loss: 0.7130288332700729, Acc: 0.7563993334770203\n",
      "Epoch 163, Train Loss: 0.6468697597708883, Valid Loss: 0.7107177346944809, Acc: 0.7580595016479492\n",
      "Epoch 164, Train Loss: 0.6459616588640816, Valid Loss: 0.709695890545845, Acc: 0.758496105670929\n",
      "Epoch 165, Train Loss: 0.648794594444806, Valid Loss: 0.7156939059495926, Acc: 0.7563706636428833\n",
      "Epoch 166, Train Loss: 0.649015936670424, Valid Loss: 0.7140813261270523, Acc: 0.7554400563240051\n",
      "Epoch 167, Train Loss: 0.6473659435405007, Valid Loss: 0.717794680595398, Acc: 0.7540958523750305\n",
      "Epoch 168, Train Loss: 0.6497622320923624, Valid Loss: 0.7138472616672515, Acc: 0.7558478713035583\n",
      "Epoch 169, Train Loss: 0.649062424520903, Valid Loss: 0.7137818247079849, Acc: 0.7557502388954163\n",
      "Epoch 170, Train Loss: 0.6404143654847447, Valid Loss: 0.7135208547115326, Acc: 0.7572610378265381\n",
      "Epoch 171, Train Loss: 0.6485840233066414, Valid Loss: 0.7109958678483963, Acc: 0.7567784786224365\n",
      "Epoch 172, Train Loss: 0.641194259064107, Valid Loss: 0.7097384035587311, Acc: 0.7569221258163452\n",
      "Epoch 173, Train Loss: 0.6466862197163739, Valid Loss: 0.7135949105024337, Acc: 0.7573758959770203\n",
      "Epoch 174, Train Loss: 0.6512460957599592, Valid Loss: 0.711516273021698, Acc: 0.7561983466148376\n",
      "Epoch 175, Train Loss: 0.6435832939570463, Valid Loss: 0.7117595583200454, Acc: 0.756870448589325\n",
      "Epoch 176, Train Loss: 0.6433058916767941, Valid Loss: 0.7118758767843246, Acc: 0.7561236619949341\n",
      "Epoch 177, Train Loss: 0.6429709271539615, Valid Loss: 0.7104071736335754, Acc: 0.7554457783699036\n",
      "Epoch 178, Train Loss: 0.6427117140987252, Valid Loss: 0.7133635193109512, Acc: 0.7566119432449341\n",
      "Epoch 179, Train Loss: 0.6417689278155942, Valid Loss: 0.7111529499292374, Acc: 0.7569049000740051\n",
      "Epoch 180, Train Loss: 0.6423723818380621, Valid Loss: 0.7075469940900803, Acc: 0.758432924747467\n",
      "Epoch 181, Train Loss: 0.6460134198394003, Valid Loss: 0.7108705848455429, Acc: 0.7578240036964417\n",
      "Epoch 182, Train Loss: 0.6403130202353755, Valid Loss: 0.709660679101944, Acc: 0.7577148675918579\n",
      "Epoch 183, Train Loss: 0.6453832116308091, Valid Loss: 0.7111994206905365, Acc: 0.7566061615943909\n",
      "Epoch 184, Train Loss: 0.6437505762788314, Valid Loss: 0.7088365197181702, Acc: 0.7578009963035583\n",
      "Epoch 185, Train Loss: 0.6438430321367481, Valid Loss: 0.7105350255966186, Acc: 0.7575425505638123\n",
      "Epoch 186, Train Loss: 0.6439651620538929, Valid Loss: 0.7087355464696884, Acc: 0.7580595016479492\n",
      "Epoch 187, Train Loss: 0.6364665514306177, Valid Loss: 0.7098252207040787, Acc: 0.7578641772270203\n",
      "Epoch 188, Train Loss: 0.6397605289386797, Valid Loss: 0.7092220306396484, Acc: 0.757680356502533\n",
      "Epoch 189, Train Loss: 0.6362504464916036, Valid Loss: 0.7074225634336472, Acc: 0.7575885057449341\n",
      "Epoch 190, Train Loss: 0.6389525283741045, Valid Loss: 0.7104276895523072, Acc: 0.7576976418495178\n",
      "Epoch 191, Train Loss: 0.6329540851749952, Valid Loss: 0.7114756584167481, Acc: 0.7566348910331726\n",
      "Epoch 192, Train Loss: 0.6403302572950532, Valid Loss: 0.7076963484287262, Acc: 0.7578756809234619\n",
      "Epoch 193, Train Loss: 0.6418483453460887, Valid Loss: 0.7127683341503144, Acc: 0.7560948729515076\n",
      "Epoch 194, Train Loss: 0.6417304677299306, Valid Loss: 0.71343954205513, Acc: 0.756755530834198\n",
      "Epoch 195, Train Loss: 0.6418254903600186, Valid Loss: 0.7079089641571045, Acc: 0.7587258815765381\n",
      "Epoch 196, Train Loss: 0.6437309308897091, Valid Loss: 0.7105159521102905, Acc: 0.7577665448188782\n",
      "Epoch 197, Train Loss: 0.6394936329201807, Valid Loss: 0.7085672289133071, Acc: 0.7581341862678528\n",
      "Epoch 198, Train Loss: 0.6406598996512497, Valid Loss: 0.7106005907058716, Acc: 0.7572840452194214\n",
      "Epoch 199, Train Loss: 0.6361446493788611, Valid Loss: 0.7094772160053253, Acc: 0.75927734375\n"
     ]
    },
    {
     "data": {
      "image/png": "[encoded data removed]",
      "text/plain": [
       "<Figure size 1000x500 with 1 Axes>"
      ]
     },
     "metadata": {},
     "output_type": "display_data"
    },
    {
     "name": "stderr",
     "output_type": "stream",
     "text": [
      "\u001b[34m\u001b[1mwandb\u001b[0m: \u001b[32m\u001b[41mERROR\u001b[0m The nbformat package was not found. It is required to save notebook history.\n"
     ]
    },
    {
     "data": {
      "text/html": [],
      "text/plain": [
       "<IPython.core.display.HTML object>"
      ]
     },
     "metadata": {},
     "output_type": "display_data"
    },
    {
     "data": {
      "text/html": [
       "<br>    <style><br>        .wandb-row {<br>            display: flex;<br>            flex-direction: row;<br>            flex-wrap: wrap;<br>            justify-content: flex-start;<br>            width: 100%;<br>        }<br>        .wandb-col {<br>            display: flex;<br>            flex-direction: column;<br>            flex-basis: 100%;<br>            flex: 1;<br>            padding: 10px;<br>        }<br>    </style><br><div class=\"wandb-row\"><div class=\"wandb-col\"><h3>Run history:</h3><br/><table class=\"wandb\"><tr><td>epoch</td><td>▁▁▁▂▂▂▂▂▂▂▃▃▃▃▄▄▄▄▅▅▅▅▅▆▆▆▆▆▆▆▇▇▇▇▇▇▇███</td></tr><tr><td>learning_rate</td><td>█████▇▇▇▇▇▇▇▆▆▆▆▅▅▄▄▄▄▄▄▄▃▃▂▂▂▂▂▂▂▂▁▁▁▁▁</td></tr><tr><td>train_loss</td><td>█▆▅▅▄▄▄▃▃▃▃▂▂▂▂▂▂▂▂▂▂▂▂▁▁▁▁▁▁▁▁▁▁▁▁▁▁▁▁▁</td></tr><tr><td>valid_accuracy</td><td>▁▂▄▄▅▆▆▇▇▇▇▇▇▇▇▇▇███████████████████████</td></tr><tr><td>valid_loss</td><td>█▇▇▅▅▄▄▄▃▃▃▃▂▂▂▂▂▂▂▂▂▂▁▂▁▂▁▁▁▁▁▁▁▁▁▁▁▁▁▁</td></tr></table><br/></div><div class=\"wandb-col\"><h3>Run summary:</h3><br/><table class=\"wandb\"><tr><td>epoch</td><td>199</td></tr><tr><td>learning_rate</td><td>0.0</td></tr><tr><td>train_loss</td><td>0.63614</td></tr><tr><td>valid_accuracy</td><td>0.75928</td></tr><tr><td>valid_loss</td><td>0.70948</td></tr></table><br/></div></div>"
      ],
      "text/plain": [
       "<IPython.core.display.HTML object>"
      ]
     },
     "metadata": {},
     "output_type": "display_data"
    },
    {
     "data": {
      "text/html": [
       " View run <strong style=\"color:#cdcd00\">amber-valley-3</strong> at: <a href='https://wandb.ai/wayve-ai/aryaman_wandb_setup/runs/ymkorcwm' target=\"_blank\">https://wandb.ai/wayve-ai/aryaman_wandb_setup/runs/ymkorcwm</a><br> View project at: <a href='https://wandb.ai/wayve-ai/aryaman_wandb_setup' target=\"_blank\">https://wandb.ai/wayve-ai/aryaman_wandb_setup</a><br>Synced 5 W&B file(s), 0 media file(s), 0 artifact file(s) and 0 other file(s)"
      ],
      "text/plain": [
       "<IPython.core.display.HTML object>"
      ]
     },
     "metadata": {},
     "output_type": "display_data"
    },
    {
     "data": {
      "text/html": [
       "Find logs at: <code>./wandb/run-20250723_011702-ymkorcwm/logs</code>"
      ],
      "text/plain": [
       "<IPython.core.display.HTML object>"
      ]
     },
     "metadata": {},
     "output_type": "display_data"
    }
   ],
   "source": [
    "epochs = 200\n",
    "batch_size = 512\n",
    "optim = torch.optim.AdamW(model.parameters(), lr=3e-4, weight_decay=0.1)\n",
    "scheduler = torch.optim.lr_scheduler.CosineAnnealingLR(\n",
    "    optim, T_max=epochs\n",
    ")\n",
    "loss_fn = nn.CrossEntropyLoss()\n",
    "\n",
    "wandb.init(\n",
    "    project=\"aryaman_wandb_setup\", # Project name\n",
    "    config={\n",
    "        \"learning_rate\": 1e-4,\n",
    "        \"architecture\": \"ViT\",\n",
    "        \"dataset\": \"CIFAR-10\",\n",
    "        \"epochs\": epochs,\n",
    "        \"batch_size\": batch_size,\n",
    "        \"d_model\": model.d_model,\n",
    "        \"d_mlp\": d_mlp, # You can get this from your model def\n",
    "        \"num_encoder_layers\": num_encoder_layers, # You can get this from your model def\n",
    "        \"patch_size\": model.patch_size,\n",
    "        \"dropout\": dropout, # You can get this from your model def\n",
    "        \"optimizer\": \"AdamW\",\n",
    "        \"weight_decay\": 0.1,\n",
    "        \"lr_scheduler\": \"ExponentialLR\",\n",
    "        \"gamma\": 0.9\n",
    "    }\n",
    ")\n",
    "\n",
    "wandb.watch(model, log='all', log_freq=100)\n",
    "\n",
    "train_dl = DataLoader(train_ds, batch_size=batch_size, shuffle=True)\n",
    "valid_dl = DataLoader(valid_ds, batch_size=batch_size, shuffle=True)\n",
    "\n",
    "train_model(model, optim, loss_fn, train_dl, valid_dl, scheduler=scheduler, epochs=epochs, valid_every=1)\n",
    "\n",
    "wandb.finish()"
   ]
  },
  {
   "cell_type": "markdown",
   "metadata": {},
   "source": [
    "Things that have helped classification accuracy:\n",
    "- higher dropout p, reduces overfitting \n",
    "- more aggressive dropout strategy: per layer in the MLP, also reduces early overfitting and helps lower val loss \n",
    "- lowering patch size from 16 -> 8 -> 4 -> 2 all showed some improvement in accuracy and validation loss, albeit training speed reduces with each patch size drop\n",
    "- Increasing transformer depth and num heads. Going from num_heads = 4 and encoder_depth = 3 to num_heads = 8, encoder_depth = 6 leads to good results"
   ]
  },
  {
   "cell_type": "markdown",
   "metadata": {},
   "source": []
  }
 ],
 "metadata": {
  "kernelspec": {
   "display_name": ".venv",
   "language": "python",
   "name": "python3"
  },
  "language_info": {
   "codemirror_mode": {
    "name": "ipython",
    "version": 3
   },
   "file_extension": ".py",
   "mimetype": "text/x-python",
   "name": "python",
   "nbconvert_exporter": "python",
   "pygments_lexer": "ipython3",
   "version": "3.10.18"
  }
 },
 "nbformat": 4,
 "nbformat_minor": 2
}

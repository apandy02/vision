{
 "cells": [
  {
   "cell_type": "markdown",
   "metadata": {},
   "source": [
    "# Vision Transformers (ViT)\n",
    "\n",
    "Based on \"An Image is Worth 16x16 Words: Transformers for Image Recognition at Scale\", Dosovitskiy et. al."
   ]
  },
  {
   "cell_type": "code",
   "execution_count": 1,
   "metadata": {},
   "outputs": [],
   "source": [
    "from vision.attention2D import Attention\n",
    "import torch\n",
    "\n",
    "import pickle\n",
    "import numpy as np\n",
    "\n",
    "from torch.utils.data import Dataset, DataLoader\n",
    "import torch.nn as nn "
   ]
  },
  {
   "cell_type": "code",
   "execution_count": 2,
   "metadata": {},
   "outputs": [],
   "source": [
    "device = torch.device(\"mps\")"
   ]
  },
  {
   "cell_type": "code",
   "execution_count": 3,
   "metadata": {},
   "outputs": [],
   "source": [
    "# data boiler plate\n",
    "\n",
    "all_batches_data = []\n",
    "all_batches_labels = []\n",
    "\n",
    "for i in range(1, 6):\n",
    "    with open(f'generative/autoencoders/data/cifar-10-batches-py/data_batch_{i}', 'rb') as f:\n",
    "        dataset_dict = pickle.load(f, encoding='bytes')\n",
    "        all_batches_data.append(dataset_dict[b'data'])\n",
    "        all_batches_labels.append(dataset_dict[b'labels'])\n",
    "\n",
    "stacked_data = np.vstack(all_batches_data)\n",
    "stacked_labels = np.hstack(all_batches_labels)\n",
    "data = torch.tensor(stacked_data, dtype=torch.float32).view(-1, 3, 32, 32).to(device) / 255.\n",
    "labels = torch.tensor(stacked_labels, dtype=torch.long).to(device)\n",
    "\n",
    "split_idx = int(0.8 * len(data))\n",
    "\n",
    "x_train, x_valid = data[:split_idx], data[split_idx:]\n",
    "y_train, y_valid = labels[:split_idx], labels[split_idx:]\n",
    "\n",
    "class CIFARCustomDataset(Dataset):\n",
    "    def __init__(self, x, y):\n",
    "        self.x = x\n",
    "        self.y = y\n",
    "\n",
    "    def __len__(self):\n",
    "        return len(self.x)\n",
    "\n",
    "    def __getitem__(self, idx):\n",
    "        return self.x[idx], self.y[idx]\n",
    "\n",
    "train_ds = CIFARCustomDataset(x_train, y_train)\n",
    "valid_ds = CIFARCustomDataset(x_valid, y_valid)\n",
    "\n",
    "train_dl = DataLoader(train_ds, batch_size=32, shuffle=True)\n",
    "valid_dl = DataLoader(valid_ds, batch_size=32, shuffle=True)"
   ]
  },
  {
   "cell_type": "markdown",
   "metadata": {},
   "source": [
    "## Creating image patches \n",
    "\n",
    "This function is at the heart of the ViT, transforming images to patches of images that can be treated as tokens in a sequence"
   ]
  },
  {
   "cell_type": "code",
   "execution_count": null,
   "metadata": {},
   "outputs": [
    {
     "name": "stdout",
     "output_type": "stream",
     "text": [
      "torch.Size([40000, 3, 32, 32])\n",
      "reshaped: torch.Size([40000, 3, 4, 8, 4, 8])\n",
      "permuted: torch.Size([40000, 4, 4, 3, 8, 8])\n"
     ]
    },
    {
     "data": {
      "text/plain": [
       "torch.Size([40000, 16, 192])"
      ]
     },
     "execution_count": 34,
     "metadata": {},
     "output_type": "execute_result"
    }
   ],
   "source": [
    "def patchify(x: torch.Tensor, patch_size: int):\n",
    "    print(x.shape)\n",
    "    batch_size, channels, width, height = x.shape\n",
    "    x = x.reshape(batch_size, channels, width // patch_size, patch_size, height // patch_size, patch_size)  # reshape into patches: b, c, w, h -> b, c, num_horizontal, patch_w, num_vertical, patch_h\n",
    "    print(f\"reshaped: {x.shape}\")\n",
    "    x = x.permute(0, 2, 4, 1, 3, 5)  # permute, b, c, num_horizontal, patch_w, num_vertical, patch_h -> b, num_horizontal, num_vertical, channels, patch_w, patch_h\n",
    "    print(f\"permuted: {x.shape}\")\n",
    "    return x.reshape(batch_size, -1, channels * patch_size * patch_size)  # flatten the patches\n",
    "\n",
    "x_train = patchify(x_train, 8)\n",
    "x_train.shape"
   ]
  },
  {
   "cell_type": "markdown",
   "metadata": {},
   "source": [
    "## Transformer related modules"
   ]
  },
  {
   "cell_type": "code",
   "execution_count": 4,
   "metadata": {},
   "outputs": [],
   "source": [
    "class MLP(nn.Module): \n",
    "    \"\"\"\n",
    "    Class implementation of a position wise MLP\n",
    "    \"\"\"\n",
    "    def __init__(self, d_model: int, d_ff: int, dropout: float, num_layers: int = 2) -> None:\n",
    "        super(MLP, self).__init__()\n",
    "        \n",
    "        layers = []\n",
    "        layers.append(nn.Linear(d_model, d_ff, bias=True))\n",
    "        for i in range(1, num_layers - 1):\n",
    "            layers.append(nn.Linear(d_ff, d_ff, bias=True))\n",
    "            layers.append(nn.ReLU())\n",
    "        \n",
    "        layers.append(nn.Linear(d_ff, d_model, bias=True))\n",
    "        self.mlp_layers = nn.Sequential(*layers)\n",
    "        \n",
    "        self.layer_norm = nn.LayerNorm(d_model)\n",
    "        self.dropout = nn.Dropout(dropout)\n",
    "\n",
    "    def forward(self, x: torch.Tensor) -> torch.Tensor:\n",
    "        residual = x\n",
    "        x = self.mlp_layers(self.layer_norm(x))\n",
    "        return self.dropout(x) + residual\n",
    "\n",
    "\n",
    "class EncoderLayer(nn.Module):\n",
    "    \"\"\"\n",
    "    Encoder layer block for ViT\n",
    "    \"\"\"\n",
    "    def __init__(\n",
    "        self, \n",
    "        num_heads: int,\n",
    "        num_channels: int,\n",
    "        d_linear: int,\n",
    "        num_linear_layers: int = 2,\n",
    "        num_groups: int = 8,\n",
    "        dropout: float = 0.1,\n",
    "        is_masked: bool = False\n",
    "    ):\n",
    "        super(EncoderLayer, self).__init__()\n",
    "        self.norm1, self.norm2 = nn.LayerNorm(num_channels),  nn.LayerNorm(num_channels)\n",
    "        self.mha = Attention(dropout, num_heads, num_channels, num_groups)\n",
    "        self.mlp = MLP(num_channels, d_linear, dropout, num_linear_layers)\n",
    "\n",
    "    def forward(self, x: torch.Tensor) -> torch.Tensor:\n",
    "        h = self.mha(self.norm1(x)) + x \n",
    "        return self.mlp(self.norm2(h)) + h\n",
    "\n",
    "\n",
    "class Encoder(nn.Module):\n",
    "    def __init__(\n",
    "        self, \n",
    "        num_heads: int,\n",
    "        num_channels: int,\n",
    "        num_layers: int,\n",
    "        d_linear: int,\n",
    "        num_linear_layers: int = 2,\n",
    "        num_groups: int = 8,\n",
    "        dropout: float = 0.1,\n",
    "        is_masked: bool = False\n",
    "    ):\n",
    "        super(Encoder, self).__init__()\n",
    "        self.layers = [EncoderLayer(\n",
    "            num_heads, num_channels, d_linear, num_linear_layers, num_groups, dropout, is_masked\n",
    "        ) for _ in range(num_layers)]\n",
    "    \n",
    "    def forward(self, x: torch.Tensor) -> torch.Tensor:\n",
    "        for layer in self.layers:\n",
    "            layer = layer.to(x.device)\n",
    "            x = layer(x)\n",
    "        return x "
   ]
  },
  {
   "cell_type": "code",
   "execution_count": null,
   "metadata": {},
   "outputs": [],
   "source": [
    "def positional_embedding(input_tensor: torch.Tensor, output_dim: int, n=10000):\n",
    "    \"\"\"\n",
    "    Naive sin/cosin positional embedding\n",
    "    \"\"\"\n",
    "    p = torch.zeros((input_tensor.shape[-1], output_dim))\n",
    "    indices = torch.arange(input_tensor.size(-1))\n",
    "    i_values = torch.arange(int(output_dim/2))\n",
    "    denominators = torch.float_power(n, 2*i_values/output_dim)\n",
    "    p[:, 0::2] = torch.sin(indices.unsqueeze(1) / denominators.unsqueeze(0))\n",
    "    p[:, 1::2] = torch.cos(indices.unsqueeze(1) / denominators.unsqueeze(0))\n",
    "    return p\n",
    "\n",
    "\n",
    "class MLPClassicationHead(nn.Module):\n",
    "    \"\"\"\n",
    "    Class implementation of a position wise MLP\n",
    "    \"\"\"\n",
    "    def __init__(\n",
    "        self,\n",
    "        num_classes: int,\n",
    "        num_channels:int,\n",
    "        d_ff: int,\n",
    "        dropout: float,\n",
    "        num_layers: int = 2\n",
    "    ) -> None:\n",
    "        super(MLPClassicationHead, self).__init__()\n",
    "\n",
    "        layers = []\n",
    "        layers.append(nn.Linear(num_channels, d_ff, bias=True))\n",
    "        for i in range(1, num_layers - 1):\n",
    "            layers.append(nn.Linear(d_ff, d_ff, bias=True))\n",
    "            layers.append(nn.ReLU())\n",
    "        \n",
    "        layers.append(nn.Linear(d_ff, num_classes, bias=True))\n",
    "        self.mlp_layers = nn.Sequential(*layers)\n",
    "        self.dropout = nn.Dropout(dropout)\n",
    "\n",
    "    def forward(self, x: torch.Tensor) -> torch.Tensor:\n",
    "        return self.mlp_layers(self.layer_norm(x))"
   ]
  },
  {
   "cell_type": "markdown",
   "metadata": {},
   "source": [
    "## Putting it all together "
   ]
  },
  {
   "cell_type": "code",
   "execution_count": null,
   "metadata": {},
   "outputs": [],
   "source": [
    "class ViT(nn.Module):\n",
    "    \"\"\"\n",
    "    Vision Transformer.\n",
    "    \"\"\"\n",
    "    def __init__(\n",
    "        self,\n",
    "        num_classes,\n",
    "        num_heads: int,\n",
    "        d_model: int,\n",
    "        d_mlp: int,\n",
    "        patch_size: int = 16,\n",
    "        num_encoder_layers: int = 2,\n",
    "        encoder_mlp_depth: int = 2,\n",
    "        classification_mlp_depth: int = 2,\n",
    "        num_groups: int = 8,\n",
    "        dropout: float = 0.1,\n",
    "    ):\n",
    "        self.d_model = d_model\n",
    "\n",
    "        self.linear = nn.Linear() # figure out dimensionality \n",
    "        self.encoder = Encoder(\n",
    "            num_heads, d_model, num_encoder_layers, d_mlp, encoder_mlp_depth, num_groups, dropout\n",
    "        )\n",
    "        self.classification_head = MLPClassicationHead(num_classes, d_model, classification_mlp_depth, dropout) # d_ff and depth are different things\n",
    " \n",
    "    \n",
    "    def _patchify(self, x: torch.Tensor) -> torch.Tensor:\n",
    "        batch_size, channels, width, height = x.shape\n",
    "        x = x.reshape(\n",
    "            batch_size,\n",
    "            channels,\n",
    "            width // self.patch_size,\n",
    "            self.patch_size,\n",
    "            height // self.patch_size,\n",
    "            self.patch_size\n",
    "        )\n",
    "        x = x.permute(0, 2, 4, 1, 3, 5)\n",
    "        return x.reshape(batch_size, -1, channels * self.patch_size * self.patch_size)\n",
    "    \n",
    "    def _positional_embedding(self, x: torch.Tensor, n=10000) -> torch.Tensor:\n",
    "        \"\"\"\n",
    "        Naive sin/cosin positional embedding\n",
    "        \"\"\"\n",
    "        p = torch.zeros((x.shape[-1], self.d_model))\n",
    "        indices = torch.arange(x.size(-1))\n",
    "        i_values = torch.arange(int(self.d_model/2))\n",
    "        denominators = torch.float_power(n, 2*i_values/self.d_model)\n",
    "        p[:, 0::2] = torch.sin(indices.unsqueeze(1) / denominators.unsqueeze(0))\n",
    "        p[:, 1::2] = torch.cos(indices.unsqueeze(1) / denominators.unsqueeze(0))\n",
    "        return p"
   ]
  },
  {
   "cell_type": "code",
   "execution_count": null,
   "metadata": {},
   "outputs": [],
   "source": []
  }
 ],
 "metadata": {
  "kernelspec": {
   "display_name": ".venv",
   "language": "python",
   "name": "python3"
  },
  "language_info": {
   "codemirror_mode": {
    "name": "ipython",
    "version": 3
   },
   "file_extension": ".py",
   "mimetype": "text/x-python",
   "name": "python",
   "nbconvert_exporter": "python",
   "pygments_lexer": "ipython3",
   "version": "3.10.18"
  }
 },
 "nbformat": 4,
 "nbformat_minor": 2
}

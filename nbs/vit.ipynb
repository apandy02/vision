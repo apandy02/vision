{
 "cells": [
  {
   "cell_type": "markdown",
   "metadata": {},
   "source": [
    "# Vision Transformers (ViT)\n",
    "\n",
    "Based on \"An Image is Worth 16x16 Words: Transformers for Image Recognition at Scale\", Dosovitskiy et. al."
   ]
  },
  {
   "cell_type": "code",
   "execution_count": 4,
   "metadata": {},
   "outputs": [],
   "source": [
    "from vision.attention2D import Attention\n",
    "import torch\n",
    "\n",
    "import pickle\n",
    "import numpy as np\n",
    "\n",
    "from torch.utils.data import Dataset, DataLoader\n",
    "import torch.nn as nn \n",
    "\n",
    "import matplotlib.pyplot as plt\n",
    "\n",
    "from torchvision import transforms"
   ]
  },
  {
   "cell_type": "code",
   "execution_count": 5,
   "metadata": {},
   "outputs": [],
   "source": [
    "device = torch.device(\"mps\" if torch.backends.mps.is_available() else (\"cuda\" if torch.cuda.is_available() else \"cpu\"))"
   ]
  },
  {
   "cell_type": "code",
   "execution_count": 6,
   "metadata": {},
   "outputs": [],
   "source": [
    "# data boiler plate\n",
    "\n",
    "all_batches_data = []\n",
    "all_batches_labels = []\n",
    "\n",
    "for i in range(1, 6):\n",
    "    with open(f'generative/autoencoders/data/cifar-10-batches-py/data_batch_{i}', 'rb') as f:\n",
    "        dataset_dict = pickle.load(f, encoding='bytes')\n",
    "        all_batches_data.append(dataset_dict[b'data'])\n",
    "        all_batches_labels.append(dataset_dict[b'labels'])\n",
    "\n",
    "stacked_data = np.vstack(all_batches_data)\n",
    "stacked_labels = np.hstack(all_batches_labels)\n",
    "data = torch.tensor(stacked_data, dtype=torch.float32).view(-1, 3, 32, 32).to(device) / 255.\n",
    "labels = torch.tensor(stacked_labels, dtype=torch.long).to(device)\n",
    "\n",
    "split_idx = int(0.8 * len(data))\n",
    "\n",
    "x_train, x_valid = data[:split_idx], data[split_idx:]\n",
    "y_train, y_valid = labels[:split_idx], labels[split_idx:]\n",
    "\n",
    "class CIFARCustomDataset(Dataset):\n",
    "    def __init__(self, x, y):\n",
    "        self.x = x\n",
    "        self.y = y\n",
    "\n",
    "    def __len__(self):\n",
    "        return len(self.x)\n",
    "\n",
    "    def __getitem__(self, idx):\n",
    "        return self.x[idx], self.y[idx]\n",
    "\n",
    "\n",
    "transform_train = transforms.Compose([\n",
    "    transforms.Normalize((0.4914, 0.4822, 0.4465), (0.2023, 0.1994, 0.2010))  # CIFAR-10 stats\n",
    "])\n",
    "\n",
    "transform_val = transforms.Compose([\n",
    "    transforms.Normalize((0.4914, 0.4822, 0.4465), (0.2023, 0.1994, 0.2010))\n",
    "])\n",
    "\n",
    "train_ds = CIFARCustomDataset(transform_train(x_train), y_train)\n",
    "valid_ds = CIFARCustomDataset(transform_val(x_valid), y_valid)"
   ]
  },
  {
   "cell_type": "markdown",
   "metadata": {},
   "source": [
    "## Creating image patches \n",
    "\n",
    "This function is at the heart of the ViT, transforming images to patches of images that can be treated as tokens in a sequence"
   ]
  },
  {
   "cell_type": "code",
   "execution_count": null,
   "metadata": {},
   "outputs": [
    {
     "name": "stdout",
     "output_type": "stream",
     "text": [
      "torch.Size([40000, 3, 32, 32])\n",
      "reshaped: torch.Size([40000, 3, 2, 16, 2, 16])\n",
      "permuted: torch.Size([40000, 2, 2, 3, 16, 16])\n"
     ]
    },
    {
     "data": {
      "text/plain": [
       "torch.Size([40000, 4, 768])"
      ]
     },
     "execution_count": 5,
     "metadata": {},
     "output_type": "execute_result"
    },
    {
     "ename": "",
     "evalue": "",
     "output_type": "error",
     "traceback": [
      "\u001b[1;31mnotebook controller is DISPOSED. \n",
      "\u001b[1;31mView Jupyter <a href='command:jupyter.viewOutput'>log</a> for further details."
     ]
    },
    {
     "ename": "",
     "evalue": "",
     "output_type": "error",
     "traceback": [
      "\u001b[1;31mnotebook controller is DISPOSED. \n",
      "\u001b[1;31mView Jupyter <a href='command:jupyter.viewOutput'>log</a> for further details."
     ]
    },
    {
     "ename": "",
     "evalue": "",
     "output_type": "error",
     "traceback": [
      "\u001b[1;31mnotebook controller is DISPOSED. \n",
      "\u001b[1;31mView Jupyter <a href='command:jupyter.viewOutput'>log</a> for further details."
     ]
    },
    {
     "ename": "",
     "evalue": "",
     "output_type": "error",
     "traceback": [
      "\u001b[1;31mnotebook controller is DISPOSED. \n",
      "\u001b[1;31mView Jupyter <a href='command:jupyter.viewOutput'>log</a> for further details."
     ]
    },
    {
     "ename": "",
     "evalue": "",
     "output_type": "error",
     "traceback": [
      "\u001b[1;31mnotebook controller is DISPOSED. \n",
      "\u001b[1;31mView Jupyter <a href='command:jupyter.viewOutput'>log</a> for further details."
     ]
    },
    {
     "ename": "",
     "evalue": "",
     "output_type": "error",
     "traceback": [
      "\u001b[1;31mnotebook controller is DISPOSED. \n",
      "\u001b[1;31mView Jupyter <a href='command:jupyter.viewOutput'>log</a> for further details."
     ]
    }
   ],
   "source": [
    "def patchify(x: torch.Tensor, patch_size: int):\n",
    "    print(x.shape)\n",
    "    batch_size, channels, width, height = x.shape\n",
    "    x = x.reshape(batch_size, channels, width // patch_size, patch_size, height // patch_size, patch_size)  # reshape into patches: b, c, w, h -> b, c, num_horizontal, patch_w, num_vertical, patch_h\n",
    "    print(f\"reshaped: {x.shape}\")\n",
    "    x = x.permute(0, 2, 4, 1, 3, 5)  # permute, b, c, num_horizontal, patch_w, num_vertical, patch_h -> b, num_horizontal, num_vertical, channels, patch_w, patch_h\n",
    "    print(f\"permuted: {x.shape}\")\n",
    "    return x.reshape(batch_size, -1, channels * patch_size * patch_size)  # flatten the patches\n",
    "\n",
    "x_train_2 = patchify(x_train, 16)\n",
    "x_train_2.shape"
   ]
  },
  {
   "cell_type": "markdown",
   "metadata": {},
   "source": [
    "## Transformer related modules"
   ]
  },
  {
   "cell_type": "code",
   "execution_count": 7,
   "metadata": {},
   "outputs": [],
   "source": [
    "class MLP(nn.Module): \n",
    "    \"\"\"\n",
    "    Class implementation of a position wise MLP\n",
    "    \"\"\"\n",
    "    def __init__(self, d_model: int, d_ff: int, dropout: float, num_layers: int = 2) -> None:\n",
    "        super(MLP, self).__init__()\n",
    "        \n",
    "        layers = [nn.Linear(d_model, d_ff), nn.GELU(), nn.Dropout(dropout)]\n",
    "        \n",
    "        for i in range(1, num_layers - 1):\n",
    "            layers.append(nn.Linear(d_ff, d_ff, bias=True))\n",
    "            layers.append(nn.GELU())\n",
    "            layers.append(nn.Dropout(dropout))\n",
    "        \n",
    "        layers.append(nn.Linear(d_ff, d_model, bias=True))\n",
    "        self.mlp_layers = nn.Sequential(*layers)\n",
    "        \n",
    "        self.layer_norm = nn.LayerNorm(d_model)\n",
    "        self.dropout = nn.Dropout(dropout)\n",
    "\n",
    "    def forward(self, x: torch.Tensor) -> torch.Tensor:\n",
    "        residual = x\n",
    "        return self.mlp_layers(self.layer_norm(x)) + residual\n",
    "\n",
    "\n",
    "class EncoderLayer(nn.Module):\n",
    "    \"\"\"\n",
    "    Encoder layer block for ViT\n",
    "    \"\"\"\n",
    "    def __init__(\n",
    "        self, \n",
    "        num_heads: int,\n",
    "        num_channels: int,\n",
    "        d_linear: int,\n",
    "        num_linear_layers: int = 2,\n",
    "        num_groups: int = 8,\n",
    "        dropout: float = 0.1,\n",
    "        is_masked: bool = False\n",
    "    ):\n",
    "        super(EncoderLayer, self).__init__()\n",
    "        self.norm1, self.norm2 = nn.LayerNorm(num_channels),  nn.LayerNorm(num_channels)\n",
    "        self.mha = Attention(dropout, num_heads, num_channels, num_groups)\n",
    "        self.mlp = MLP(num_channels, d_linear, dropout, num_linear_layers)\n",
    "\n",
    "    def forward(self, x: torch.Tensor) -> torch.Tensor:\n",
    "        h = self.mha(self.norm1(x))\n",
    "        return self.mlp(self.norm2(h)) + h\n",
    "\n",
    "\n",
    "class Encoder(nn.Module):\n",
    "    def __init__(\n",
    "        self, \n",
    "        num_heads: int,\n",
    "        num_channels: int,\n",
    "        num_layers: int,\n",
    "        d_linear: int,\n",
    "        num_linear_layers: int = 2,\n",
    "        num_groups: int = 8,\n",
    "        dropout: float = 0.1,\n",
    "        is_masked: bool = False\n",
    "    ):\n",
    "        super(Encoder, self).__init__()\n",
    "        self.layers = nn.ModuleList([\n",
    "            EncoderLayer(\n",
    "                num_heads, num_channels, d_linear, num_linear_layers, num_groups, dropout, is_masked\n",
    "            ) for _ in range(num_layers)\n",
    "        ])\n",
    "    def forward(self, x: torch.Tensor) -> torch.Tensor:\n",
    "        for layer in self.layers:\n",
    "            x = layer(x)\n",
    "        return x "
   ]
  },
  {
   "cell_type": "code",
   "execution_count": 8,
   "metadata": {},
   "outputs": [],
   "source": [
    "def positional_embedding(input_tensor: torch.Tensor, output_dim: int, n=10000):\n",
    "    \"\"\"\n",
    "    Naive sin/cosin positional embedding\n",
    "    \"\"\"\n",
    "    p = torch.zeros((input_tensor.shape[-1], output_dim))\n",
    "    indices = torch.arange(input_tensor.size(-1))\n",
    "    i_values = torch.arange(int(output_dim/2))\n",
    "    denominators = torch.float_power(n, 2*i_values/output_dim)\n",
    "    p[:, 0::2] = torch.sin(indices.unsqueeze(1) / denominators.unsqueeze(0))\n",
    "    p[:, 1::2] = torch.cos(indices.unsqueeze(1) / denominators.unsqueeze(0))\n",
    "    return p\n",
    "\n",
    "\n",
    "class MLPClassicationHead(nn.Module):\n",
    "    \"\"\"\n",
    "    Class implementation of a position wise MLP\n",
    "    \"\"\"\n",
    "    def __init__(\n",
    "        self,\n",
    "        num_classes: int,\n",
    "        num_channels:int,\n",
    "        d_ff: int,\n",
    "        num_layers: int = 2,\n",
    "        dropout: float = 0.1,\n",
    "    ) -> None:\n",
    "        super(MLPClassicationHead, self).__init__()\n",
    "\n",
    "        layers = []\n",
    "        layers.append(nn.Linear(num_channels, d_ff, bias=True))\n",
    "        for i in range(1, num_layers - 1):\n",
    "            layers.append(nn.Linear(d_ff, d_ff, bias=True))\n",
    "            layers.append(nn.ReLU())\n",
    "        \n",
    "        layers.append(nn.Linear(d_ff, num_classes, bias=True))\n",
    "        self.mlp_layers = nn.Sequential(*layers)\n",
    "\n",
    "    def forward(self, x: torch.Tensor) -> torch.Tensor:\n",
    "        return self.mlp_layers(x)"
   ]
  },
  {
   "cell_type": "markdown",
   "metadata": {},
   "source": [
    "## Putting it all together \n",
    "\n",
    "Whether autoregressive or bert style, transformers natively perform token prediction. The novelty in the design of the ViT is that it treats the classification task as a token prediction problem. We prepend a learnable [cls-token] (much like bert-style classifiers) that is tasked with storing representations that best enable classification (built via attention over all tokens in the context). This cls-token is the only thing fed to the classification head. So, via backprop, its objective is to provide the MLP with the best representation it can to lower classification loss. "
   ]
  },
  {
   "cell_type": "code",
   "execution_count": 9,
   "metadata": {},
   "outputs": [],
   "source": [
    "class ViT(nn.Module):\n",
    "    \"\"\"\n",
    "    Vision Transformer.\n",
    "    \"\"\"\n",
    "    def __init__(\n",
    "        self,\n",
    "        num_classes,\n",
    "        num_heads: int,\n",
    "        d_model: int,\n",
    "        d_mlp: int,\n",
    "        patch_size: int = 16,\n",
    "        image_size: tuple[int] = 32,\n",
    "        num_encoder_layers: int = 2,\n",
    "        encoder_mlp_depth: int = 2,\n",
    "        classification_mlp_depth: int = 2,\n",
    "        num_groups: int = 8,\n",
    "        dropout: float = 0.1,\n",
    "    ):\n",
    "        super(ViT, self).__init__()\n",
    "        self.d_model, self.patch_size, self.image_size = d_model, patch_size, image_size\n",
    "        self.n_patches = (image_size // patch_size) ** 2  # assumes square image \n",
    "        self.linear = nn.Linear((3*patch_size*patch_size), d_model)  # assumes rgb image \n",
    "        self.encoder = Encoder(\n",
    "            num_heads, d_model, num_encoder_layers, d_mlp, encoder_mlp_depth, num_groups, dropout\n",
    "        )\n",
    "\n",
    "        self.cls_token = nn.Parameter(torch.zeros(1, 1, d_model))  # assumes rgb image \n",
    "        self.classification_head = MLPClassicationHead(num_classes, d_model, d_mlp, classification_mlp_depth, dropout) # d_ff and depth are different things\n",
    "    \n",
    "    def forward(self, x: torch.Tensor) -> torch.Tensor:\n",
    "        \"\"\"\n",
    "        forward pass for our vit classifier. takes in raw images and outputs a probability distribution over classes\n",
    "        \"\"\"\n",
    "        batch_size = x.shape[0]\n",
    "        x = self.linear(self._patchify(x))\n",
    "        cls = self.cls_token.expand(batch_size, -1, -1)\n",
    "        x = torch.cat((cls, x), 1)\n",
    "        x += self._positional_embedding(x).to(device)\n",
    "        x = self.encoder(x)\n",
    "        return self.classification_head(x[:,0,:])\n",
    "    \n",
    "    def _patchify(self, x: torch.Tensor) -> torch.Tensor:\n",
    "        batch_size, channels, width, height = x.shape\n",
    "        n_patch_side = self.image_size // self.patch_size\n",
    "        x = x.reshape(\n",
    "            batch_size,\n",
    "            channels,\n",
    "            n_patch_side,\n",
    "            self.patch_size,\n",
    "            n_patch_side,\n",
    "            self.patch_size\n",
    "        )\n",
    "        x = x.permute(0, 2, 4, 1, 3, 5)\n",
    "        return x.reshape(batch_size, -1, channels * self.patch_size * self.patch_size)\n",
    "        \n",
    "    def _positional_embedding(self, x: torch.Tensor, n=10000) -> torch.Tensor:\n",
    "        \"\"\"\n",
    "        Naive sin/cosin positional embedding\n",
    "        \"\"\"\n",
    "        p = torch.zeros((x.shape[1], self.d_model))\n",
    "        indices = torch.arange(x.size(1))\n",
    "        i_values = torch.arange(int(self.d_model/2))\n",
    "        denominators = torch.float_power(n, 2*i_values/self.d_model)\n",
    "        p[:, 0::2] = torch.sin(indices.unsqueeze(1) / denominators.unsqueeze(0))\n",
    "        p[:, 1::2] = torch.cos(indices.unsqueeze(1) / denominators.unsqueeze(0))\n",
    "        return p\n"
   ]
  },
  {
   "cell_type": "markdown",
   "metadata": {},
   "source": [
    "### training boiler plate "
   ]
  },
  {
   "cell_type": "code",
   "execution_count": 10,
   "metadata": {},
   "outputs": [],
   "source": [
    "def accuracy(y_pred, y):\n",
    "    return (y_pred.argmax(dim=1) == y).float().mean()\n",
    "\n",
    "def validate_model(model, valid_loader, loss_fn, all_valid_loss):\n",
    "    model.eval()\n",
    "    valid_loss = []\n",
    "    valid_acc = []\n",
    "    \n",
    "    with torch.no_grad():\n",
    "        for batch in valid_loader:\n",
    "            x, y = batch\n",
    "            y_pred = model(x)\n",
    "            loss = loss_fn(y_pred, y)\n",
    "            valid_loss.append(loss.item())\n",
    "            valid_acc.append(accuracy(y_pred, y))\n",
    "    \n",
    "    all_valid_loss.append(sum(valid_loss) / len(valid_loss))\n",
    "    \n",
    "    return sum(valid_acc) / len(valid_acc)\n",
    "\n",
    "def plot_loss(all_train_loss, all_valid_loss):\n",
    "    plt.figure(figsize=(10, 5))\n",
    "    plt.plot(all_train_loss, label='Training Loss')\n",
    "    plt.plot(all_valid_loss, label='Validation Loss')\n",
    "    plt.xlabel('Epoch')\n",
    "    plt.ylabel('Loss')\n",
    "    plt.legend()\n",
    "    plt.show()\n",
    "\n",
    "\n",
    "def train_model(\n",
    "    model: nn.Module,\n",
    "    optim: torch.optim.Optimizer,\n",
    "    loss_fn,\n",
    "    train_loader: DataLoader,\n",
    "    valid_loader: DataLoader,\n",
    "    scheduler=None,\n",
    "    epochs: int = 10,\n",
    "    batch_size: int = 32,\n",
    "    valid_every: int = 1\n",
    ") -> None:\n",
    "    \"\"\"2\n",
    "    Train a PyTorch model with validation.\n",
    "    \n",
    "    Args:\n",
    "        model: The neural network model to train\n",
    "        optim: The optimizer for training\n",
    "        loss_fn: The loss function\n",
    "        train_loader: DataLoader for training data\n",
    "        valid_loader: DataLoader for validation data\n",
    "        scheduler: Learning rate scheduler (optional)\n",
    "        epochs: Number of training epochs (default: 10)\n",
    "        batch_size: Batch size for training (default: 32)\n",
    "        valid_every: Validate every N epochs (default: 1)\n",
    "    \n",
    "    Returns:\n",
    "        None\n",
    "    \"\"\"\n",
    "    all_train_loss = []\n",
    "    all_valid_loss = []\n",
    "    \n",
    "    for epoch in range(epochs):\n",
    "        model.train()\n",
    "        train_loss = []\n",
    "        \n",
    "        for batch in train_loader:\n",
    "            x, y = batch\n",
    "            optim.zero_grad()\n",
    "            y_pred = model(x)\n",
    "            loss = loss_fn(y_pred, y)\n",
    "            loss.backward()\n",
    "            optim.step()\n",
    "            train_loss.append(loss.item())\n",
    "        \n",
    "        all_train_loss.append(sum(train_loss) / len(train_loss))\n",
    "        if scheduler is not None:\n",
    "            scheduler.step()\n",
    "        \n",
    "        if epoch % valid_every == 0:\n",
    "            valid_acc = validate_model(model, valid_loader, loss_fn, all_valid_loss)\n",
    "            print(\n",
    "                f\"Epoch {epoch}, Train Loss: {sum(train_loss) / len(train_loss)}, \"\n",
    "                f\"Valid Loss: {all_valid_loss[-1]}, \"\n",
    "                f\"Acc: {valid_acc}\"\n",
    "            )\n",
    "    \n",
    "    plot_loss(all_train_loss, all_valid_loss)"
   ]
  },
  {
   "cell_type": "code",
   "execution_count": null,
   "metadata": {},
   "outputs": [],
   "source": [
    "model = ViT(num_classes=10, num_heads=6, d_model=256, d_mlp=512, num_encoder_layers=5, patch_size=4, dropout=0.3).to(device)"
   ]
  },
  {
   "cell_type": "code",
   "execution_count": 15,
   "metadata": {},
   "outputs": [
    {
     "name": "stdout",
     "output_type": "stream",
     "text": [
      "Number of parameters in model: 9353738\n"
     ]
    }
   ],
   "source": [
    "num_params = sum(p.numel() for p in model.parameters())\n",
    "print(f\"Number of parameters in model: {num_params}\")\n"
   ]
  },
  {
   "cell_type": "code",
   "execution_count": 16,
   "metadata": {},
   "outputs": [
    {
     "name": "stdout",
     "output_type": "stream",
     "text": [
      "Epoch 0, Train Loss: 1.9369683734144265, Valid Loss: 1.7667550316339806, Acc: 0.36511075496673584\n",
      "Epoch 1, Train Loss: 1.6241386778438434, Valid Loss: 1.4761110378217093, Acc: 0.467464417219162\n",
      "Epoch 2, Train Loss: 1.4296101948704583, Valid Loss: 1.3508367485637907, Acc: 0.5088014602661133\n",
      "Epoch 3, Train Loss: 1.3268621691499656, Valid Loss: 1.2770379736453672, Acc: 0.5417326092720032\n",
      "Epoch 4, Train Loss: 1.2473141008291762, Valid Loss: 1.209426920625228, Acc: 0.5679391026496887\n",
      "Epoch 5, Train Loss: 1.195258707665026, Valid Loss: 1.1855365053007874, Acc: 0.5768393874168396\n",
      "Epoch 6, Train Loss: 1.1415671989940608, Valid Loss: 1.1508547354348098, Acc: 0.5928599834442139\n",
      "Epoch 7, Train Loss: 1.1100640757777058, Valid Loss: 1.142041360275655, Acc: 0.6017603278160095\n",
      "Epoch 8, Train Loss: 1.0746673804502518, Valid Loss: 1.0973464431641977, Acc: 0.6116495132446289\n",
      "Epoch 9, Train Loss: 1.0409742056752165, Valid Loss: 1.0742313295980044, Acc: 0.6204509735107422\n",
      "Epoch 10, Train Loss: 1.0137100495850315, Valid Loss: 1.0570774395254594, Acc: 0.6280657052993774\n",
      "Epoch 11, Train Loss: 0.9896776910407094, Valid Loss: 1.0532280010513113, Acc: 0.6338014602661133\n",
      "Epoch 12, Train Loss: 0.9734912480409152, Valid Loss: 1.0227834906759141, Acc: 0.6408228278160095\n",
      "Epoch 13, Train Loss: 0.9497599498913311, Valid Loss: 1.0139846432058117, Acc: 0.642998456954956\n",
      "Epoch 14, Train Loss: 0.9274448687657, Valid Loss: 1.0134075676338583, Acc: 0.6459652185440063\n",
      "Epoch 15, Train Loss: 0.914776388258218, Valid Loss: 1.0181953658031513, Acc: 0.6428995132446289\n"
     ]
    },
    {
     "ename": "KeyboardInterrupt",
     "evalue": "",
     "output_type": "error",
     "traceback": [
      "\u001b[0;31m---------------------------------------------------------------------------\u001b[0m",
      "\u001b[0;31mKeyboardInterrupt\u001b[0m                         Traceback (most recent call last)",
      "Cell \u001b[0;32mIn[16], line 12\u001b[0m\n\u001b[1;32m      9\u001b[0m train_dl \u001b[38;5;241m=\u001b[39m DataLoader(train_ds, batch_size\u001b[38;5;241m=\u001b[39mbatch_size, shuffle\u001b[38;5;241m=\u001b[39m\u001b[38;5;28;01mTrue\u001b[39;00m)\n\u001b[1;32m     10\u001b[0m valid_dl \u001b[38;5;241m=\u001b[39m DataLoader(valid_ds, batch_size\u001b[38;5;241m=\u001b[39mbatch_size, shuffle\u001b[38;5;241m=\u001b[39m\u001b[38;5;28;01mTrue\u001b[39;00m)\n\u001b[0;32m---> 12\u001b[0m \u001b[43mtrain_model\u001b[49m\u001b[43m(\u001b[49m\u001b[43mmodel\u001b[49m\u001b[43m,\u001b[49m\u001b[43m \u001b[49m\u001b[43moptim\u001b[49m\u001b[43m,\u001b[49m\u001b[43m \u001b[49m\u001b[43mloss_fn\u001b[49m\u001b[43m,\u001b[49m\u001b[43m \u001b[49m\u001b[43mtrain_dl\u001b[49m\u001b[43m,\u001b[49m\u001b[43m \u001b[49m\u001b[43mvalid_dl\u001b[49m\u001b[43m,\u001b[49m\u001b[43m \u001b[49m\u001b[43mscheduler\u001b[49m\u001b[38;5;241;43m=\u001b[39;49m\u001b[43mscheduler\u001b[49m\u001b[43m,\u001b[49m\u001b[43m \u001b[49m\u001b[43mepochs\u001b[49m\u001b[38;5;241;43m=\u001b[39;49m\u001b[43mepochs\u001b[49m\u001b[43m,\u001b[49m\u001b[43m \u001b[49m\u001b[43mvalid_every\u001b[49m\u001b[38;5;241;43m=\u001b[39;49m\u001b[38;5;241;43m1\u001b[39;49m\u001b[43m)\u001b[49m\n",
      "Cell \u001b[0;32mIn[10], line 73\u001b[0m, in \u001b[0;36mtrain_model\u001b[0;34m(model, optim, loss_fn, train_loader, valid_loader, scheduler, epochs, batch_size, valid_every)\u001b[0m\n\u001b[1;32m     71\u001b[0m     loss\u001b[38;5;241m.\u001b[39mbackward()\n\u001b[1;32m     72\u001b[0m     optim\u001b[38;5;241m.\u001b[39mstep()\n\u001b[0;32m---> 73\u001b[0m     train_loss\u001b[38;5;241m.\u001b[39mappend(\u001b[43mloss\u001b[49m\u001b[38;5;241;43m.\u001b[39;49m\u001b[43mitem\u001b[49m\u001b[43m(\u001b[49m\u001b[43m)\u001b[49m)\n\u001b[1;32m     75\u001b[0m all_train_loss\u001b[38;5;241m.\u001b[39mappend(\u001b[38;5;28msum\u001b[39m(train_loss) \u001b[38;5;241m/\u001b[39m \u001b[38;5;28mlen\u001b[39m(train_loss))\n\u001b[1;32m     76\u001b[0m \u001b[38;5;28;01mif\u001b[39;00m scheduler \u001b[38;5;129;01mis\u001b[39;00m \u001b[38;5;129;01mnot\u001b[39;00m \u001b[38;5;28;01mNone\u001b[39;00m:\n",
      "\u001b[0;31mKeyboardInterrupt\u001b[0m: "
     ]
    }
   ],
   "source": [
    "epochs = 50\n",
    "batch_size = 128\n",
    "optim = torch.optim.AdamW(model.parameters(), lr=5e-4, weight_decay=0.1)\n",
    "scheduler = torch.optim.lr_scheduler.CosineAnnealingLR(\n",
    "    optim, T_max=epochs\n",
    ")\n",
    "loss_fn = nn.CrossEntropyLoss()\n",
    "\n",
    "train_dl = DataLoader(train_ds, batch_size=batch_size, shuffle=True)\n",
    "valid_dl = DataLoader(valid_ds, batch_size=batch_size, shuffle=True)\n",
    "\n",
    "train_model(model, optim, loss_fn, train_dl, valid_dl, scheduler=scheduler, epochs=epochs, valid_every=1)"
   ]
  },
  {
   "cell_type": "markdown",
   "metadata": {},
   "source": [
    "Things that have helped classification accuracy:\n",
    "- higher dropout p, reduces overfitting \n",
    "- more aggressive dropout strategy: per layer in the MLP, also reduces early overfitting and helps lower val loss \n",
    "- lowering patch size from 16 -> 8 -> 4 -> 2 all showed some improvement in accuracy and validation loss, albeit training speed reduces with each patch size drop\n",
    "- Increasing transformer depth and num heads. Looking at some benchmarks, this model is underparameterized as it stands at 4M parameters. num heads = 8 and num_layers = 6 is used in examples online, run over 200 epochs. "
   ]
  }
 ],
 "metadata": {
  "kernelspec": {
   "display_name": ".venv",
   "language": "python",
   "name": "python3"
  },
  "language_info": {
   "codemirror_mode": {
    "name": "ipython",
    "version": 3
   },
   "file_extension": ".py",
   "mimetype": "text/x-python",
   "name": "python",
   "nbconvert_exporter": "python",
   "pygments_lexer": "ipython3",
   "version": "3.10.18"
  }
 },
 "nbformat": 4,
 "nbformat_minor": 2
}
